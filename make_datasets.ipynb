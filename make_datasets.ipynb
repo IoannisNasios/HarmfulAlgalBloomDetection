{
 "cells": [
  {
   "cell_type": "code",
   "execution_count": 1,
   "metadata": {
    "colab": {
     "base_uri": "https://localhost:8080/"
    },
    "executionInfo": {
     "elapsed": 356,
     "status": "ok",
     "timestamp": 1671436795770,
     "user": {
      "displayName": "Ioannis Nasios",
      "userId": "11761353373054103725"
     },
     "user_tz": -120
    },
    "id": "AmcJTBKIQoIl",
    "outputId": "1ff1522b-4685-4f57-a899-6e26a4bd0a9e"
   },
   "outputs": [
    {
     "name": "stdout",
     "output_type": "stream",
     "text": [
      "Python 3.7.15\r\n"
     ]
    }
   ],
   "source": [
    "!python3 --version"
   ]
  },
  {
   "cell_type": "code",
   "execution_count": 2,
   "metadata": {
    "executionInfo": {
     "elapsed": 5982,
     "status": "ok",
     "timestamp": 1671448127185,
     "user": {
      "displayName": "Ioannis Nasios",
      "userId": "11761353373054103725"
     },
     "user_tz": -120
    },
    "id": "OPOF_CovQLHF"
   },
   "outputs": [],
   "source": [
    "# %load_ext lab_black\n",
    "%load_ext autoreload\n",
    "%autoreload 2"
   ]
  },
  {
   "cell_type": "code",
   "execution_count": 3,
   "metadata": {
    "executionInfo": {
     "elapsed": 8,
     "status": "ok",
     "timestamp": 1671448127721,
     "user": {
      "displayName": "Ioannis Nasios",
      "userId": "11761353373054103725"
     },
     "user_tz": -120
    },
    "id": "sC7xm9abQLJE"
   },
   "outputs": [],
   "source": [
    "import cv2\n",
    "from datetime import timedelta\n",
    "import matplotlib.pyplot as plt\n",
    "import numpy as np\n",
    "# import odc.stac\n",
    "import pandas as pd\n",
    "from pathlib import Path\n",
    "from sklearn.metrics import mean_squared_error\n",
    "from sklearn.preprocessing import StandardScaler\n",
    "from tqdm import tqdm\n",
    "import gc\n",
    "\n",
    "import os\n",
    "os.environ[\"CUDA_VISIBLE_DEVICES\"] = \"0\"\n",
    "%matplotlib inline"
   ]
  },
  {
   "cell_type": "code",
   "execution_count": 4,
   "metadata": {
    "executionInfo": {
     "elapsed": 9,
     "status": "ok",
     "timestamp": 1671448127724,
     "user": {
      "displayName": "Ioannis Nasios",
      "userId": "11761353373054103725"
     },
     "user_tz": -120
    },
    "id": "_bCrWJ5xQmKS"
   },
   "outputs": [],
   "source": [
    "DATA_DIR = ''#Path.cwd().parent.resolve() / \"data/final/public\"\n",
    "# DATA_DIR = '/gdrive/My Drive/Colab Notebooks/HarmfulAlgalBloomDetection/'#Path.cwd().parent.resolve() / \"data/final/public\"\n",
    "# assert DATA_DIR.exists()"
   ]
  },
  {
   "cell_type": "code",
   "execution_count": 5,
   "metadata": {
    "colab": {
     "base_uri": "https://localhost:8080/",
     "height": 206
    },
    "executionInfo": {
     "elapsed": 77,
     "status": "ok",
     "timestamp": 1671448128303,
     "user": {
      "displayName": "Ioannis Nasios",
      "userId": "11761353373054103725"
     },
     "user_tz": -120
    },
    "id": "8uHtQC0_Q3zM",
    "outputId": "8e081799-4518-46d6-9093-68266fd60820"
   },
   "outputs": [
    {
     "data": {
      "text/html": [
       "<div>\n",
       "<style scoped>\n",
       "    .dataframe tbody tr th:only-of-type {\n",
       "        vertical-align: middle;\n",
       "    }\n",
       "\n",
       "    .dataframe tbody tr th {\n",
       "        vertical-align: top;\n",
       "    }\n",
       "\n",
       "    .dataframe thead th {\n",
       "        text-align: right;\n",
       "    }\n",
       "</style>\n",
       "<table border=\"1\" class=\"dataframe\">\n",
       "  <thead>\n",
       "    <tr style=\"text-align: right;\">\n",
       "      <th></th>\n",
       "      <th>uid</th>\n",
       "      <th>latitude</th>\n",
       "      <th>longitude</th>\n",
       "      <th>date</th>\n",
       "      <th>split</th>\n",
       "    </tr>\n",
       "  </thead>\n",
       "  <tbody>\n",
       "    <tr>\n",
       "      <th>0</th>\n",
       "      <td>aabm</td>\n",
       "      <td>39.080319</td>\n",
       "      <td>-86.430867</td>\n",
       "      <td>2018-05-14</td>\n",
       "      <td>train</td>\n",
       "    </tr>\n",
       "    <tr>\n",
       "      <th>1</th>\n",
       "      <td>aabn</td>\n",
       "      <td>36.559700</td>\n",
       "      <td>-121.510000</td>\n",
       "      <td>2016-08-31</td>\n",
       "      <td>test</td>\n",
       "    </tr>\n",
       "    <tr>\n",
       "      <th>2</th>\n",
       "      <td>aacd</td>\n",
       "      <td>35.875083</td>\n",
       "      <td>-78.878434</td>\n",
       "      <td>2020-11-19</td>\n",
       "      <td>train</td>\n",
       "    </tr>\n",
       "    <tr>\n",
       "      <th>3</th>\n",
       "      <td>aaee</td>\n",
       "      <td>35.487000</td>\n",
       "      <td>-79.062133</td>\n",
       "      <td>2016-08-24</td>\n",
       "      <td>train</td>\n",
       "    </tr>\n",
       "    <tr>\n",
       "      <th>4</th>\n",
       "      <td>aaff</td>\n",
       "      <td>38.049471</td>\n",
       "      <td>-99.827001</td>\n",
       "      <td>2019-07-23</td>\n",
       "      <td>train</td>\n",
       "    </tr>\n",
       "  </tbody>\n",
       "</table>\n",
       "</div>"
      ],
      "text/plain": [
       "    uid   latitude   longitude        date  split\n",
       "0  aabm  39.080319  -86.430867  2018-05-14  train\n",
       "1  aabn  36.559700 -121.510000  2016-08-31   test\n",
       "2  aacd  35.875083  -78.878434  2020-11-19  train\n",
       "3  aaee  35.487000  -79.062133  2016-08-24  train\n",
       "4  aaff  38.049471  -99.827001  2019-07-23  train"
      ]
     },
     "execution_count": 5,
     "metadata": {},
     "output_type": "execute_result"
    }
   ],
   "source": [
    "metadata = pd.read_csv(DATA_DIR + \"metadata.csv\")\n",
    "metadata.head()"
   ]
  },
  {
   "cell_type": "code",
   "execution_count": 6,
   "metadata": {
    "colab": {
     "base_uri": "https://localhost:8080/"
    },
    "executionInfo": {
     "elapsed": 73,
     "status": "ok",
     "timestamp": 1671448128305,
     "user": {
      "displayName": "Ioannis Nasios",
      "userId": "11761353373054103725"
     },
     "user_tz": -120
    },
    "id": "V4XhdDcX1mDK",
    "outputId": "e5cf9bec-34d5-4470-b3c8-e961c7305ae9"
   },
   "outputs": [
    {
     "data": {
      "text/plain": [
       "23570"
      ]
     },
     "execution_count": 6,
     "metadata": {},
     "output_type": "execute_result"
    }
   ],
   "source": [
    "len(metadata.uid.unique())"
   ]
  },
  {
   "cell_type": "code",
   "execution_count": 7,
   "metadata": {
    "colab": {
     "base_uri": "https://localhost:8080/"
    },
    "executionInfo": {
     "elapsed": 63,
     "status": "ok",
     "timestamp": 1671448128306,
     "user": {
      "displayName": "Ioannis Nasios",
      "userId": "11761353373054103725"
     },
     "user_tz": -120
    },
    "id": "mD__UUQh1x2m",
    "outputId": "0ed231fd-023e-4545-c904-39bf22f2c00d"
   },
   "outputs": [
    {
     "data": {
      "text/plain": [
       "12681"
      ]
     },
     "execution_count": 7,
     "metadata": {},
     "output_type": "execute_result"
    }
   ],
   "source": [
    "len(metadata.loc[:,['latitude','longitude' \t]].drop_duplicates())"
   ]
  },
  {
   "cell_type": "code",
   "execution_count": 8,
   "metadata": {
    "colab": {
     "base_uri": "https://localhost:8080/"
    },
    "executionInfo": {
     "elapsed": 53,
     "status": "ok",
     "timestamp": 1671448128307,
     "user": {
      "displayName": "Ioannis Nasios",
      "userId": "11761353373054103725"
     },
     "user_tz": -120
    },
    "id": "dwl0GLm02djH",
    "outputId": "3212a638-1e0b-4689-82f8-5eabe3a1c7e6"
   },
   "outputs": [
    {
     "data": {
      "text/plain": [
       "array([   79,   106,   107, ..., 23565, 23566, 23569])"
      ]
     },
     "execution_count": 8,
     "metadata": {},
     "output_type": "execute_result"
    }
   ],
   "source": [
    "duplicated_rows=np.where(metadata.loc[:,['latitude','longitude']].duplicated()==True)[0]\n",
    "duplicated_rows"
   ]
  },
  {
   "cell_type": "code",
   "execution_count": 9,
   "metadata": {
    "colab": {
     "base_uri": "https://localhost:8080/"
    },
    "executionInfo": {
     "elapsed": 45,
     "status": "ok",
     "timestamp": 1671448128308,
     "user": {
      "displayName": "Ioannis Nasios",
      "userId": "11761353373054103725"
     },
     "user_tz": -120
    },
    "id": "Mm-ufEvC2mi_",
    "outputId": "fc5c2a2d-ca3c-4b7e-d0fa-986fda8f3d22"
   },
   "outputs": [
    {
     "data": {
      "text/plain": [
       "uid                acdj\n",
       "latitude        37.3906\n",
       "longitude      -120.958\n",
       "date         2015-04-14\n",
       "split             train\n",
       "Name: 79, dtype: object"
      ]
     },
     "execution_count": 9,
     "metadata": {},
     "output_type": "execute_result"
    }
   ],
   "source": [
    "metadata.iloc[duplicated_rows[0],:]"
   ]
  },
  {
   "cell_type": "code",
   "execution_count": null,
   "metadata": {
    "executionInfo": {
     "elapsed": 35,
     "status": "ok",
     "timestamp": 1671448128308,
     "user": {
      "displayName": "Ioannis Nasios",
      "userId": "11761353373054103725"
     },
     "user_tz": -120
    },
    "id": "yEl6IpDf28jr"
   },
   "outputs": [],
   "source": []
  },
  {
   "cell_type": "code",
   "execution_count": 10,
   "metadata": {
    "colab": {
     "base_uri": "https://localhost:8080/",
     "height": 206
    },
    "executionInfo": {
     "elapsed": 35,
     "status": "ok",
     "timestamp": 1671448128309,
     "user": {
      "displayName": "Ioannis Nasios",
      "userId": "11761353373054103725"
     },
     "user_tz": -120
    },
    "id": "RH95IbIn2vtT",
    "outputId": "c76d671b-f663-488a-8436-9b3d304ed018"
   },
   "outputs": [
    {
     "data": {
      "text/html": [
       "<div>\n",
       "<style scoped>\n",
       "    .dataframe tbody tr th:only-of-type {\n",
       "        vertical-align: middle;\n",
       "    }\n",
       "\n",
       "    .dataframe tbody tr th {\n",
       "        vertical-align: top;\n",
       "    }\n",
       "\n",
       "    .dataframe thead th {\n",
       "        text-align: right;\n",
       "    }\n",
       "</style>\n",
       "<table border=\"1\" class=\"dataframe\">\n",
       "  <thead>\n",
       "    <tr style=\"text-align: right;\">\n",
       "      <th></th>\n",
       "      <th>uid</th>\n",
       "      <th>latitude</th>\n",
       "      <th>longitude</th>\n",
       "      <th>date</th>\n",
       "      <th>split</th>\n",
       "    </tr>\n",
       "  </thead>\n",
       "  <tbody>\n",
       "    <tr>\n",
       "      <th>22</th>\n",
       "      <td>aaqc</td>\n",
       "      <td>37.3906</td>\n",
       "      <td>-120.958</td>\n",
       "      <td>2013-07-09</td>\n",
       "      <td>train</td>\n",
       "    </tr>\n",
       "    <tr>\n",
       "      <th>79</th>\n",
       "      <td>acdj</td>\n",
       "      <td>37.3906</td>\n",
       "      <td>-120.958</td>\n",
       "      <td>2015-04-14</td>\n",
       "      <td>train</td>\n",
       "    </tr>\n",
       "    <tr>\n",
       "      <th>1701</th>\n",
       "      <td>bxeq</td>\n",
       "      <td>37.3906</td>\n",
       "      <td>-120.958</td>\n",
       "      <td>2019-09-10</td>\n",
       "      <td>train</td>\n",
       "    </tr>\n",
       "    <tr>\n",
       "      <th>2302</th>\n",
       "      <td>conk</td>\n",
       "      <td>37.3906</td>\n",
       "      <td>-120.958</td>\n",
       "      <td>2019-12-04</td>\n",
       "      <td>train</td>\n",
       "    </tr>\n",
       "    <tr>\n",
       "      <th>2409</th>\n",
       "      <td>crja</td>\n",
       "      <td>37.3906</td>\n",
       "      <td>-120.958</td>\n",
       "      <td>2021-07-13</td>\n",
       "      <td>train</td>\n",
       "    </tr>\n",
       "  </tbody>\n",
       "</table>\n",
       "</div>"
      ],
      "text/plain": [
       "       uid  latitude  longitude        date  split\n",
       "22    aaqc   37.3906   -120.958  2013-07-09  train\n",
       "79    acdj   37.3906   -120.958  2015-04-14  train\n",
       "1701  bxeq   37.3906   -120.958  2019-09-10  train\n",
       "2302  conk   37.3906   -120.958  2019-12-04  train\n",
       "2409  crja   37.3906   -120.958  2021-07-13  train"
      ]
     },
     "execution_count": 10,
     "metadata": {},
     "output_type": "execute_result"
    }
   ],
   "source": [
    "metadata.loc[metadata['latitude']==metadata.latitude.iloc[duplicated_rows[0]],:].head()"
   ]
  },
  {
   "cell_type": "code",
   "execution_count": 11,
   "metadata": {
    "colab": {
     "base_uri": "https://localhost:8080/"
    },
    "executionInfo": {
     "elapsed": 469,
     "status": "ok",
     "timestamp": 1671448128746,
     "user": {
      "displayName": "Ioannis Nasios",
      "userId": "11761353373054103725"
     },
     "user_tz": -120
    },
    "id": "-z622nn3RLdV",
    "outputId": "24112676-8eb2-459f-e895-0cb98a892ed0"
   },
   "outputs": [
    {
     "data": {
      "text/plain": [
       "train    17060\n",
       "test      6510\n",
       "Name: split, dtype: int64"
      ]
     },
     "execution_count": 11,
     "metadata": {},
     "output_type": "execute_result"
    }
   ],
   "source": [
    "metadata.split.value_counts(dropna=False)"
   ]
  },
  {
   "cell_type": "code",
   "execution_count": 12,
   "metadata": {
    "colab": {
     "base_uri": "https://localhost:8080/",
     "height": 143
    },
    "executionInfo": {
     "elapsed": 41,
     "status": "ok",
     "timestamp": 1671448130388,
     "user": {
      "displayName": "Ioannis Nasios",
      "userId": "11761353373054103725"
     },
     "user_tz": -120
    },
    "id": "BjhVjWbkRa5N",
    "outputId": "f7d8bf97-9524-441d-e9e8-5a8f88c34c41"
   },
   "outputs": [
    {
     "data": {
      "text/html": [
       "<div>\n",
       "<style scoped>\n",
       "    .dataframe tbody tr th:only-of-type {\n",
       "        vertical-align: middle;\n",
       "    }\n",
       "\n",
       "    .dataframe tbody tr th {\n",
       "        vertical-align: top;\n",
       "    }\n",
       "\n",
       "    .dataframe thead th {\n",
       "        text-align: right;\n",
       "    }\n",
       "</style>\n",
       "<table border=\"1\" class=\"dataframe\">\n",
       "  <thead>\n",
       "    <tr style=\"text-align: right;\">\n",
       "      <th></th>\n",
       "      <th>min_date</th>\n",
       "      <th>max_date</th>\n",
       "    </tr>\n",
       "    <tr>\n",
       "      <th>split</th>\n",
       "      <th></th>\n",
       "      <th></th>\n",
       "    </tr>\n",
       "  </thead>\n",
       "  <tbody>\n",
       "    <tr>\n",
       "      <th>test</th>\n",
       "      <td>2013-01-08</td>\n",
       "      <td>2021-12-29</td>\n",
       "    </tr>\n",
       "    <tr>\n",
       "      <th>train</th>\n",
       "      <td>2013-01-04</td>\n",
       "      <td>2021-12-14</td>\n",
       "    </tr>\n",
       "  </tbody>\n",
       "</table>\n",
       "</div>"
      ],
      "text/plain": [
       "        min_date   max_date\n",
       "split                      \n",
       "test  2013-01-08 2021-12-29\n",
       "train 2013-01-04 2021-12-14"
      ]
     },
     "execution_count": 12,
     "metadata": {},
     "output_type": "execute_result"
    }
   ],
   "source": [
    "# convert date to pd.datetime\n",
    "metadata.date = pd.to_datetime(metadata.date)\n",
    "\n",
    "# what is the date range?\n",
    "metadata.groupby(\"split\").agg(min_date=(\"date\", min), max_date=(\"date\", max))"
   ]
  },
  {
   "cell_type": "code",
   "execution_count": null,
   "metadata": {},
   "outputs": [],
   "source": []
  },
  {
   "cell_type": "code",
   "execution_count": 13,
   "metadata": {
    "colab": {
     "base_uri": "https://localhost:8080/",
     "height": 311
    },
    "executionInfo": {
     "elapsed": 39,
     "status": "ok",
     "timestamp": 1671448130390,
     "user": {
      "displayName": "Ioannis Nasios",
      "userId": "11761353373054103725"
     },
     "user_tz": -120
    },
    "id": "IdKW5sW5Rgmn",
    "outputId": "d86e26de-ed95-46bb-d72a-04cb4190c3fd"
   },
   "outputs": [
    {
     "data": {
      "image/png": "[encoded data removed]",
      "text/plain": [
       "<Figure size 640x480 with 1 Axes>"
      ]
     },
     "metadata": {},
     "output_type": "display_data"
    }
   ],
   "source": [
    "# what years are in the data?\n",
    "pd.crosstab(metadata.date.dt.year, metadata.split).plot(kind=\"bar\")\n",
    "plt.ylabel(\"Number of samples\")\n",
    "plt.xlabel(\"Year\")\n",
    "plt.title(\"Distribution of years in the data\")\n",
    "plt.show()"
   ]
  },
  {
   "cell_type": "code",
   "execution_count": 14,
   "metadata": {
    "colab": {
     "base_uri": "https://localhost:8080/"
    },
    "executionInfo": {
     "elapsed": 35,
     "status": "ok",
     "timestamp": 1671448130390,
     "user": {
      "displayName": "Ioannis Nasios",
      "userId": "11761353373054103725"
     },
     "user_tz": -120
    },
    "id": "hi93IqmGRoMH",
    "outputId": "f1756d72-a185-4b23-d123-4ebfa92ac1dc"
   },
   "outputs": [
    {
     "data": {
      "text/plain": [
       "summer    10813\n",
       "spring     5045\n",
       "fall       4758\n",
       "winter     2954\n",
       "Name: season, dtype: int64"
      ]
     },
     "execution_count": 14,
     "metadata": {},
     "output_type": "execute_result"
    }
   ],
   "source": [
    "# what seasons are the data points from?\n",
    "\n",
    "metadata[\"season\"] = (\n",
    "    metadata.date.dt.month.replace([12, 1, 2], \"winter\")\n",
    "    .replace([3, 4, 5], \"spring\")\n",
    "    .replace([6, 7, 8], \"summer\")\n",
    "    .replace([9, 10, 11], \"fall\")\n",
    ")\n",
    "metadata.season.value_counts()"
   ]
  },
  {
   "cell_type": "code",
   "execution_count": 15,
   "metadata": {
    "colab": {
     "base_uri": "https://localhost:8080/",
     "height": 206
    },
    "executionInfo": {
     "elapsed": 94,
     "status": "ok",
     "timestamp": 1671448134135,
     "user": {
      "displayName": "Ioannis Nasios",
      "userId": "11761353373054103725"
     },
     "user_tz": -120
    },
    "id": "d3LNKOfBRuoA",
    "outputId": "59875884-1447-46ea-b1b3-df8e74d997b3"
   },
   "outputs": [
    {
     "data": {
      "text/html": [
       "<div>\n",
       "<style scoped>\n",
       "    .dataframe tbody tr th:only-of-type {\n",
       "        vertical-align: middle;\n",
       "    }\n",
       "\n",
       "    .dataframe tbody tr th {\n",
       "        vertical-align: top;\n",
       "    }\n",
       "\n",
       "    .dataframe thead th {\n",
       "        text-align: right;\n",
       "    }\n",
       "</style>\n",
       "<table border=\"1\" class=\"dataframe\">\n",
       "  <thead>\n",
       "    <tr style=\"text-align: right;\">\n",
       "      <th></th>\n",
       "      <th>uid</th>\n",
       "      <th>region</th>\n",
       "      <th>severity</th>\n",
       "      <th>density</th>\n",
       "    </tr>\n",
       "  </thead>\n",
       "  <tbody>\n",
       "    <tr>\n",
       "      <th>0</th>\n",
       "      <td>aabm</td>\n",
       "      <td>midwest</td>\n",
       "      <td>1</td>\n",
       "      <td>585.0</td>\n",
       "    </tr>\n",
       "    <tr>\n",
       "      <th>1</th>\n",
       "      <td>aacd</td>\n",
       "      <td>south</td>\n",
       "      <td>1</td>\n",
       "      <td>290.0</td>\n",
       "    </tr>\n",
       "    <tr>\n",
       "      <th>2</th>\n",
       "      <td>aaee</td>\n",
       "      <td>south</td>\n",
       "      <td>1</td>\n",
       "      <td>1614.0</td>\n",
       "    </tr>\n",
       "    <tr>\n",
       "      <th>3</th>\n",
       "      <td>aaff</td>\n",
       "      <td>midwest</td>\n",
       "      <td>3</td>\n",
       "      <td>111825.0</td>\n",
       "    </tr>\n",
       "    <tr>\n",
       "      <th>4</th>\n",
       "      <td>aafl</td>\n",
       "      <td>midwest</td>\n",
       "      <td>4</td>\n",
       "      <td>2017313.0</td>\n",
       "    </tr>\n",
       "  </tbody>\n",
       "</table>\n",
       "</div>"
      ],
      "text/plain": [
       "    uid   region  severity    density\n",
       "0  aabm  midwest         1      585.0\n",
       "1  aacd    south         1      290.0\n",
       "2  aaee    south         1     1614.0\n",
       "3  aaff  midwest         3   111825.0\n",
       "4  aafl  midwest         4  2017313.0"
      ]
     },
     "execution_count": 15,
     "metadata": {},
     "output_type": "execute_result"
    }
   ],
   "source": [
    "train_labels = pd.read_csv(DATA_DIR + \"train_labels.csv\")\n",
    "train_labels.head()"
   ]
  },
  {
   "cell_type": "code",
   "execution_count": 16,
   "metadata": {},
   "outputs": [
    {
     "data": {
      "text/plain": [
       "(17060, 4)"
      ]
     },
     "execution_count": 16,
     "metadata": {},
     "output_type": "execute_result"
    }
   ],
   "source": [
    "train_labels.shape"
   ]
  },
  {
   "cell_type": "code",
   "execution_count": 17,
   "metadata": {
    "executionInfo": {
     "elapsed": 88,
     "status": "ok",
     "timestamp": 1671448134137,
     "user": {
      "displayName": "Ioannis Nasios",
      "userId": "11761353373054103725"
     },
     "user_tz": -120
    },
    "id": "t3RXLgLeR5H3"
   },
   "outputs": [],
   "source": [
    "train_labels_and_metadata = train_labels.merge(\n",
    "    metadata, how=\"left\", left_on=\"uid\", right_on=\"uid\", validate=\"1:1\"\n",
    ")"
   ]
  },
  {
   "cell_type": "code",
   "execution_count": 18,
   "metadata": {
    "colab": {
     "base_uri": "https://localhost:8080/",
     "height": 312
    },
    "executionInfo": {
     "elapsed": 86,
     "status": "ok",
     "timestamp": 1671448134139,
     "user": {
      "displayName": "Ioannis Nasios",
      "userId": "11761353373054103725"
     },
     "user_tz": -120
    },
    "id": "7h_9Ei0sR-W5",
    "outputId": "e745f945-3cd7-4921-87ac-23b5588f11bf"
   },
   "outputs": [
    {
     "data": {
      "text/plain": [
       "Text(0.5, 1.0, 'Train labels severity level counts')"
      ]
     },
     "execution_count": 18,
     "metadata": {},
     "output_type": "execute_result"
    },
    {
     "data": {
      "image/png": "[encoded data removed]",
      "text/plain": [
       "<Figure size 640x480 with 1 Axes>"
      ]
     },
     "metadata": {},
     "output_type": "display_data"
    }
   ],
   "source": [
    "severity_counts = (\n",
    "    train_labels.replace(\n",
    "        {\n",
    "            \"severity\": {\n",
    "                1: \"1 (<20,000)\",\n",
    "                2: \"2 (20,000-100,000)\",\n",
    "                3: \"3 (100,000 - 1,000,000)\",\n",
    "                4: \"4 (1,00,000 - 10,000,000)\",\n",
    "                5: \"5 (>10,000,00)\",\n",
    "            }\n",
    "        }\n",
    "    )\n",
    "    .severity.value_counts()\n",
    "    .sort_index(ascending=False)\n",
    ")\n",
    "plt.barh(severity_counts.index, severity_counts.values)\n",
    "plt.xlabel(\"Number of samples\")\n",
    "plt.ylabel(\"Severity (range in cells/mL)\")\n",
    "plt.title(\"Train labels severity level counts\")"
   ]
  },
  {
   "cell_type": "code",
   "execution_count": 19,
   "metadata": {
    "colab": {
     "base_uri": "https://localhost:8080/"
    },
    "executionInfo": {
     "elapsed": 74,
     "status": "ok",
     "timestamp": 1671448134141,
     "user": {
      "displayName": "Ioannis Nasios",
      "userId": "11761353373054103725"
     },
     "user_tz": -120
    },
    "id": "h_-HXWylSAmg",
    "outputId": "6d3d5f91-72c0-4072-9084-1dab6b94cbd6"
   },
   "outputs": [
    {
     "data": {
      "text/plain": [
       "count    1.706000e+04\n",
       "mean     1.074537e+06\n",
       "std      6.836693e+06\n",
       "min      0.000000e+00\n",
       "25%      4.066000e+03\n",
       "50%      3.270975e+04\n",
       "75%      4.849192e+05\n",
       "max      8.046675e+08\n",
       "Name: density, dtype: float64"
      ]
     },
     "execution_count": 19,
     "metadata": {},
     "output_type": "execute_result"
    }
   ],
   "source": [
    "train_labels.density.describe()"
   ]
  },
  {
   "cell_type": "code",
   "execution_count": 20,
   "metadata": {
    "colab": {
     "base_uri": "https://localhost:8080/"
    },
    "executionInfo": {
     "elapsed": 66,
     "status": "ok",
     "timestamp": 1671448134142,
     "user": {
      "displayName": "Ioannis Nasios",
      "userId": "11761353373054103725"
     },
     "user_tz": -120
    },
    "id": "LDSjxLrSSC6X",
    "outputId": "1196413b-71ea-4d9c-ac48-8bb1ffdb3d74"
   },
   "outputs": [
    {
     "data": {
      "text/plain": [
       "91"
      ]
     },
     "execution_count": 20,
     "metadata": {},
     "output_type": "execute_result"
    }
   ],
   "source": [
    "(train_labels.density == 0).sum()"
   ]
  },
  {
   "cell_type": "code",
   "execution_count": 21,
   "metadata": {},
   "outputs": [
    {
     "data": {
      "text/plain": [
       "((23570, 6), (17060, 4))"
      ]
     },
     "execution_count": 21,
     "metadata": {},
     "output_type": "execute_result"
    }
   ],
   "source": [
    "metadata.shape,train_labels.shape"
   ]
  },
  {
   "cell_type": "code",
   "execution_count": 22,
   "metadata": {},
   "outputs": [],
   "source": [
    "#ADD train labels to metadata\n",
    "\n",
    "metadata=metadata.merge(train_labels,on='uid',how='left')\n",
    "metadata.loc[:,['severity','density']]=metadata.loc[:,['severity','density']].fillna(-1)"
   ]
  },
  {
   "cell_type": "code",
   "execution_count": 23,
   "metadata": {},
   "outputs": [
    {
     "data": {
      "text/html": [
       "<div>\n",
       "<style scoped>\n",
       "    .dataframe tbody tr th:only-of-type {\n",
       "        vertical-align: middle;\n",
       "    }\n",
       "\n",
       "    .dataframe tbody tr th {\n",
       "        vertical-align: top;\n",
       "    }\n",
       "\n",
       "    .dataframe thead th {\n",
       "        text-align: right;\n",
       "    }\n",
       "</style>\n",
       "<table border=\"1\" class=\"dataframe\">\n",
       "  <thead>\n",
       "    <tr style=\"text-align: right;\">\n",
       "      <th></th>\n",
       "      <th>uid</th>\n",
       "      <th>latitude</th>\n",
       "      <th>longitude</th>\n",
       "      <th>date</th>\n",
       "      <th>split</th>\n",
       "      <th>season</th>\n",
       "      <th>region</th>\n",
       "      <th>severity</th>\n",
       "      <th>density</th>\n",
       "    </tr>\n",
       "  </thead>\n",
       "  <tbody>\n",
       "    <tr>\n",
       "      <th>0</th>\n",
       "      <td>aabm</td>\n",
       "      <td>39.080319</td>\n",
       "      <td>-86.430867</td>\n",
       "      <td>2018-05-14</td>\n",
       "      <td>train</td>\n",
       "      <td>spring</td>\n",
       "      <td>midwest</td>\n",
       "      <td>1.0</td>\n",
       "      <td>585.0</td>\n",
       "    </tr>\n",
       "    <tr>\n",
       "      <th>1</th>\n",
       "      <td>aabn</td>\n",
       "      <td>36.559700</td>\n",
       "      <td>-121.510000</td>\n",
       "      <td>2016-08-31</td>\n",
       "      <td>test</td>\n",
       "      <td>summer</td>\n",
       "      <td>NaN</td>\n",
       "      <td>-1.0</td>\n",
       "      <td>-1.0</td>\n",
       "    </tr>\n",
       "    <tr>\n",
       "      <th>2</th>\n",
       "      <td>aacd</td>\n",
       "      <td>35.875083</td>\n",
       "      <td>-78.878434</td>\n",
       "      <td>2020-11-19</td>\n",
       "      <td>train</td>\n",
       "      <td>fall</td>\n",
       "      <td>south</td>\n",
       "      <td>1.0</td>\n",
       "      <td>290.0</td>\n",
       "    </tr>\n",
       "    <tr>\n",
       "      <th>3</th>\n",
       "      <td>aaee</td>\n",
       "      <td>35.487000</td>\n",
       "      <td>-79.062133</td>\n",
       "      <td>2016-08-24</td>\n",
       "      <td>train</td>\n",
       "      <td>summer</td>\n",
       "      <td>south</td>\n",
       "      <td>1.0</td>\n",
       "      <td>1614.0</td>\n",
       "    </tr>\n",
       "    <tr>\n",
       "      <th>4</th>\n",
       "      <td>aaff</td>\n",
       "      <td>38.049471</td>\n",
       "      <td>-99.827001</td>\n",
       "      <td>2019-07-23</td>\n",
       "      <td>train</td>\n",
       "      <td>summer</td>\n",
       "      <td>midwest</td>\n",
       "      <td>3.0</td>\n",
       "      <td>111825.0</td>\n",
       "    </tr>\n",
       "    <tr>\n",
       "      <th>...</th>\n",
       "      <td>...</td>\n",
       "      <td>...</td>\n",
       "      <td>...</td>\n",
       "      <td>...</td>\n",
       "      <td>...</td>\n",
       "      <td>...</td>\n",
       "      <td>...</td>\n",
       "      <td>...</td>\n",
       "      <td>...</td>\n",
       "    </tr>\n",
       "    <tr>\n",
       "      <th>23565</th>\n",
       "      <td>zzvv</td>\n",
       "      <td>36.708500</td>\n",
       "      <td>-121.749000</td>\n",
       "      <td>2014-12-02</td>\n",
       "      <td>test</td>\n",
       "      <td>winter</td>\n",
       "      <td>NaN</td>\n",
       "      <td>-1.0</td>\n",
       "      <td>-1.0</td>\n",
       "    </tr>\n",
       "    <tr>\n",
       "      <th>23566</th>\n",
       "      <td>zzwo</td>\n",
       "      <td>39.792190</td>\n",
       "      <td>-99.971050</td>\n",
       "      <td>2017-06-19</td>\n",
       "      <td>train</td>\n",
       "      <td>summer</td>\n",
       "      <td>midwest</td>\n",
       "      <td>2.0</td>\n",
       "      <td>48510.0</td>\n",
       "    </tr>\n",
       "    <tr>\n",
       "      <th>23567</th>\n",
       "      <td>zzwq</td>\n",
       "      <td>35.794000</td>\n",
       "      <td>-79.012551</td>\n",
       "      <td>2015-03-24</td>\n",
       "      <td>train</td>\n",
       "      <td>spring</td>\n",
       "      <td>south</td>\n",
       "      <td>1.0</td>\n",
       "      <td>1271.0</td>\n",
       "    </tr>\n",
       "    <tr>\n",
       "      <th>23568</th>\n",
       "      <td>zzyb</td>\n",
       "      <td>35.742000</td>\n",
       "      <td>-79.238600</td>\n",
       "      <td>2016-11-21</td>\n",
       "      <td>train</td>\n",
       "      <td>fall</td>\n",
       "      <td>south</td>\n",
       "      <td>1.0</td>\n",
       "      <td>9682.0</td>\n",
       "    </tr>\n",
       "    <tr>\n",
       "      <th>23569</th>\n",
       "      <td>zzzi</td>\n",
       "      <td>39.767323</td>\n",
       "      <td>-96.028617</td>\n",
       "      <td>2015-08-31</td>\n",
       "      <td>test</td>\n",
       "      <td>summer</td>\n",
       "      <td>NaN</td>\n",
       "      <td>-1.0</td>\n",
       "      <td>-1.0</td>\n",
       "    </tr>\n",
       "  </tbody>\n",
       "</table>\n",
       "<p>23570 rows × 9 columns</p>\n",
       "</div>"
      ],
      "text/plain": [
       "        uid   latitude   longitude       date  split  season   region  \\\n",
       "0      aabm  39.080319  -86.430867 2018-05-14  train  spring  midwest   \n",
       "1      aabn  36.559700 -121.510000 2016-08-31   test  summer      NaN   \n",
       "2      aacd  35.875083  -78.878434 2020-11-19  train    fall    south   \n",
       "3      aaee  35.487000  -79.062133 2016-08-24  train  summer    south   \n",
       "4      aaff  38.049471  -99.827001 2019-07-23  train  summer  midwest   \n",
       "...     ...        ...         ...        ...    ...     ...      ...   \n",
       "23565  zzvv  36.708500 -121.749000 2014-12-02   test  winter      NaN   \n",
       "23566  zzwo  39.792190  -99.971050 2017-06-19  train  summer  midwest   \n",
       "23567  zzwq  35.794000  -79.012551 2015-03-24  train  spring    south   \n",
       "23568  zzyb  35.742000  -79.238600 2016-11-21  train    fall    south   \n",
       "23569  zzzi  39.767323  -96.028617 2015-08-31   test  summer      NaN   \n",
       "\n",
       "       severity   density  \n",
       "0           1.0     585.0  \n",
       "1          -1.0      -1.0  \n",
       "2           1.0     290.0  \n",
       "3           1.0    1614.0  \n",
       "4           3.0  111825.0  \n",
       "...         ...       ...  \n",
       "23565      -1.0      -1.0  \n",
       "23566       2.0   48510.0  \n",
       "23567       1.0    1271.0  \n",
       "23568       1.0    9682.0  \n",
       "23569      -1.0      -1.0  \n",
       "\n",
       "[23570 rows x 9 columns]"
      ]
     },
     "execution_count": 23,
     "metadata": {},
     "output_type": "execute_result"
    }
   ],
   "source": [
    "metadata"
   ]
  },
  {
   "cell_type": "code",
   "execution_count": 24,
   "metadata": {
    "colab": {
     "base_uri": "https://localhost:8080/",
     "height": 238
    },
    "executionInfo": {
     "elapsed": 56,
     "status": "ok",
     "timestamp": 1671448134143,
     "user": {
      "displayName": "Ioannis Nasios",
      "userId": "11761353373054103725"
     },
     "user_tz": -120
    },
    "id": "dQEVMT1CSEno",
    "outputId": "5313ed0e-6c44-4107-d534-6bfd10273fa4"
   },
   "outputs": [
    {
     "data": {
      "text/html": [
       "<div>\n",
       "<style scoped>\n",
       "    .dataframe tbody tr th:only-of-type {\n",
       "        vertical-align: middle;\n",
       "    }\n",
       "\n",
       "    .dataframe tbody tr th {\n",
       "        vertical-align: top;\n",
       "    }\n",
       "\n",
       "    .dataframe thead th {\n",
       "        text-align: right;\n",
       "    }\n",
       "</style>\n",
       "<table border=\"1\" class=\"dataframe\">\n",
       "  <thead>\n",
       "    <tr style=\"text-align: right;\">\n",
       "      <th></th>\n",
       "      <th>region</th>\n",
       "      <th>severity</th>\n",
       "    </tr>\n",
       "    <tr>\n",
       "      <th>uid</th>\n",
       "      <th></th>\n",
       "      <th></th>\n",
       "    </tr>\n",
       "  </thead>\n",
       "  <tbody>\n",
       "    <tr>\n",
       "      <th>aabn</th>\n",
       "      <td>west</td>\n",
       "      <td>1</td>\n",
       "    </tr>\n",
       "    <tr>\n",
       "      <th>aair</th>\n",
       "      <td>west</td>\n",
       "      <td>1</td>\n",
       "    </tr>\n",
       "    <tr>\n",
       "      <th>aajw</th>\n",
       "      <td>northeast</td>\n",
       "      <td>1</td>\n",
       "    </tr>\n",
       "    <tr>\n",
       "      <th>aalr</th>\n",
       "      <td>midwest</td>\n",
       "      <td>1</td>\n",
       "    </tr>\n",
       "    <tr>\n",
       "      <th>aalw</th>\n",
       "      <td>west</td>\n",
       "      <td>1</td>\n",
       "    </tr>\n",
       "  </tbody>\n",
       "</table>\n",
       "</div>"
      ],
      "text/plain": [
       "         region  severity\n",
       "uid                      \n",
       "aabn       west         1\n",
       "aair       west         1\n",
       "aajw  northeast         1\n",
       "aalr    midwest         1\n",
       "aalw       west         1"
      ]
     },
     "execution_count": 24,
     "metadata": {},
     "output_type": "execute_result"
    }
   ],
   "source": [
    "submission_format = pd.read_csv(DATA_DIR + \"submission_format.csv\", index_col=0)\n",
    "submission_format.head()"
   ]
  },
  {
   "cell_type": "code",
   "execution_count": 25,
   "metadata": {
    "colab": {
     "base_uri": "https://localhost:8080/"
    },
    "executionInfo": {
     "elapsed": 54,
     "status": "ok",
     "timestamp": 1671448134145,
     "user": {
      "displayName": "Ioannis Nasios",
      "userId": "11761353373054103725"
     },
     "user_tz": -120
    },
    "id": "BbzZohUOSGf3",
    "outputId": "ff1a2174-b0e3-4f82-8340-5d923af9489a"
   },
   "outputs": [
    {
     "data": {
      "text/plain": [
       "(6510, 2)"
      ]
     },
     "execution_count": 25,
     "metadata": {},
     "output_type": "execute_result"
    }
   ],
   "source": [
    "submission_format.shape"
   ]
  },
  {
   "cell_type": "code",
   "execution_count": 26,
   "metadata": {},
   "outputs": [
    {
     "data": {
      "text/plain": [
       "(23570, 9)"
      ]
     },
     "execution_count": 26,
     "metadata": {},
     "output_type": "execute_result"
    }
   ],
   "source": [
    "metadata.shape"
   ]
  },
  {
   "cell_type": "code",
   "execution_count": 27,
   "metadata": {},
   "outputs": [
    {
     "data": {
      "text/plain": [
       "0"
      ]
     },
     "execution_count": 27,
     "metadata": {},
     "output_type": "execute_result"
    }
   ],
   "source": [
    "len(submission_format)+len(train_labels)-len(metadata)\n"
   ]
  },
  {
   "cell_type": "code",
   "execution_count": 28,
   "metadata": {
    "colab": {
     "base_uri": "https://localhost:8080/"
    },
    "executionInfo": {
     "elapsed": 527,
     "status": "ok",
     "timestamp": 1671448134628,
     "user": {
      "displayName": "Ioannis Nasios",
      "userId": "11761353373054103725"
     },
     "user_tz": -120
    },
    "id": "wmRXPRsiSLHB",
    "outputId": "6022fe39-47c7-4d6a-d562-d1fc14e3167d"
   },
   "outputs": [
    {
     "data": {
      "text/plain": [
       "uid                         garm\n",
       "latitude                41.98006\n",
       "longitude             -110.65734\n",
       "date         2021-09-27 00:00:00\n",
       "split                      train\n",
       "season                      fall\n",
       "region                      west\n",
       "severity                     5.0\n",
       "density              12267752.74\n",
       "Name: 5461, dtype: object"
      ]
     },
     "execution_count": 28,
     "metadata": {},
     "output_type": "execute_result"
    }
   ],
   "source": [
    "example_row = metadata[metadata.uid == \"garm\"].iloc[0]\n",
    "example_row"
   ]
  },
  {
   "cell_type": "code",
   "execution_count": 29,
   "metadata": {},
   "outputs": [],
   "source": [
    "def image_to_features(image_array):\n",
    "    \"\"\"\n",
    "    Convert an image array of the form (color band, height, width) to a\n",
    "    1-dimensional list of features. Returns a list where the first three\n",
    "    values are the averages of each color band, and the second three\n",
    "    values are the medians of each color band.\n",
    "    \"\"\"\n",
    "    averages = image_array.mean(axis=(1, 2)).tolist()\n",
    "    medians = np.median(image_array, axis=(1, 2)).tolist()\n",
    "    stds = np.std(image_array, axis=(1, 2)).tolist()\n",
    "\n",
    "    # c0 = int(image_array.shape[1]/2)\n",
    "    # c1 = int(image_array.shape[1]/2)\n",
    "    # averages_zoomin = image_array[:,c0-1:c0+1,c1-1:c1+1].mean(axis=(1, 2)).tolist()\n",
    "    # medians_zoomin = np.median(image_array[:,c0-1:c0+1,c1-1:c1+1], axis=(1, 2)).tolist()\n",
    "\n",
    "    return averages + medians + stds #+averages_zoomin + medians_zoomin"
   ]
  },
  {
   "cell_type": "code",
   "execution_count": 30,
   "metadata": {
    "colab": {
     "base_uri": "https://localhost:8080/"
    },
    "executionInfo": {
     "elapsed": 13,
     "status": "ok",
     "timestamp": 1671448166552,
     "user": {
      "displayName": "Ioannis Nasios",
      "userId": "11761353373054103725"
     },
     "user_tz": -120
    },
    "id": "77GIYd9DT_5b",
    "outputId": "c35a45e7-7216-4ec4-e082-dc397c853b24"
   },
   "outputs": [
    {
     "data": {
      "text/plain": [
       "train    17060\n",
       "test      6510\n",
       "Name: split, dtype: int64"
      ]
     },
     "execution_count": 30,
     "metadata": {},
     "output_type": "execute_result"
    }
   ],
   "source": [
    "# take a random subset of the training data for the benchmark\n",
    "# train_subset = metadata[metadata[\"split\"] == \"train\"].sample(n=2500, random_state=2)\n",
    "train_subset = metadata[metadata[\"split\"] == \"train\"]\n",
    "\n",
    "# combine train subset with all test data\n",
    "metadata_subset = pd.concat([train_subset, metadata[metadata[\"split\"] == \"test\"]])\n",
    "metadata_subset.split.value_counts(dropna=False)"
   ]
  },
  {
   "cell_type": "code",
   "execution_count": null,
   "metadata": {
    "executionInfo": {
     "elapsed": 12,
     "status": "ok",
     "timestamp": 1671448166554,
     "user": {
      "displayName": "Ioannis Nasios",
      "userId": "11761353373054103725"
     },
     "user_tz": -120
    },
    "id": "9YwedsccBwEi"
   },
   "outputs": [],
   "source": []
  },
  {
   "cell_type": "code",
   "execution_count": null,
   "metadata": {},
   "outputs": [],
   "source": []
  },
  {
   "cell_type": "code",
   "execution_count": 31,
   "metadata": {},
   "outputs": [],
   "source": [
    "# np.abs(altDF.altitude-altDF.altitude.astype(int)).sum()"
   ]
  },
  {
   "cell_type": "code",
   "execution_count": 32,
   "metadata": {},
   "outputs": [],
   "source": [
    "#to be used in group kfold split\n",
    "\n",
    "metadata['latlong']=metadata['latitude'].round(2).astype(str)+'_'+metadata['longitude'].round(2).astype(str)\n",
    "metadata['latlong1']=metadata['latitude'].round(1).astype(str)+'_'+metadata['longitude'].round(1).astype(str)\n",
    "metadata['latlong0']=metadata['latitude'].round(0).astype(str)+'_'+metadata['longitude'].round(0).astype(str)\n",
    "metadata['latlong10']=metadata['latitude'].round(1).astype(str)+'_'+metadata['longitude'].round(0).astype(str)\n",
    "unique_points=np.unique(metadata.latlong)\n",
    "unique_points1=np.unique(metadata.latlong1)\n",
    "unique_points0=np.unique(metadata.latlong0)\n",
    "unique_points10=np.unique(metadata.latlong10)\n",
    "# metadata.head()"
   ]
  },
  {
   "cell_type": "code",
   "execution_count": 33,
   "metadata": {},
   "outputs": [],
   "source": [
    "# metadata.shape,altDF.shape"
   ]
  },
  {
   "cell_type": "code",
   "execution_count": 34,
   "metadata": {},
   "outputs": [
    {
     "data": {
      "text/plain": [
       "(23556, 'oeuw_alt123.jpg')"
      ]
     },
     "execution_count": 34,
     "metadata": {},
     "output_type": "execute_result"
    }
   ],
   "source": [
    "#GET geomorhological features\n",
    "DEM_DATA_DIR = \"benchmark/dem/\"#DATA_DIR.parents[1] / \"benchmark\"\n",
    "DEM_DATA_DIR = \"benchmark/dem2K/\"#DATA_DIR.parents[1] / \"benchmark\"\n",
    "geomorthology_files=os.listdir(DEM_DATA_DIR)\n",
    "len(geomorthology_files),geomorthology_files[0]"
   ]
  },
  {
   "cell_type": "code",
   "execution_count": null,
   "metadata": {},
   "outputs": [],
   "source": []
  },
  {
   "cell_type": "code",
   "execution_count": 35,
   "metadata": {
    "scrolled": true
   },
   "outputs": [
    {
     "name": "stderr",
     "output_type": "stream",
     "text": [
      "100%|██████████| 23556/23556 [02:47<00:00, 140.54it/s]\n"
     ]
    }
   ],
   "source": [
    "\n",
    "\n",
    "# RESIZE_SIZE=128\n",
    "DEM_RESIZE_SIZE=32\n",
    "dem_featuresL=[]\n",
    "rgbDEM=[]\n",
    "for f in tqdm(geomorthology_files):\n",
    "# for row in tqdm(metadata_subset.iloc[:2,:].itertuples(), total=2):\n",
    "    im = cv2.imread(DEM_DATA_DIR+f, cv2.IMREAD_GRAYSCALE)\n",
    "\n",
    "    dem_features = image_to_features(np.expand_dims(im,0))\n",
    "    dem_featuresL.append(dem_features)\n",
    "    if im.max()!=im.min():\n",
    "        im=(im-im.min())/(im.max()-im.min())\n",
    "    else:\n",
    "        im*=0\n",
    "    im=cv2.resize(im,(DEM_RESIZE_SIZE, DEM_RESIZE_SIZE))\n",
    "    rgbDEM.append((im*255).astype('uint8'))\n",
    "        \n",
    "rgbDEM=np.stack(rgbDEM)    \n",
    "dem_featuresL=np.stack(dem_featuresL)    \n"
   ]
  },
  {
   "cell_type": "code",
   "execution_count": 36,
   "metadata": {},
   "outputs": [],
   "source": [
    "np.savez_compressed('dem2K', a=rgbDEM, b=dem_featuresL)"
   ]
  },
  {
   "cell_type": "code",
   "execution_count": 37,
   "metadata": {},
   "outputs": [
    {
     "data": {
      "text/plain": [
       "(['oeuw', 'tjhp', 'crel', 'zqhi', 'estg'], [123, 19, 8, 85, -4])"
      ]
     },
     "execution_count": 37,
     "metadata": {},
     "output_type": "execute_result"
    }
   ],
   "source": [
    "dem_featuresL.shape\n",
    "geo_uids=[x.split('_')[0] for x in geomorthology_files]\n",
    "geo_alts=[int(x.split('_')[1].split('.')[0][3:]) for x in geomorthology_files]\n",
    "geo_uids[:5],geo_alts[:5]"
   ]
  },
  {
   "cell_type": "code",
   "execution_count": 38,
   "metadata": {},
   "outputs": [
    {
     "data": {
      "image/png": "[encoded data removed]",
      "text/plain": [
       "<Figure size 640x480 with 1 Axes>"
      ]
     },
     "metadata": {},
     "output_type": "display_data"
    }
   ],
   "source": [
    "plt.imshow(rgbDEM[101])\n",
    "plt.show()"
   ]
  },
  {
   "cell_type": "code",
   "execution_count": 39,
   "metadata": {},
   "outputs": [
    {
     "data": {
      "text/plain": [
       "(23556, 32, 32)"
      ]
     },
     "execution_count": 39,
     "metadata": {},
     "output_type": "execute_result"
    }
   ],
   "source": [
    "rgbDEM.shape"
   ]
  },
  {
   "cell_type": "code",
   "execution_count": 40,
   "metadata": {},
   "outputs": [
    {
     "data": {
      "text/html": [
       "<div>\n",
       "<style scoped>\n",
       "    .dataframe tbody tr th:only-of-type {\n",
       "        vertical-align: middle;\n",
       "    }\n",
       "\n",
       "    .dataframe tbody tr th {\n",
       "        vertical-align: top;\n",
       "    }\n",
       "\n",
       "    .dataframe thead th {\n",
       "        text-align: right;\n",
       "    }\n",
       "</style>\n",
       "<table border=\"1\" class=\"dataframe\">\n",
       "  <thead>\n",
       "    <tr style=\"text-align: right;\">\n",
       "      <th></th>\n",
       "      <th>uid</th>\n",
       "      <th>altitude</th>\n",
       "      <th>DEMmean</th>\n",
       "      <th>DEMmedian</th>\n",
       "      <th>DEMstd</th>\n",
       "    </tr>\n",
       "  </thead>\n",
       "  <tbody>\n",
       "    <tr>\n",
       "      <th>0</th>\n",
       "      <td>oeuw</td>\n",
       "      <td>123</td>\n",
       "      <td>108.174279</td>\n",
       "      <td>104.5</td>\n",
       "      <td>47.364784</td>\n",
       "    </tr>\n",
       "    <tr>\n",
       "      <th>1</th>\n",
       "      <td>tjhp</td>\n",
       "      <td>19</td>\n",
       "      <td>107.601538</td>\n",
       "      <td>103.0</td>\n",
       "      <td>33.233621</td>\n",
       "    </tr>\n",
       "    <tr>\n",
       "      <th>2</th>\n",
       "      <td>crel</td>\n",
       "      <td>8</td>\n",
       "      <td>62.676179</td>\n",
       "      <td>40.0</td>\n",
       "      <td>64.743936</td>\n",
       "    </tr>\n",
       "    <tr>\n",
       "      <th>3</th>\n",
       "      <td>zqhi</td>\n",
       "      <td>85</td>\n",
       "      <td>109.822581</td>\n",
       "      <td>105.0</td>\n",
       "      <td>54.010357</td>\n",
       "    </tr>\n",
       "    <tr>\n",
       "      <th>4</th>\n",
       "      <td>estg</td>\n",
       "      <td>-4</td>\n",
       "      <td>62.576923</td>\n",
       "      <td>46.0</td>\n",
       "      <td>50.925415</td>\n",
       "    </tr>\n",
       "  </tbody>\n",
       "</table>\n",
       "</div>"
      ],
      "text/plain": [
       "    uid  altitude     DEMmean  DEMmedian     DEMstd\n",
       "0  oeuw       123  108.174279      104.5  47.364784\n",
       "1  tjhp        19  107.601538      103.0  33.233621\n",
       "2  crel         8   62.676179       40.0  64.743936\n",
       "3  zqhi        85  109.822581      105.0  54.010357\n",
       "4  estg        -4   62.576923       46.0  50.925415"
      ]
     },
     "execution_count": 40,
     "metadata": {},
     "output_type": "execute_result"
    }
   ],
   "source": [
    "# altDF=pd.DataFrame(np.stack([[('_').join(x.split('_')[:2]),float(x.split('_')[-1][3:-4])] for x in geomorthology_files]),columns=['latlong','altitude'])\n",
    "# altDF['altitude']=altDF['altitude'].astype(float)\n",
    "altDF=pd.DataFrame(geo_uids,columns=['uid'])\n",
    "altDF['altitude']=geo_alts\n",
    "altDF['altitude']=altDF['altitude'].fillna(altDF['altitude'].median)\n",
    "\n",
    "altDF['DEMmean']=dem_featuresL[:,0]\n",
    "altDF['DEMmedian']=dem_featuresL[:,1]\n",
    "altDF['DEMstd']=dem_featuresL[:,2]\n",
    "altDF.head()\n"
   ]
  },
  {
   "cell_type": "code",
   "execution_count": 41,
   "metadata": {},
   "outputs": [
    {
     "data": {
      "text/plain": [
       "(26, 32)"
      ]
     },
     "execution_count": 41,
     "metadata": {},
     "output_type": "execute_result"
    }
   ],
   "source": [
    "cv2.imread(DEM_DATA_DIR+f, cv2.IMREAD_GRAYSCALE).shape"
   ]
  },
  {
   "cell_type": "code",
   "execution_count": 42,
   "metadata": {
    "scrolled": true
   },
   "outputs": [],
   "source": [
    "# CLIMATE_DATA_DIR = \"climate/\"\n",
    "# CLIMATE_DATA_DIR = \"climate_again/\"\n",
    "# CLIMATE_DATA_DIR = \"climate_1/\"\n",
    "# CLIMATE_DATA_DIR = \"climate_14/\"\n",
    "# CLIMATE_DATA_DIR = \"climate_14b/\"\n",
    "# CLIMATE_DATA_DIR = \"climate_d14_b5000/\"\n",
    "# climate_files=os.listdir(CLIMATE_DATA_DIR)\n",
    "# CLIM_RESIZE_SIZE=3\n",
    "# clim_featuresL=[]\n",
    "# rgbCLIM=[]\n",
    "# climIds=[]\n",
    "# for f in tqdm(climate_files):\n",
    "#     try:\n",
    "        \n",
    "#     # for row in tqdm(metadata_subset.iloc[:2,:].itertuples(), total=2):\n",
    "#     #     im = cv2.imread(CLIMATE_DATA_DIR+f, cv2.IMREAD_GRAYSCALE)\n",
    "#         im = np.load(CLIMATE_DATA_DIR+f)['a']\n",
    "#         notnans = np.where(im[:,0,0]!=-999)[0]\n",
    "#         if len(notnans)!=0:\n",
    "#             im=np.transpose(im,(1,2,0))\n",
    "#             im=np.expand_dims(im,0)\n",
    "\n",
    "#     #         clim_features = image_to_features(np.expand_dims(im,0))\n",
    "#             im2=im.copy()\n",
    "#             im2[im2==-999]= im2[im2!=-999].mean()\n",
    "#             im2=np.mean(im2,-1)\n",
    "#             clim_features = image_to_features(im2)\n",
    "#     #         clim_features = image_to_features(im)\n",
    "#             clim_featuresL.append(clim_features)\n",
    "#         #     if im.max()!=im.min():\n",
    "#         #         im=(im-im.min())/(im.max()-im.min())\n",
    "#         #     else:\n",
    "#         #         im*=0\n",
    "#             im=np.expand_dims(im[0,...,notnans[0]], -1)\n",
    "#             im=cv2.resize(im.astype(np.float32),(CLIM_RESIZE_SIZE, CLIM_RESIZE_SIZE))\n",
    "#         #     rgbCLIM.append((im*255).astype('uint8'))\n",
    "#             rgbCLIM.append(im.astype(int))\n",
    "\n",
    "#             climIds.append(f.split('.')[0])\n",
    "#     except:\n",
    "#         pass\n",
    "        \n",
    "# rgbCLIM=np.stack(rgbCLIM)    \n",
    "# clim_featuresL=np.stack(clim_featuresL)    \n",
    "# climIds=np.stack(climIds)"
   ]
  },
  {
   "cell_type": "code",
   "execution_count": 43,
   "metadata": {},
   "outputs": [],
   "source": [
    "# clim_featuresL.shape,rgbCLIM.shape"
   ]
  },
  {
   "cell_type": "code",
   "execution_count": 44,
   "metadata": {},
   "outputs": [],
   "source": [
    "# clim_featuresLw1=[]\n",
    "# climIdsw1=[]\n",
    "# for f in tqdm(climate_files):\n",
    "#     try:\n",
    "        \n",
    "#     # for row in tqdm(metadata_subset.iloc[:2,:].itertuples(), total=2):\n",
    "#     #     im = cv2.imread(CLIMATE_DATA_DIR+f, cv2.IMREAD_GRAYSCALE)\n",
    "#         im = np.load(CLIMATE_DATA_DIR+f)['a']\n",
    "#         im=im[:7,...] #only first weak\n",
    "#         notnans = np.where(im[:,0,0]!=-999)[0]\n",
    "#         if len(notnans)!=0:\n",
    "#             im=np.transpose(im,(1,2,0))\n",
    "#             im=np.expand_dims(im,0)\n",
    "\n",
    "#     #         clim_features = image_to_features(np.expand_dims(im,0))\n",
    "#             im2=im.copy()\n",
    "#             im2[im2==-999]= im2[im2!=-999].mean()\n",
    "#             im2=np.mean(im2,-1)\n",
    "#             clim_features = image_to_features(im2)\n",
    "#     #         clim_features = image_to_features(im)\n",
    "#             clim_featuresLw1.append(clim_features)\n",
    "\n",
    "\n",
    "#             climIdsw1.append(f.split('.')[0])\n",
    "#     except:\n",
    "#         pass\n",
    "    \n",
    "# clim_featuresLw1=np.stack(clim_featuresLw1)    \n",
    "# climIdsw1=np.stack(climIdsw1)    "
   ]
  },
  {
   "cell_type": "code",
   "execution_count": 45,
   "metadata": {},
   "outputs": [],
   "source": [
    "# clim_featuresLw1.shape"
   ]
  },
  {
   "cell_type": "code",
   "execution_count": 46,
   "metadata": {},
   "outputs": [],
   "source": [
    "CLIMATE_DATA_DIR = \"climate_d14_b5000/\"\n",
    "CLIMATE_DATA_DIR = \"climate_d28_b5000/\"\n",
    "climate_files=os.listdir(CLIMATE_DATA_DIR)\n",
    "CLIM_RESIZE_SIZE=3\n",
    "clim_featuresL=[]\n",
    "# rgbCLIM=[]\n",
    "climSeries=[]\n",
    "climIds=[]\n",
    "for f in tqdm(climate_files):\n",
    "    try:\n",
    "        \n",
    "    # for row in tqdm(metadata_subset.iloc[:2,:].itertuples(), total=2):\n",
    "    #     im = cv2.imread(CLIMATE_DATA_DIR+f, cv2.IMREAD_GRAYSCALE)\n",
    "        im = np.load(CLIMATE_DATA_DIR+f)['a']\n",
    "        notnans = np.where(im[:,0,0]!=-999)[0]\n",
    "        if len(notnans)!=0:\n",
    "#             im=np.transpose(im,(1,2,0))\n",
    "#             im=np.expand_dims(im,0)\n",
    "    #         clim_features = image_to_features(np.expand_dims(im,0))\n",
    "#             im2=im.copy()\n",
    "#             im2[im2==-999]= im2[im2!=-999].mean()\n",
    "#             im2=np.mean(im2,-1)\n",
    "            \n",
    "            im2=np.mean(im,(1,2))\n",
    "            im2[im2==-999]=np.nan\n",
    "            # d14[d14==-999]=np.mean(d14[d14!=-999])\n",
    "            im2=(pd.Series(im2).ffill()+pd.Series(im2).bfill())/2\n",
    "            im2=pd.Series(im2).ffill()\n",
    "            im2= pd.Series(im2).bfill().values\n",
    "            im2 = np.reshape(im2,(1,1,len(im2)))\n",
    "\n",
    "            clim_features = image_to_features(im2)\n",
    "    #         clim_features = image_to_features(im)\n",
    "            clim_featuresL.append(clim_features)\n",
    "        #     if im.max()!=im.min():\n",
    "        #         im=(im-im.min())/(im.max()-im.min())\n",
    "        #     else:\n",
    "        #         im*=0\n",
    "            climSeries.append(im2[0,0,:])\n",
    "#             im=np.expand_dims(im[0,...,notnans[0]], -1)\n",
    "#             im=cv2.resize(im.astype(np.float32),(CLIM_RESIZE_SIZE, CLIM_RESIZE_SIZE))\n",
    "#         #     rgbCLIM.append((im*255).astype('uint8'))\n",
    "#             rgbCLIM.append(im.astype(int))\n",
    "\n",
    "            climIds.append(f.split('.')[0])\n",
    "    except:\n",
    "        pass\n",
    "        \n",
    "climSeries=np.stack(climSeries)\n",
    "# rgbCLIM=np.stack(rgbCLIM)    \n",
    "clim_featuresL=np.stack(clim_featuresL)    \n",
    "climIds=np.stack(climIds)"
   ]
  },
  {
   "cell_type": "code",
   "execution_count": 47,
   "metadata": {},
   "outputs": [],
   "source": [
    "\n",
    "# climSeries.shape,clim_featuresL.shape"
   ]
  },
  {
   "cell_type": "code",
   "execution_count": 48,
   "metadata": {},
   "outputs": [],
   "source": [
    "# plt.plot(climSeries[10],'.-')\n",
    "# plt.show()"
   ]
  },
  {
   "cell_type": "code",
   "execution_count": 49,
   "metadata": {},
   "outputs": [],
   "source": [
    "clim_featuresLw1=[]\n",
    "climIdsw1=[]\n",
    "for f in tqdm(climate_files):\n",
    "    try:\n",
    "        \n",
    "    # for row in tqdm(metadata_subset.iloc[:2,:].itertuples(), total=2):\n",
    "    #     im = cv2.imread(CLIMATE_DATA_DIR+f, cv2.IMREAD_GRAYSCALE)\n",
    "        im = np.load(CLIMATE_DATA_DIR+f)['a']\n",
    "        im=im[:7,...] #only first weak\n",
    "        notnans = np.where(im[:,0,0]!=-999)[0]\n",
    "        if len(notnans)!=0:\n",
    "#             im=np.transpose(im,(1,2,0))\n",
    "#             im=np.expand_dims(im,0)\n",
    "#             im2=im.copy()\n",
    "#             im2[im2==-999]= im2[im2!=-999].mean()\n",
    "#             im2=np.mean(im2,-1)\n",
    "            \n",
    "            im2=np.mean(im,(1,2))\n",
    "            im2[im2==-999]=np.nan\n",
    "            # d14[d14==-999]=np.mean(d14[d14!=-999])\n",
    "            im2=(pd.Series(im2).ffill()+pd.Series(im2).bfill())/2\n",
    "            im2=pd.Series(im2).ffill()\n",
    "            im2= pd.Series(im2).bfill().values\n",
    "            im2 = np.reshape(im2,(1,1,len(im2)))\n",
    "            \n",
    "            clim_features = image_to_features(im2)\n",
    "    #         clim_features = image_to_features(im)\n",
    "            clim_featuresLw1.append(clim_features)\n",
    "\n",
    "\n",
    "            climIdsw1.append(f.split('.')[0])\n",
    "    except:\n",
    "        pass\n",
    "    \n",
    "clim_featuresLw1=np.stack(clim_featuresLw1)    \n",
    "climIdsw1=np.stack(climIdsw1)    "
   ]
  },
  {
   "cell_type": "code",
   "execution_count": 50,
   "metadata": {},
   "outputs": [
    {
     "data": {
      "text/plain": [
       "7383"
      ]
     },
     "execution_count": 50,
     "metadata": {},
     "output_type": "execute_result"
    }
   ],
   "source": [
    "gc.collect()"
   ]
  },
  {
   "cell_type": "code",
   "execution_count": 51,
   "metadata": {},
   "outputs": [],
   "source": [
    "CLIMATE_R_DATA_DIR = \"climate_rain_d28_b5000/\"\n",
    "climate_files=os.listdir(CLIMATE_R_DATA_DIR)\n",
    "CLIM_RESIZE_SIZE=3\n",
    "clim_featuresR=[]\n",
    "# rgbCLIM=[]\n",
    "climSeriesR=[]\n",
    "climIdsR=[]\n",
    "for f in tqdm(climate_files):\n",
    "    try:\n",
    "        \n",
    "    # for row in tqdm(metadata_subset.iloc[:2,:].itertuples(), total=2):\n",
    "    #     im = cv2.imread(CLIMATE_R_DATA_DIR+f, cv2.IMREAD_GRAYSCALE)\n",
    "        im = np.load(CLIMATE_R_DATA_DIR+f)['a']\n",
    "        notnans = np.where(im[:,0,0]!=-999)[0]\n",
    "        if len(notnans)!=0:\n",
    "#             im=np.transpose(im,(1,2,0))\n",
    "#             im=np.expand_dims(im,0)\n",
    "    #         clim_features = image_to_features(np.expand_dims(im,0))\n",
    "#             im2=im.copy()\n",
    "#             im2[im2==-999]= im2[im2!=-999].mean()\n",
    "#             im2=np.mean(im2,-1)\n",
    "            \n",
    "            im2=np.mean(im,(1,2))\n",
    "            im2[im2==-999]=np.nan\n",
    "            # d14[d14==-999]=np.mean(d14[d14!=-999])\n",
    "            im2=(pd.Series(im2).ffill()+pd.Series(im2).bfill())/2\n",
    "            im2=pd.Series(im2).ffill()\n",
    "            im2= pd.Series(im2).bfill().values\n",
    "            im2 = np.reshape(im2,(1,1,len(im2)))\n",
    "\n",
    "            clim_features = image_to_features(im2)\n",
    "    #         clim_features = image_to_features(im)\n",
    "            clim_featuresR.append(clim_features)\n",
    "        #     if im.max()!=im.min():\n",
    "        #         im=(im-im.min())/(im.max()-im.min())\n",
    "        #     else:\n",
    "        #         im*=0\n",
    "            climSeriesR.append(im2[0,0,:])\n",
    "#             im=np.expand_dims(im[0,...,notnans[0]], -1)\n",
    "#             im=cv2.resize(im.astype(np.float32),(CLIM_RESIZE_SIZE, CLIM_RESIZE_SIZE))\n",
    "#         #     rgbCLIM.append((im*255).astype('uint8'))\n",
    "#             rgbCLIM.append(im.astype(int))\n",
    "\n",
    "            climIdsR.append(f.split('.')[0])\n",
    "    except:\n",
    "        pass\n",
    "        \n",
    "climSeriesR=np.stack(climSeriesR)\n",
    "# rgbCLIM=np.stack(rgbCLIM)    \n",
    "clim_featuresR=np.stack(clim_featuresR)    \n",
    "climIdsR=np.stack(climIdsR)"
   ]
  },
  {
   "cell_type": "code",
   "execution_count": null,
   "metadata": {},
   "outputs": [],
   "source": []
  },
  {
   "cell_type": "code",
   "execution_count": 52,
   "metadata": {},
   "outputs": [],
   "source": [
    "# plt.plot(climSeriesR[100],'.-')\n",
    "# plt.show()"
   ]
  },
  {
   "cell_type": "code",
   "execution_count": 53,
   "metadata": {},
   "outputs": [],
   "source": [
    "CLIMATE_G_DATA_DIR = \"climate_gust_d28_b5000/\"\n",
    "climate_files=os.listdir(CLIMATE_G_DATA_DIR)\n",
    "CLIM_RESIZE_SIZE=3\n",
    "clim_featuresG=[]\n",
    "# rgbCLIM=[]\n",
    "climSeriesG=[]\n",
    "climIdsG=[]\n",
    "for f in tqdm(climate_files):\n",
    "    try:\n",
    "        \n",
    "    # for row in tqdm(metadata_subset.iloc[:2,:].itertuples(), total=2):\n",
    "    #     im = cv2.imread(CLIMATE_G_DATA_DIR+f, cv2.IMREAD_GRAYSCALE)\n",
    "        im = np.load(CLIMATE_G_DATA_DIR+f)['a']\n",
    "        notnans = np.where(im[:,0,0]!=-999)[0]\n",
    "        if len(notnans)!=0:\n",
    "#             im=np.transpose(im,(1,2,0))\n",
    "#             im=np.expand_dims(im,0)\n",
    "    #         clim_features = image_to_features(np.expand_dims(im,0))\n",
    "#             im2=im.copy()\n",
    "#             im2[im2==-999]= im2[im2!=-999].mean()\n",
    "#             im2=np.mean(im2,-1)\n",
    "            \n",
    "            im2=np.mean(im,(1,2))\n",
    "            im2[im2==-999]=np.nan\n",
    "            # d14[d14==-999]=np.mean(d14[d14!=-999])\n",
    "            im2=(pd.Series(im2).ffill()+pd.Series(im2).bfill())/2\n",
    "            im2=pd.Series(im2).ffill()\n",
    "            im2= pd.Series(im2).bfill().values\n",
    "            im2 = np.reshape(im2,(1,1,len(im2)))\n",
    "\n",
    "            clim_features = image_to_features(im2)\n",
    "    #         clim_features = image_to_features(im)\n",
    "            clim_featuresG.append(clim_features)\n",
    "        #     if im.max()!=im.min():\n",
    "        #         im=(im-im.min())/(im.max()-im.min())\n",
    "        #     else:\n",
    "        #         im*=0\n",
    "            climSeriesG.append(im2[0,0,:])\n",
    "#             im=np.expand_dims(im[0,...,notnans[0]], -1)\n",
    "#             im=cv2.resize(im.astype(np.float32),(CLIM_RESIZE_SIZE, CLIM_RESIZE_SIZE))\n",
    "#         #     rgbCLIM.append((im*255).astype('uint8'))\n",
    "#             rgbCLIM.append(im.astype(int))\n",
    "\n",
    "            climIdsG.append(f.split('.')[0])\n",
    "    except:\n",
    "        pass\n",
    "        \n",
    "climSeriesG=np.stack(climSeriesG)\n",
    "# rgbCLIM=np.stack(rgbCLIM)    \n",
    "clim_featuresG=np.stack(clim_featuresG)    \n",
    "climIdsG=np.stack(climIdsG)"
   ]
  },
  {
   "cell_type": "code",
   "execution_count": 54,
   "metadata": {},
   "outputs": [],
   "source": [
    "# plt.plot(climSeriesG[100],'.-')\n",
    "# plt.show()"
   ]
  },
  {
   "cell_type": "code",
   "execution_count": 55,
   "metadata": {},
   "outputs": [],
   "source": [
    "CLIMATE_S_DATA_DIR = \"climate_snowc_d28_b15000/\"\n",
    "climate_files=os.listdir(CLIMATE_S_DATA_DIR)\n",
    "CLIM_RESIZE_SIZE=9\n",
    "clim_featuresS=[]\n",
    "# rgbCLIM=[]\n",
    "climSeriesS=[]\n",
    "climIdsS=[]\n",
    "for f in tqdm(climate_files):\n",
    "    try:\n",
    "        \n",
    "    # for row in tqdm(metadata_subset.iloc[:2,:].itertuples(), total=2):\n",
    "    #     im = cv2.imread(CLIMATE_G_DATA_DIR+f, cv2.IMREAD_GRAYSCALE)\n",
    "        im = np.load(CLIMATE_S_DATA_DIR+f)['a']\n",
    "        notnans = np.where(im[:,0,0]!=-999)[0]\n",
    "        if len(notnans)!=0:\n",
    "#             im=np.transpose(im,(1,2,0))\n",
    "#             im=np.expand_dims(im,0)\n",
    "    #         clim_features = image_to_features(np.expand_dims(im,0))\n",
    "#             im2=im.copy()\n",
    "#             im2[im2==-999]= im2[im2!=-999].mean()\n",
    "#             im2=np.mean(im2,-1)\n",
    "            \n",
    "            im2=np.mean(im,(1,2))\n",
    "            im2[im2==-999]=np.nan\n",
    "            # d14[d14==-999]=np.mean(d14[d14!=-999])\n",
    "            im2=(pd.Series(im2).ffill()+pd.Series(im2).bfill())/2\n",
    "            im2=pd.Series(im2).ffill()\n",
    "            im2= pd.Series(im2).bfill().values\n",
    "            im2 = np.reshape(im2,(1,1,len(im2)))\n",
    "\n",
    "            clim_features = image_to_features(im2)\n",
    "    #         clim_features = image_to_features(im)\n",
    "            clim_featuresS.append(clim_features)\n",
    "        #     if im.max()!=im.min():\n",
    "        #         im=(im-im.min())/(im.max()-im.min())\n",
    "        #     else:\n",
    "        #         im*=0\n",
    "            climSeriesS.append(im2[0,0,:])\n",
    "#             im=np.expand_dims(im[0,...,notnans[0]], -1)\n",
    "#             im=cv2.resize(im.astype(np.float32),(CLIM_RESIZE_SIZE, CLIM_RESIZE_SIZE))\n",
    "#         #     rgbCLIM.append((im*255).astype('uint8'))\n",
    "#             rgbCLIM.append(im.astype(int))\n",
    "\n",
    "            climIdsS.append(f.split('.')[0])\n",
    "    except:\n",
    "        pass\n",
    "        \n",
    "climSeriesS=np.stack(climSeriesS)\n",
    "# rgbCLIM=np.stack(rgbCLIM)    \n",
    "clim_featuresS=np.stack(clim_featuresS)    \n",
    "climIdsS=np.stack(climIdsS)"
   ]
  },
  {
   "cell_type": "code",
   "execution_count": 56,
   "metadata": {},
   "outputs": [],
   "source": [
    "CLIMATE_H_DATA_DIR = \"climate_hgt_d28_b15000/\"\n",
    "climate_files=os.listdir(CLIMATE_H_DATA_DIR)\n",
    "CLIM_RESIZE_SIZE=9\n",
    "clim_featuresH=[]\n",
    "# rgbCLIM=[]\n",
    "climSeriesH=[]\n",
    "climIdsH=[]\n",
    "for f in tqdm(climate_files):\n",
    "    try:\n",
    "        \n",
    "    # for row in tqdm(metadata_subset.iloc[:2,:].itertuples(), total=2):\n",
    "    #     im = cv2.imread(CLIMATE_G_DATA_DIR+f, cv2.IMREAD_GRAYSCALE)\n",
    "        im = np.load(CLIMATE_H_DATA_DIR+f)['a']\n",
    "        notnans = np.where(im[:,0,0]!=-999)[0]\n",
    "        if len(notnans)!=0:\n",
    "#             im=np.transpose(im,(1,2,0))\n",
    "#             im=np.expand_dims(im,0)\n",
    "    #         clim_features = image_to_features(np.expand_dims(im,0))\n",
    "#             im2=im.copy()\n",
    "#             im2[im2==-999]= im2[im2!=-999].mean()\n",
    "#             im2=np.mean(im2,-1)\n",
    "            \n",
    "            im2=np.mean(im,(1,2))\n",
    "            im2[im2==-999]=np.nan\n",
    "            # d14[d14==-999]=np.mean(d14[d14!=-999])\n",
    "            im2=(pd.Series(im2).ffill()+pd.Series(im2).bfill())/2\n",
    "            im2=pd.Series(im2).ffill()\n",
    "            im2= pd.Series(im2).bfill().values\n",
    "            im2 = np.reshape(im2,(1,1,len(im2)))\n",
    "\n",
    "            clim_features = image_to_features(im2)\n",
    "    #         clim_features = image_to_features(im)\n",
    "            clim_featuresH.append(clim_features)\n",
    "        #     if im.max()!=im.min():\n",
    "        #         im=(im-im.min())/(im.max()-im.min())\n",
    "        #     else:\n",
    "        #         im*=0\n",
    "            climSeriesH.append(im2[0,0,:])\n",
    "#             im=np.expand_dims(im[0,...,notnans[0]], -1)\n",
    "#             im=cv2.resize(im.astype(np.float32),(CLIM_RESIZE_SIZE, CLIM_RESIZE_SIZE))\n",
    "#         #     rgbCLIM.append((im*255).astype('uint8'))\n",
    "#             rgbCLIM.append(im.astype(int))\n",
    "\n",
    "            climIdsH.append(f.split('.')[0])\n",
    "    except:\n",
    "        pass\n",
    "        \n",
    "climSeriesH=np.stack(climSeriesH)\n",
    "# rgbCLIM=np.stack(rgbCLIM)    \n",
    "clim_featuresH=np.stack(clim_featuresH)    \n",
    "climIdsH=np.stack(climIdsH)"
   ]
  },
  {
   "cell_type": "code",
   "execution_count": 57,
   "metadata": {},
   "outputs": [],
   "source": [
    "np.savez_compressed(CLIMATE_DATA_DIR[:-1], a=climSeries, b=clim_featuresL, c=climIds)\n",
    "np.savez_compressed(CLIMATE_DATA_DIR[:-1]+'w1',  b=clim_featuresLw1, c=climIdsw1)\n",
    "np.savez_compressed(CLIMATE_R_DATA_DIR[:-1], a=climSeriesR, b=clim_featuresR, c=climIdsR)\n",
    "np.savez_compressed(CLIMATE_G_DATA_DIR[:-1], a=climSeriesG, b=clim_featuresG, c=climIdsG)\n",
    "np.savez_compressed(CLIMATE_S_DATA_DIR[:-1], a=climSeriesS, b=clim_featuresS, c=climIdsS)\n",
    "np.savez_compressed(CLIMATE_H_DATA_DIR[:-1], a=climSeriesH, b=clim_featuresH, c=climIdsH)\n",
    "\n",
    "temp=np.load('climate_d28_b5000.npz')\n",
    "climSeries=temp['a']\n",
    "clim_featuresL=temp['b']\n",
    "climIds=temp['c']\n",
    "\n",
    "temp=np.load('climate_d28_b5000w1.npz')\n",
    "clim_featuresLw1=temp['b']\n",
    "climIdsw1=temp['c']\n",
    "\n",
    "temp=np.load('climate_rain_d28_b5000.npz')\n",
    "climSeriesR=temp['a']\n",
    "clim_featuresR=temp['b']\n",
    "climIdsR=temp['c']\n",
    "\n",
    "temp=np.load('climate_gust_d28_b5000.npz')\n",
    "climSeriesG=temp['a']\n",
    "clim_featuresG=temp['b']\n",
    "climIdsG=temp['c']\n",
    "\n",
    "temp=np.load('climate_snowc_d28_b15000.npz')\n",
    "climSeriesS=temp['a']\n",
    "clim_featuresS=temp['b']\n",
    "climIdsS=temp['c']\n",
    "\n",
    "temp=np.load('climate_hgt_d28_b15000.npz')\n",
    "climSeriesH=temp['a']\n",
    "clim_featuresH=temp['b']\n",
    "climIdsH=temp['c']"
   ]
  },
  {
   "cell_type": "code",
   "execution_count": 58,
   "metadata": {},
   "outputs": [
    {
     "data": {
      "text/plain": [
       "((20502, 28), (20502, 28), (20502, 28), (20547, 28), (20547, 28))"
      ]
     },
     "execution_count": 58,
     "metadata": {},
     "output_type": "execute_result"
    }
   ],
   "source": [
    "climSeries.shape, climSeriesR.shape, climSeriesG.shape, climSeriesS.shape, climSeriesH.shape,"
   ]
  },
  {
   "cell_type": "code",
   "execution_count": 59,
   "metadata": {},
   "outputs": [],
   "source": [
    "# climIdsSeries=np.concatenate((np.expand_dims(climIds,1),climSeries),1)\n",
    "# climIdsSeriesR=np.concatenate((np.expand_dims(climIdsR,1),climSeriesR),1)\n",
    "# climIdsSeriesG=np.concatenate((np.expand_dims(climIdsG,1),climSeriesG),1)\n",
    "# climIdsSeriesS=np.concatenate((np.expand_dims(climIdsS,1),climSeriesS),1)\n",
    "# climIdsSeriesH=np.concatenate((np.expand_dims(climIdsH,1),climSeriesH),1)"
   ]
  },
  {
   "cell_type": "code",
   "execution_count": 60,
   "metadata": {},
   "outputs": [],
   "source": [
    "climIdsSeries=pd.DataFrame(np.concatenate((np.expand_dims(climIds,1),climSeries),1), columns=['uid']+['Temp'+str(i) for i in range(28)])\n",
    "\n",
    "climIdsSeriesR=pd.DataFrame(np.concatenate((np.expand_dims(climIdsR,1),climSeriesR),1), columns=['uid']+['Rain'+str(i) for i in range(28)])\n",
    "\n",
    "climIdsSeriesG=pd.DataFrame(np.concatenate((np.expand_dims(climIdsG,1),climSeriesG),1), columns=['uid']+['Gust'+str(i) for i in range(28)])\n",
    "\n",
    "climIdsSeriesS=pd.DataFrame(np.concatenate((np.expand_dims(climIdsS,1),climSeriesS),1), columns=['uid']+['Snowc'+str(i) for i in range(28)])\n",
    "\n",
    "climIdsSeriesH=pd.DataFrame(np.concatenate((np.expand_dims(climIdsH,1),climSeriesH),1), columns=['uid']+['HGT'+str(i) for i in range(28)])\n",
    "\n"
   ]
  },
  {
   "cell_type": "code",
   "execution_count": null,
   "metadata": {},
   "outputs": [],
   "source": []
  },
  {
   "cell_type": "code",
   "execution_count": null,
   "metadata": {},
   "outputs": [],
   "source": []
  },
  {
   "cell_type": "code",
   "execution_count": 61,
   "metadata": {},
   "outputs": [],
   "source": [
    "# rma,rmi = rgbCLIM.max(),rgbCLIM.min()\n",
    "# rma,rmi "
   ]
  },
  {
   "cell_type": "code",
   "execution_count": 62,
   "metadata": {},
   "outputs": [],
   "source": [
    "# rgbCLIM=(((rgbCLIM.astype(float)-rmi)/(rma-rmi))*255).astype('uint8')"
   ]
  },
  {
   "cell_type": "code",
   "execution_count": 63,
   "metadata": {
    "scrolled": true
   },
   "outputs": [],
   "source": [
    "# # rgbCLIM[0][:,:,[0,15,29]].astype('uint8').max()\n",
    "# rgbCLIM.max(),rgbCLIM.min()"
   ]
  },
  {
   "cell_type": "code",
   "execution_count": 64,
   "metadata": {},
   "outputs": [],
   "source": [
    "# # plt.imshow(rgbCLIM[20][:,:,0].astype('uint8'))\n",
    "# plt.imshow(rgbCLIM[21].astype('uint8'))\n",
    "# plt.show()"
   ]
  },
  {
   "cell_type": "code",
   "execution_count": 65,
   "metadata": {},
   "outputs": [],
   "source": [
    "# rgbCLIM.shape,rgbCLIM[1].shape,np.transpose(np.load(CLIMATE_DATA_DIR+f)['a'],(1,2,0)).shape"
   ]
  },
  {
   "cell_type": "code",
   "execution_count": 66,
   "metadata": {},
   "outputs": [
    {
     "data": {
      "text/plain": [
       "((20502,), (20502, 3))"
      ]
     },
     "execution_count": 66,
     "metadata": {},
     "output_type": "execute_result"
    }
   ],
   "source": [
    "climIds.shape,clim_featuresL.shape\n"
   ]
  },
  {
   "cell_type": "code",
   "execution_count": 67,
   "metadata": {},
   "outputs": [],
   "source": [
    "# clim_featuresL=np.squeeze(clim_featuresL)"
   ]
  },
  {
   "cell_type": "code",
   "execution_count": 68,
   "metadata": {},
   "outputs": [
    {
     "name": "stderr",
     "output_type": "stream",
     "text": [
      "/var/venv/cuda112py37/lib/python3.7/site-packages/ipykernel_launcher.py:2: FutureWarning: In a future version of pandas all arguments of concat except for the argument 'objs' will be keyword-only\n",
      "  \n"
     ]
    },
    {
     "data": {
      "text/html": [
       "<div>\n",
       "<style scoped>\n",
       "    .dataframe tbody tr th:only-of-type {\n",
       "        vertical-align: middle;\n",
       "    }\n",
       "\n",
       "    .dataframe tbody tr th {\n",
       "        vertical-align: top;\n",
       "    }\n",
       "\n",
       "    .dataframe thead th {\n",
       "        text-align: right;\n",
       "    }\n",
       "</style>\n",
       "<table border=\"1\" class=\"dataframe\">\n",
       "  <thead>\n",
       "    <tr style=\"text-align: right;\">\n",
       "      <th></th>\n",
       "      <th>climate_mean</th>\n",
       "      <th>climate_median</th>\n",
       "      <th>climate_std</th>\n",
       "      <th>uid</th>\n",
       "    </tr>\n",
       "  </thead>\n",
       "  <tbody>\n",
       "    <tr>\n",
       "      <th>0</th>\n",
       "      <td>15.510000</td>\n",
       "      <td>14.72</td>\n",
       "      <td>2.891339</td>\n",
       "      <td>waln</td>\n",
       "    </tr>\n",
       "    <tr>\n",
       "      <th>1</th>\n",
       "      <td>19.679286</td>\n",
       "      <td>19.53</td>\n",
       "      <td>3.257052</td>\n",
       "      <td>wlwd</td>\n",
       "    </tr>\n",
       "    <tr>\n",
       "      <th>2</th>\n",
       "      <td>23.263571</td>\n",
       "      <td>23.54</td>\n",
       "      <td>2.815118</td>\n",
       "      <td>zxdf</td>\n",
       "    </tr>\n",
       "    <tr>\n",
       "      <th>3</th>\n",
       "      <td>11.067143</td>\n",
       "      <td>11.58</td>\n",
       "      <td>2.001658</td>\n",
       "      <td>rzcf</td>\n",
       "    </tr>\n",
       "    <tr>\n",
       "      <th>4</th>\n",
       "      <td>27.039286</td>\n",
       "      <td>27.98</td>\n",
       "      <td>3.080568</td>\n",
       "      <td>djsa</td>\n",
       "    </tr>\n",
       "  </tbody>\n",
       "</table>\n",
       "</div>"
      ],
      "text/plain": [
       "   climate_mean  climate_median  climate_std   uid\n",
       "0     15.510000           14.72     2.891339  waln\n",
       "1     19.679286           19.53     3.257052  wlwd\n",
       "2     23.263571           23.54     2.815118  zxdf\n",
       "3     11.067143           11.58     2.001658  rzcf\n",
       "4     27.039286           27.98     3.080568  djsa"
      ]
     },
     "execution_count": 68,
     "metadata": {},
     "output_type": "execute_result"
    }
   ],
   "source": [
    "clim_featuresDF=pd.concat([pd.DataFrame(clim_featuresL,columns=['climate_mean','climate_median','climate_std']),\n",
    "                           pd.DataFrame(climIds,columns=['uid'])],1)\n",
    "clim_featuresDF.head()"
   ]
  },
  {
   "cell_type": "code",
   "execution_count": 69,
   "metadata": {},
   "outputs": [
    {
     "name": "stderr",
     "output_type": "stream",
     "text": [
      "/var/venv/cuda112py37/lib/python3.7/site-packages/ipykernel_launcher.py:2: FutureWarning: In a future version of pandas all arguments of concat except for the argument 'objs' will be keyword-only\n",
      "  \n"
     ]
    },
    {
     "data": {
      "text/html": [
       "<div>\n",
       "<style scoped>\n",
       "    .dataframe tbody tr th:only-of-type {\n",
       "        vertical-align: middle;\n",
       "    }\n",
       "\n",
       "    .dataframe tbody tr th {\n",
       "        vertical-align: top;\n",
       "    }\n",
       "\n",
       "    .dataframe thead th {\n",
       "        text-align: right;\n",
       "    }\n",
       "</style>\n",
       "<table border=\"1\" class=\"dataframe\">\n",
       "  <thead>\n",
       "    <tr style=\"text-align: right;\">\n",
       "      <th></th>\n",
       "      <th>climate_mean_fw</th>\n",
       "      <th>climate_median_fw</th>\n",
       "      <th>climate_std_fw</th>\n",
       "      <th>uid</th>\n",
       "    </tr>\n",
       "  </thead>\n",
       "  <tbody>\n",
       "    <tr>\n",
       "      <th>0</th>\n",
       "      <td>15.577143</td>\n",
       "      <td>14.40</td>\n",
       "      <td>3.785377</td>\n",
       "      <td>waln</td>\n",
       "    </tr>\n",
       "    <tr>\n",
       "      <th>1</th>\n",
       "      <td>18.914286</td>\n",
       "      <td>18.52</td>\n",
       "      <td>3.163031</td>\n",
       "      <td>wlwd</td>\n",
       "    </tr>\n",
       "    <tr>\n",
       "      <th>2</th>\n",
       "      <td>20.622857</td>\n",
       "      <td>20.52</td>\n",
       "      <td>2.451622</td>\n",
       "      <td>zxdf</td>\n",
       "    </tr>\n",
       "    <tr>\n",
       "      <th>3</th>\n",
       "      <td>11.360000</td>\n",
       "      <td>11.72</td>\n",
       "      <td>2.610134</td>\n",
       "      <td>rzcf</td>\n",
       "    </tr>\n",
       "    <tr>\n",
       "      <th>4</th>\n",
       "      <td>26.665714</td>\n",
       "      <td>26.48</td>\n",
       "      <td>1.777662</td>\n",
       "      <td>djsa</td>\n",
       "    </tr>\n",
       "  </tbody>\n",
       "</table>\n",
       "</div>"
      ],
      "text/plain": [
       "   climate_mean_fw  climate_median_fw  climate_std_fw   uid\n",
       "0        15.577143              14.40        3.785377  waln\n",
       "1        18.914286              18.52        3.163031  wlwd\n",
       "2        20.622857              20.52        2.451622  zxdf\n",
       "3        11.360000              11.72        2.610134  rzcf\n",
       "4        26.665714              26.48        1.777662  djsa"
      ]
     },
     "execution_count": 69,
     "metadata": {},
     "output_type": "execute_result"
    }
   ],
   "source": [
    "clim_featuresW1DF=pd.concat([pd.DataFrame(clim_featuresLw1,columns=['climate_mean_fw','climate_median_fw','climate_std_fw']),\n",
    "                           pd.DataFrame(climIdsw1,columns=['uid'])],1)\n",
    "clim_featuresW1DF.head()"
   ]
  },
  {
   "cell_type": "code",
   "execution_count": 70,
   "metadata": {},
   "outputs": [
    {
     "name": "stderr",
     "output_type": "stream",
     "text": [
      "/var/venv/cuda112py37/lib/python3.7/site-packages/ipykernel_launcher.py:2: FutureWarning: In a future version of pandas all arguments of concat except for the argument 'objs' will be keyword-only\n",
      "  \n"
     ]
    },
    {
     "data": {
      "text/html": [
       "<div>\n",
       "<style scoped>\n",
       "    .dataframe tbody tr th:only-of-type {\n",
       "        vertical-align: middle;\n",
       "    }\n",
       "\n",
       "    .dataframe tbody tr th {\n",
       "        vertical-align: top;\n",
       "    }\n",
       "\n",
       "    .dataframe thead th {\n",
       "        text-align: right;\n",
       "    }\n",
       "</style>\n",
       "<table border=\"1\" class=\"dataframe\">\n",
       "  <thead>\n",
       "    <tr style=\"text-align: right;\">\n",
       "      <th></th>\n",
       "      <th>rain_mean</th>\n",
       "      <th>rain_median</th>\n",
       "      <th>rain_std</th>\n",
       "      <th>uid</th>\n",
       "    </tr>\n",
       "  </thead>\n",
       "  <tbody>\n",
       "    <tr>\n",
       "      <th>0</th>\n",
       "      <td>0.181429</td>\n",
       "      <td>0.0</td>\n",
       "      <td>0.381947</td>\n",
       "      <td>waln</td>\n",
       "    </tr>\n",
       "    <tr>\n",
       "      <th>1</th>\n",
       "      <td>0.212143</td>\n",
       "      <td>0.0</td>\n",
       "      <td>0.378166</td>\n",
       "      <td>wlwd</td>\n",
       "    </tr>\n",
       "    <tr>\n",
       "      <th>2</th>\n",
       "      <td>0.092857</td>\n",
       "      <td>0.0</td>\n",
       "      <td>0.267059</td>\n",
       "      <td>zxdf</td>\n",
       "    </tr>\n",
       "    <tr>\n",
       "      <th>3</th>\n",
       "      <td>0.060000</td>\n",
       "      <td>0.0</td>\n",
       "      <td>0.180317</td>\n",
       "      <td>rzcf</td>\n",
       "    </tr>\n",
       "    <tr>\n",
       "      <th>4</th>\n",
       "      <td>0.100714</td>\n",
       "      <td>0.0</td>\n",
       "      <td>0.268088</td>\n",
       "      <td>djsa</td>\n",
       "    </tr>\n",
       "  </tbody>\n",
       "</table>\n",
       "</div>"
      ],
      "text/plain": [
       "   rain_mean  rain_median  rain_std   uid\n",
       "0   0.181429          0.0  0.381947  waln\n",
       "1   0.212143          0.0  0.378166  wlwd\n",
       "2   0.092857          0.0  0.267059  zxdf\n",
       "3   0.060000          0.0  0.180317  rzcf\n",
       "4   0.100714          0.0  0.268088  djsa"
      ]
     },
     "execution_count": 70,
     "metadata": {},
     "output_type": "execute_result"
    }
   ],
   "source": [
    "clim_featuresRDF=pd.concat([pd.DataFrame(clim_featuresR,columns=['rain_mean','rain_median','rain_std']),\n",
    "                           pd.DataFrame(climIdsR,columns=['uid'])],1)\n",
    "clim_featuresRDF.head()"
   ]
  },
  {
   "cell_type": "code",
   "execution_count": 71,
   "metadata": {},
   "outputs": [
    {
     "data": {
      "text/plain": [
       "rain_median\n",
       "0.000000       19695\n",
       "1.000000         134\n",
       "0.040000          91\n",
       "0.020000          56\n",
       "0.060000          40\n",
       "               ...  \n",
       "0.266667           1\n",
       "0.490000           1\n",
       "0.220000           1\n",
       "0.140000           1\n",
       "0.441667           1\n",
       "Length: 107, dtype: int64"
      ]
     },
     "execution_count": 71,
     "metadata": {},
     "output_type": "execute_result"
    }
   ],
   "source": [
    "clim_featuresRDF[['rain_median']].value_counts()"
   ]
  },
  {
   "cell_type": "code",
   "execution_count": 72,
   "metadata": {},
   "outputs": [
    {
     "name": "stderr",
     "output_type": "stream",
     "text": [
      "/var/venv/cuda112py37/lib/python3.7/site-packages/ipykernel_launcher.py:2: FutureWarning: In a future version of pandas all arguments of concat except for the argument 'objs' will be keyword-only\n",
      "  \n"
     ]
    },
    {
     "data": {
      "text/html": [
       "<div>\n",
       "<style scoped>\n",
       "    .dataframe tbody tr th:only-of-type {\n",
       "        vertical-align: middle;\n",
       "    }\n",
       "\n",
       "    .dataframe tbody tr th {\n",
       "        vertical-align: top;\n",
       "    }\n",
       "\n",
       "    .dataframe thead th {\n",
       "        text-align: right;\n",
       "    }\n",
       "</style>\n",
       "<table border=\"1\" class=\"dataframe\">\n",
       "  <thead>\n",
       "    <tr style=\"text-align: right;\">\n",
       "      <th></th>\n",
       "      <th>gust_mean</th>\n",
       "      <th>gust_median</th>\n",
       "      <th>gust_std</th>\n",
       "      <th>uid</th>\n",
       "    </tr>\n",
       "  </thead>\n",
       "  <tbody>\n",
       "    <tr>\n",
       "      <th>0</th>\n",
       "      <td>6.577143</td>\n",
       "      <td>6.62</td>\n",
       "      <td>2.962208</td>\n",
       "      <td>waln</td>\n",
       "    </tr>\n",
       "    <tr>\n",
       "      <th>1</th>\n",
       "      <td>5.080714</td>\n",
       "      <td>5.42</td>\n",
       "      <td>2.294039</td>\n",
       "      <td>wlwd</td>\n",
       "    </tr>\n",
       "    <tr>\n",
       "      <th>2</th>\n",
       "      <td>3.024286</td>\n",
       "      <td>2.26</td>\n",
       "      <td>2.655266</td>\n",
       "      <td>zxdf</td>\n",
       "    </tr>\n",
       "    <tr>\n",
       "      <th>3</th>\n",
       "      <td>1.992857</td>\n",
       "      <td>1.90</td>\n",
       "      <td>1.157734</td>\n",
       "      <td>rzcf</td>\n",
       "    </tr>\n",
       "    <tr>\n",
       "      <th>4</th>\n",
       "      <td>4.527857</td>\n",
       "      <td>4.50</td>\n",
       "      <td>2.498653</td>\n",
       "      <td>djsa</td>\n",
       "    </tr>\n",
       "  </tbody>\n",
       "</table>\n",
       "</div>"
      ],
      "text/plain": [
       "   gust_mean  gust_median  gust_std   uid\n",
       "0   6.577143         6.62  2.962208  waln\n",
       "1   5.080714         5.42  2.294039  wlwd\n",
       "2   3.024286         2.26  2.655266  zxdf\n",
       "3   1.992857         1.90  1.157734  rzcf\n",
       "4   4.527857         4.50  2.498653  djsa"
      ]
     },
     "execution_count": 72,
     "metadata": {},
     "output_type": "execute_result"
    }
   ],
   "source": [
    "clim_featuresGDF=pd.concat([pd.DataFrame(clim_featuresG,columns=['gust_mean','gust_median','gust_std']),\n",
    "                           pd.DataFrame(climIdsG,columns=['uid'])],1)\n",
    "clim_featuresGDF.head()"
   ]
  },
  {
   "cell_type": "code",
   "execution_count": 73,
   "metadata": {},
   "outputs": [
    {
     "name": "stderr",
     "output_type": "stream",
     "text": [
      "/var/venv/cuda112py37/lib/python3.7/site-packages/ipykernel_launcher.py:2: FutureWarning: In a future version of pandas all arguments of concat except for the argument 'objs' will be keyword-only\n",
      "  \n",
      "/var/venv/cuda112py37/lib/python3.7/site-packages/ipykernel_launcher.py:5: FutureWarning: In a future version of pandas all arguments of concat except for the argument 'objs' will be keyword-only\n",
      "  \"\"\"\n"
     ]
    },
    {
     "data": {
      "text/html": [
       "<div>\n",
       "<style scoped>\n",
       "    .dataframe tbody tr th:only-of-type {\n",
       "        vertical-align: middle;\n",
       "    }\n",
       "\n",
       "    .dataframe tbody tr th {\n",
       "        vertical-align: top;\n",
       "    }\n",
       "\n",
       "    .dataframe thead th {\n",
       "        text-align: right;\n",
       "    }\n",
       "</style>\n",
       "<table border=\"1\" class=\"dataframe\">\n",
       "  <thead>\n",
       "    <tr style=\"text-align: right;\">\n",
       "      <th></th>\n",
       "      <th>hgt_mean</th>\n",
       "      <th>hgt_median</th>\n",
       "      <th>hgt_std</th>\n",
       "      <th>uid</th>\n",
       "    </tr>\n",
       "  </thead>\n",
       "  <tbody>\n",
       "    <tr>\n",
       "      <th>0</th>\n",
       "      <td>120.442308</td>\n",
       "      <td>120.442308</td>\n",
       "      <td>0.000000e+00</td>\n",
       "      <td>waln</td>\n",
       "    </tr>\n",
       "    <tr>\n",
       "      <th>1</th>\n",
       "      <td>109.023669</td>\n",
       "      <td>109.023669</td>\n",
       "      <td>2.842171e-14</td>\n",
       "      <td>wlwd</td>\n",
       "    </tr>\n",
       "    <tr>\n",
       "      <th>2</th>\n",
       "      <td>309.899408</td>\n",
       "      <td>309.899408</td>\n",
       "      <td>0.000000e+00</td>\n",
       "      <td>zxdf</td>\n",
       "    </tr>\n",
       "    <tr>\n",
       "      <th>3</th>\n",
       "      <td>484.071429</td>\n",
       "      <td>484.071429</td>\n",
       "      <td>1.705303e-13</td>\n",
       "      <td>rzcf</td>\n",
       "    </tr>\n",
       "    <tr>\n",
       "      <th>4</th>\n",
       "      <td>161.089744</td>\n",
       "      <td>161.089744</td>\n",
       "      <td>2.842171e-14</td>\n",
       "      <td>djsa</td>\n",
       "    </tr>\n",
       "  </tbody>\n",
       "</table>\n",
       "</div>"
      ],
      "text/plain": [
       "     hgt_mean  hgt_median       hgt_std   uid\n",
       "0  120.442308  120.442308  0.000000e+00  waln\n",
       "1  109.023669  109.023669  2.842171e-14  wlwd\n",
       "2  309.899408  309.899408  0.000000e+00  zxdf\n",
       "3  484.071429  484.071429  1.705303e-13  rzcf\n",
       "4  161.089744  161.089744  2.842171e-14  djsa"
      ]
     },
     "execution_count": 73,
     "metadata": {},
     "output_type": "execute_result"
    }
   ],
   "source": [
    "clim_featuresSDF=pd.concat([pd.DataFrame(clim_featuresS,columns=['snowc_mean','snowc_median','snowc_std']),\n",
    "                           pd.DataFrame(climIdsS,columns=['uid'])],1)\n",
    "clim_featuresSDF.head()\n",
    "clim_featuresHDF=pd.concat([pd.DataFrame(clim_featuresH,columns=['hgt_mean','hgt_median','hgt_std']),\n",
    "                           pd.DataFrame(climIdsH,columns=['uid'])],1)\n",
    "clim_featuresHDF.head()"
   ]
  },
  {
   "cell_type": "code",
   "execution_count": 74,
   "metadata": {},
   "outputs": [
    {
     "data": {
      "image/png": "[encoded data removed]",
      "text/plain": [
       "<Figure size 640x480 with 1 Axes>"
      ]
     },
     "metadata": {},
     "output_type": "display_data"
    },
    {
     "data": {
      "image/png": "[encoded data removed]",
      "text/plain": [
       "<Figure size 640x480 with 1 Axes>"
      ]
     },
     "metadata": {},
     "output_type": "display_data"
    }
   ],
   "source": [
    "plt.hist(clim_featuresGDF.gust_mean,50)\n",
    "plt.hist(clim_featuresGDF.gust_median,50)\n",
    "plt.show()\n",
    "plt.hist(clim_featuresGDF.gust_std,50)\n",
    "plt.show()"
   ]
  },
  {
   "cell_type": "code",
   "execution_count": 75,
   "metadata": {
    "scrolled": true
   },
   "outputs": [],
   "source": [
    "# plt.imshow(rgbCLIM[0])\n",
    "# plt.show()\n",
    "# # plt.imshow( np.load(CLIMATE_DATA_DIR+f)['a'])\n",
    "# # plt.show()"
   ]
  },
  {
   "cell_type": "code",
   "execution_count": 76,
   "metadata": {},
   "outputs": [],
   "source": [
    "# clim_featuresL.shape,rgbCLIM.shape,im.shape, np.load(CLIMATE_DATA_DIR+f)['a'].shape,f,f.split('.')[0]\n",
    "# clim_featuresL"
   ]
  },
  {
   "cell_type": "code",
   "execution_count": 77,
   "metadata": {},
   "outputs": [
    {
     "data": {
      "text/html": [
       "<div>\n",
       "<style scoped>\n",
       "    .dataframe tbody tr th:only-of-type {\n",
       "        vertical-align: middle;\n",
       "    }\n",
       "\n",
       "    .dataframe tbody tr th {\n",
       "        vertical-align: top;\n",
       "    }\n",
       "\n",
       "    .dataframe thead th {\n",
       "        text-align: right;\n",
       "    }\n",
       "</style>\n",
       "<table border=\"1\" class=\"dataframe\">\n",
       "  <thead>\n",
       "    <tr style=\"text-align: right;\">\n",
       "      <th></th>\n",
       "      <th>uid</th>\n",
       "      <th>latitude</th>\n",
       "      <th>longitude</th>\n",
       "      <th>date</th>\n",
       "      <th>split</th>\n",
       "      <th>season</th>\n",
       "      <th>region</th>\n",
       "      <th>severity</th>\n",
       "      <th>density</th>\n",
       "      <th>latlong</th>\n",
       "      <th>latlong1</th>\n",
       "      <th>latlong0</th>\n",
       "      <th>latlong10</th>\n",
       "      <th>altitude</th>\n",
       "      <th>DEMmean</th>\n",
       "      <th>DEMmedian</th>\n",
       "      <th>DEMstd</th>\n",
       "    </tr>\n",
       "  </thead>\n",
       "  <tbody>\n",
       "    <tr>\n",
       "      <th>0</th>\n",
       "      <td>aabm</td>\n",
       "      <td>39.080319</td>\n",
       "      <td>-86.430867</td>\n",
       "      <td>2018-05-14</td>\n",
       "      <td>train</td>\n",
       "      <td>spring</td>\n",
       "      <td>midwest</td>\n",
       "      <td>1.0</td>\n",
       "      <td>585.0</td>\n",
       "      <td>39.08_-86.43</td>\n",
       "      <td>39.1_-86.4</td>\n",
       "      <td>39.0_-86.0</td>\n",
       "      <td>39.1_-86.0</td>\n",
       "      <td>169.0</td>\n",
       "      <td>61.069930</td>\n",
       "      <td>22.5</td>\n",
       "      <td>68.402346</td>\n",
       "    </tr>\n",
       "    <tr>\n",
       "      <th>1</th>\n",
       "      <td>aabn</td>\n",
       "      <td>36.559700</td>\n",
       "      <td>-121.510000</td>\n",
       "      <td>2016-08-31</td>\n",
       "      <td>test</td>\n",
       "      <td>summer</td>\n",
       "      <td>-1</td>\n",
       "      <td>-1.0</td>\n",
       "      <td>-1.0</td>\n",
       "      <td>36.56_-121.51</td>\n",
       "      <td>36.6_-121.5</td>\n",
       "      <td>37.0_-122.0</td>\n",
       "      <td>36.6_-122.0</td>\n",
       "      <td>30.0</td>\n",
       "      <td>62.063702</td>\n",
       "      <td>40.0</td>\n",
       "      <td>53.451200</td>\n",
       "    </tr>\n",
       "    <tr>\n",
       "      <th>2</th>\n",
       "      <td>aacd</td>\n",
       "      <td>35.875083</td>\n",
       "      <td>-78.878434</td>\n",
       "      <td>2020-11-19</td>\n",
       "      <td>train</td>\n",
       "      <td>fall</td>\n",
       "      <td>south</td>\n",
       "      <td>1.0</td>\n",
       "      <td>290.0</td>\n",
       "      <td>35.88_-78.88</td>\n",
       "      <td>35.9_-78.9</td>\n",
       "      <td>36.0_-79.0</td>\n",
       "      <td>35.9_-79.0</td>\n",
       "      <td>94.0</td>\n",
       "      <td>130.127404</td>\n",
       "      <td>133.0</td>\n",
       "      <td>44.633880</td>\n",
       "    </tr>\n",
       "    <tr>\n",
       "      <th>3</th>\n",
       "      <td>aaee</td>\n",
       "      <td>35.487000</td>\n",
       "      <td>-79.062133</td>\n",
       "      <td>2016-08-24</td>\n",
       "      <td>train</td>\n",
       "      <td>summer</td>\n",
       "      <td>south</td>\n",
       "      <td>1.0</td>\n",
       "      <td>1614.0</td>\n",
       "      <td>35.49_-79.06</td>\n",
       "      <td>35.5_-79.1</td>\n",
       "      <td>35.0_-79.0</td>\n",
       "      <td>35.5_-79.0</td>\n",
       "      <td>129.0</td>\n",
       "      <td>147.151442</td>\n",
       "      <td>152.0</td>\n",
       "      <td>50.721441</td>\n",
       "    </tr>\n",
       "    <tr>\n",
       "      <th>4</th>\n",
       "      <td>aaff</td>\n",
       "      <td>38.049471</td>\n",
       "      <td>-99.827001</td>\n",
       "      <td>2019-07-23</td>\n",
       "      <td>train</td>\n",
       "      <td>summer</td>\n",
       "      <td>midwest</td>\n",
       "      <td>3.0</td>\n",
       "      <td>111825.0</td>\n",
       "      <td>38.05_-99.83</td>\n",
       "      <td>38.0_-99.8</td>\n",
       "      <td>38.0_-100.0</td>\n",
       "      <td>38.0_-100.0</td>\n",
       "      <td>702.0</td>\n",
       "      <td>132.240093</td>\n",
       "      <td>131.5</td>\n",
       "      <td>52.735658</td>\n",
       "    </tr>\n",
       "  </tbody>\n",
       "</table>\n",
       "</div>"
      ],
      "text/plain": [
       "    uid   latitude   longitude       date  split  season   region  severity  \\\n",
       "0  aabm  39.080319  -86.430867 2018-05-14  train  spring  midwest       1.0   \n",
       "1  aabn  36.559700 -121.510000 2016-08-31   test  summer       -1      -1.0   \n",
       "2  aacd  35.875083  -78.878434 2020-11-19  train    fall    south       1.0   \n",
       "3  aaee  35.487000  -79.062133 2016-08-24  train  summer    south       1.0   \n",
       "4  aaff  38.049471  -99.827001 2019-07-23  train  summer  midwest       3.0   \n",
       "\n",
       "    density        latlong     latlong1     latlong0    latlong10  altitude  \\\n",
       "0     585.0   39.08_-86.43   39.1_-86.4   39.0_-86.0   39.1_-86.0     169.0   \n",
       "1      -1.0  36.56_-121.51  36.6_-121.5  37.0_-122.0  36.6_-122.0      30.0   \n",
       "2     290.0   35.88_-78.88   35.9_-78.9   36.0_-79.0   35.9_-79.0      94.0   \n",
       "3    1614.0   35.49_-79.06   35.5_-79.1   35.0_-79.0   35.5_-79.0     129.0   \n",
       "4  111825.0   38.05_-99.83   38.0_-99.8  38.0_-100.0  38.0_-100.0     702.0   \n",
       "\n",
       "      DEMmean  DEMmedian     DEMstd  \n",
       "0   61.069930       22.5  68.402346  \n",
       "1   62.063702       40.0  53.451200  \n",
       "2  130.127404      133.0  44.633880  \n",
       "3  147.151442      152.0  50.721441  \n",
       "4  132.240093      131.5  52.735658  "
      ]
     },
     "execution_count": 77,
     "metadata": {},
     "output_type": "execute_result"
    }
   ],
   "source": [
    "metadata=metadata.merge(altDF,how='left').fillna(-1)\n",
    "metadata.head()"
   ]
  },
  {
   "cell_type": "code",
   "execution_count": 78,
   "metadata": {},
   "outputs": [
    {
     "data": {
      "text/plain": [
       "array([[108.17427885, 104.5       ,  47.36478388],\n",
       "       [107.60153846, 103.        ,  33.23362057],\n",
       "       [ 62.67617866,  40.        ,  64.74393619],\n",
       "       ...,\n",
       "       [ 82.21153846,  78.        ,  33.90528325],\n",
       "       [110.68629808, 116.        ,  56.38459457],\n",
       "       [107.12379808,  96.        ,  55.43781436]])"
      ]
     },
     "execution_count": 78,
     "metadata": {},
     "output_type": "execute_result"
    }
   ],
   "source": [
    "dem_featuresL.shape,im.shape\n",
    "# (im[...,0]-im[...,1]).sum()\n",
    "# cv2.imread(DEM_DATA_DIR+f, cv2.IMREAD_GRAYSCALE).shape\n",
    "dem_featuresL"
   ]
  },
  {
   "cell_type": "code",
   "execution_count": 79,
   "metadata": {},
   "outputs": [
    {
     "data": {
      "text/plain": [
       "14905"
      ]
     },
     "execution_count": 79,
     "metadata": {},
     "output_type": "execute_result"
    }
   ],
   "source": [
    "gc.collect()"
   ]
  },
  {
   "cell_type": "code",
   "execution_count": 80,
   "metadata": {},
   "outputs": [],
   "source": [
    "# !pip3 install rasterio"
   ]
  },
  {
   "cell_type": "markdown",
   "metadata": {},
   "source": [
    "    https://epic.awi.de/id/eprint/49883/1/remotesensing-11-01730.pdf\n",
    "\n",
    "Band Wavelength (μm) | Resolution (m) | Band Wavelength (μm) | Resolution (m)  \n",
    "\n",
    "                    |        LANDSAT       |       SENTINEL-2  \n",
    "\n",
    "    Coastal Aerosol | 1 | 0.45–0.451  | 30 | 1  | 0.430–0.450 | 60\n",
    "\n",
    "    Blue            | 2 | 0.452–0.51  | 30 | 2  | 0.448–0.546 | 10\n",
    "\n",
    "    Green           | 3 | 0.533–0.59  | 30 | 3  | 0.538–0.583 | 10\n",
    "\n",
    "    Red             | 4 | 0.636–0.673 | 30 | 4  | 0.646–0.684 | 10\n",
    "\n",
    "    NIR             | 5 | 0.851–0.879 | 30 | 8A | 0.848–0.881 | 20\n",
    "\n",
    "    NIR2                                   | 8 | 0.763–0.908 | 10\n",
    "\n",
    "    SWIR1           | 6 | 1.566–1.651 | 30 | 11 | 1.542–1.685 | 20\n",
    "\n",
    "    SWIR2           | 7 | 2.107–2.294 | 30 | 12 | 2.081–2.323 | 20\n",
    "\n",
    "    Cirrus          | 9 | 1.363–1.384 | 30 | 10 | 1.336–1.441 | 60\n"
   ]
  },
  {
   "cell_type": "code",
   "execution_count": 81,
   "metadata": {},
   "outputs": [
    {
     "data": {
      "text/plain": [
       "(103, 103, 3)"
      ]
     },
     "execution_count": 81,
     "metadata": {},
     "output_type": "execute_result"
    }
   ],
   "source": [
    "import rasterio\n",
    "def read_band(path,band='B4'):\n",
    "    im0=os.listdir(path)[0].split('.')[0]\n",
    "    b=rasterio.open(path+im0+'.'+band+'.tif' ).read()[0,...]\n",
    "#     percB = np.percentile(b,[0.1,99.99])\n",
    "#     b = np.clip(b, percB[0], percB[1])\n",
    "    B=(((b-b.min())/(b.max()-b.min()))*255).astype('uint8')\n",
    "    return(B)\n",
    "\n",
    "TIME_BUFFER_DAYS=20\n",
    "AREA_BUFFER = 500\n",
    "CLOUDS_LESS_THAN=30\n",
    "\n",
    "BASE_DIRs = 'EEtemp/S_t'+str(TIME_BUFFER_DAYS)+'_a'+str(AREA_BUFFER)+'_c'+str(CLOUDS_LESS_THAN)+'/'\n",
    "BASE_DIRl = 'EEtemp/L_t'+str(TIME_BUFFER_DAYS)+'_a'+str(AREA_BUFFER)+'_c'+str(CLOUDS_LESS_THAN)+'/'\n",
    "\n",
    "num=1\n",
    "file = BASE_DIRs+os.listdir(BASE_DIRs)[num]+'/'\n",
    "# file = BASE_DIRl+os.listdir(BASE_DIRl)[num]+'/'\n",
    "B4=read_band(file,band='B4')\n",
    "B3=read_band(file,band='B3')\n",
    "B2=read_band(file,band='B2')\n",
    "RGB=np.stack((B4,B3,B2),-1)\n",
    "RGB.shape"
   ]
  },
  {
   "cell_type": "code",
   "execution_count": 82,
   "metadata": {
    "scrolled": true
   },
   "outputs": [
    {
     "data": {
      "text/plain": [
       "(36, 35)"
      ]
     },
     "execution_count": 82,
     "metadata": {},
     "output_type": "execute_result"
    }
   ],
   "source": [
    "num=1\n",
    "file = BASE_DIRl+os.listdir(BASE_DIRl)[num]+'/'\n",
    "im0=os.listdir(file)[0].split('.')[0]+'.B2.tif'\n",
    "b=rasterio.open(file+im0 ).read()[0,...]\n",
    "b.shape"
   ]
  },
  {
   "cell_type": "code",
   "execution_count": 83,
   "metadata": {
    "scrolled": true
   },
   "outputs": [
    {
     "data": {
      "image/png": "[encoded data removed]",
      "text/plain": [
       "<Figure size 640x480 with 1 Axes>"
      ]
     },
     "metadata": {},
     "output_type": "display_data"
    }
   ],
   "source": [
    "plt.imshow(b)\n",
    "plt.show()\n",
    "# np.unique(b),b.mean(),b[8:-8,8:-8].mean()"
   ]
  },
  {
   "cell_type": "code",
   "execution_count": 84,
   "metadata": {},
   "outputs": [
    {
     "data": {
      "image/png": "[encoded data removed]",
      "text/plain": [
       "<Figure size 640x480 with 1 Axes>"
      ]
     },
     "metadata": {},
     "output_type": "display_data"
    },
    {
     "data": {
      "image/png": "[encoded data removed]",
      "text/plain": [
       "<Figure size 640x480 with 1 Axes>"
      ]
     },
     "metadata": {},
     "output_type": "display_data"
    }
   ],
   "source": [
    "plt.imshow(B4)\n",
    "plt.show()\n",
    "plt.imshow(RGB)\n",
    "plt.show()"
   ]
  },
  {
   "cell_type": "code",
   "execution_count": 95,
   "metadata": {},
   "outputs": [],
   "source": [
    "# RGBr=cv2.resize(RGB, (300,300))\n",
    "# plt.imshow(RGBr)\n",
    "# plt.show()\n",
    "# RGBr=cv2.resize(RGB, (300,300), cv2.INTER_CUBIC)\n",
    "# plt.imshow(RGBr)\n",
    "# plt.show()"
   ]
  },
  {
   "cell_type": "code",
   "execution_count": 85,
   "metadata": {},
   "outputs": [],
   "source": [
    "RESIZE_SIZE=64\n",
    "BASE_DIR=BASE_DIRs\n",
    "\n",
    "rgbsS=[]\n",
    "idsS=[]\n",
    "\n",
    "# for uid in tqdm(os.listdir(BASE_DIR)[:200], total=200):\n",
    "for uid in tqdm(os.listdir(BASE_DIR)):\n",
    "\n",
    "    file = BASE_DIR+uid+'/'\n",
    "    \n",
    "    try:\n",
    "        B1=read_band(file,band='B1')\n",
    "        B1=cv2.resize(B1,(RESIZE_SIZE, RESIZE_SIZE))\n",
    "        B2=read_band(file,band='B2')\n",
    "        B2=cv2.resize(B2,(RESIZE_SIZE, RESIZE_SIZE))\n",
    "        B3=read_band(file,band='B3')\n",
    "        B3=cv2.resize(B3,(RESIZE_SIZE, RESIZE_SIZE))\n",
    "        B4=read_band(file,band='B4')\n",
    "        B4=cv2.resize(B4,(RESIZE_SIZE, RESIZE_SIZE))\n",
    "#         B5=read_band(file,band='B8A')############################################\n",
    "        B5=read_band(file,band='B8')\n",
    "        B5=cv2.resize(B5,(RESIZE_SIZE, RESIZE_SIZE))\n",
    "        B6=read_band(file,band='B11')\n",
    "        B6=cv2.resize(B6,(RESIZE_SIZE, RESIZE_SIZE))\n",
    "        B7=read_band(file,band='B12')\n",
    "        B7=cv2.resize(B7,(RESIZE_SIZE, RESIZE_SIZE))\n",
    "#         B8=read_band(file,band='B10')\n",
    "#         B8=cv2.resize(B8,(RESIZE_SIZE, RESIZE_SIZE))\n",
    "#         allBands=np.stack((B1,B2,B3,B4,B5,B6,B7,B8),-1)\n",
    "        allBands=np.stack((B1,B2,B3,B4,B5,B6,B7),-1)\n",
    "        \n",
    "#         allBands=cv2.resize(allBands,(RESIZE_SIZE, RESIZE_SIZE))\n",
    "        \n",
    "        rgbsS.append(allBands)\n",
    "        idsS.append(uid)\n",
    "    except:\n",
    "        pass\n",
    "\n",
    "#        \n",
    "            \n",
    "rgbsS=np.stack(rgbsS)    \n",
    "idsS=np.stack(idsS) "
   ]
  },
  {
   "cell_type": "code",
   "execution_count": null,
   "metadata": {},
   "outputs": [],
   "source": []
  },
  {
   "cell_type": "code",
   "execution_count": 86,
   "metadata": {},
   "outputs": [],
   "source": [
    "# rgbsS.shape,rgbsS[0][:,:,[3,2,1]].shape,allBands.shape"
   ]
  },
  {
   "cell_type": "code",
   "execution_count": 87,
   "metadata": {},
   "outputs": [],
   "source": [
    "# plt.imshow(rgbsS[1112][:,:,[3,2,1]])\n",
    "# plt.show()"
   ]
  },
  {
   "cell_type": "code",
   "execution_count": 88,
   "metadata": {},
   "outputs": [],
   "source": [
    "RESIZE_SIZE=64\n",
    "BASE_DIR=BASE_DIRl\n",
    "\n",
    "rgbsL=[]\n",
    "idsL=[]\n",
    "\n",
    "# for uid in tqdm(os.listdir(BASE_DIR)[:200], total=200):\n",
    "for uid in tqdm(os.listdir(BASE_DIR)):\n",
    "\n",
    "    file = BASE_DIR+uid+'/'\n",
    "    \n",
    "    try:\n",
    "        B1=read_band(file,band='B1')\n",
    "        B1=cv2.resize(B1,(RESIZE_SIZE, RESIZE_SIZE))\n",
    "        B2=read_band(file,band='B2')\n",
    "        B2=cv2.resize(B2,(RESIZE_SIZE, RESIZE_SIZE))\n",
    "        B3=read_band(file,band='B3')\n",
    "        B3=cv2.resize(B3,(RESIZE_SIZE, RESIZE_SIZE))\n",
    "        B4=read_band(file,band='B4')\n",
    "        B4=cv2.resize(B4,(RESIZE_SIZE, RESIZE_SIZE))\n",
    "        B5=read_band(file,band='B5')\n",
    "        B5=cv2.resize(B5,(RESIZE_SIZE, RESIZE_SIZE))\n",
    "        B6=read_band(file,band='B6')\n",
    "        B6=cv2.resize(B6,(RESIZE_SIZE, RESIZE_SIZE))\n",
    "        B7=read_band(file,band='B7')\n",
    "        B7=cv2.resize(B7,(RESIZE_SIZE, RESIZE_SIZE))\n",
    "#         B8=read_band(file,band='B9')\n",
    "#         B8=cv2.resize(B8,(RESIZE_SIZE, RESIZE_SIZE))\n",
    "        \n",
    "        allBands=np.stack((B1,B2,B3,B4,B5,B6,B7),-1)\n",
    "        \n",
    "#         allBands=cv2.resize(allBands,(RESIZE_SIZE, RESIZE_SIZE))\n",
    "        \n",
    "        rgbsL.append(allBands)\n",
    "        idsL.append(uid)\n",
    "    except:\n",
    "        pass\n",
    "\n",
    "#        \n",
    "            \n",
    "rgbsL=np.stack(rgbsL)    \n",
    "idsL=np.stack(idsL) "
   ]
  },
  {
   "cell_type": "code",
   "execution_count": 89,
   "metadata": {},
   "outputs": [],
   "source": [
    "# RESIZE_SIZE=20\n",
    "# RESIZE_SIZEq=int(RESIZE_SIZE/4)\n",
    "# BASE_DIR=BASE_DIRl\n",
    "\n",
    "# L1011fs=[]\n",
    "# idsLf=[]\n",
    "\n",
    "# # for uid in tqdm(os.listdir(BASE_DIR)[:200], total=200):\n",
    "# for uid in tqdm(os.listdir(BASE_DIR)):\n",
    "\n",
    "#     file = BASE_DIR+uid+'/'\n",
    "    \n",
    "#     try:\n",
    "#         B10=read_band(file,band='B10')\n",
    "#         B10=cv2.resize(B10,(RESIZE_SIZE, RESIZE_SIZE))\n",
    "#         B11=read_band(file,band='B11')\n",
    "#         B11=cv2.resize(B11,(RESIZE_SIZE, RESIZE_SIZE))\n",
    "        \n",
    "#         B10mean=np.mean(B10)\n",
    "#         B10Cmean=np.mean(B10[RESIZE_SIZEq:-RESIZE_SIZEq,RESIZE_SIZEq:-RESIZE_SIZEq])\n",
    "#         B11mean=np.mean(B11)\n",
    "#         B11Cmean=np.mean(B11[RESIZE_SIZEq:-RESIZE_SIZEq,RESIZE_SIZEq:-RESIZE_SIZEq])\n",
    "        \n",
    "        \n",
    "#         L1011fs.append([B10mean,B10Cmean,B11mean,B11Cmean])\n",
    "#         idsLf.append(uid)\n",
    "#     except:\n",
    "#         pass\n",
    "\n",
    "# #        \n",
    "            \n",
    "# L1011fs=np.stack(L1011fs)   \n",
    "# idsLf=np.stack(idsLf)"
   ]
  },
  {
   "cell_type": "code",
   "execution_count": 96,
   "metadata": {},
   "outputs": [
    {
     "data": {
      "text/plain": [
       "5952"
      ]
     },
     "execution_count": 96,
     "metadata": {},
     "output_type": "execute_result"
    }
   ],
   "source": [
    "gc.collect()\n"
   ]
  },
  {
   "cell_type": "code",
   "execution_count": 97,
   "metadata": {},
   "outputs": [],
   "source": [
    "np.savez_compressed('L_t20_a500_c30', a=idsL, b=rgbsL)\n",
    "np.savez_compressed('S_t20_a500_c30', a=idsS, b=rgbsS)\n",
    "# np.savez_compressed('S_t20_a500_c30_8', a=idsS, b=rgbsS) #band8 instead 8A\n",
    "# np.savez_compressed('L_t20_a500_c30_B1011f', a=idsLf, b=L1011fs) #\n"
   ]
  },
  {
   "cell_type": "code",
   "execution_count": 98,
   "metadata": {
    "scrolled": true
   },
   "outputs": [],
   "source": [
    "\n",
    "# S_file='S_t20_a200_c30.npz'\n",
    "# L_file='L_t20_a200_c30.npz'\n",
    "S_file='S_t20_a500_c30.npz'\n",
    "# S_file='S_t20_a500_c30_8.npz'\n",
    "# L_file='L_t20_a500_c30.npz'\n",
    "# temp=np.load(L_file)\n",
    "# idsL=temp['a']\n",
    "# rgbsL=temp['b']\n",
    "temp=np.load(S_file)\n",
    "idsS=temp['a']\n",
    "rgbsS=temp['b']"
   ]
  },
  {
   "cell_type": "code",
   "execution_count": 99,
   "metadata": {},
   "outputs": [],
   "source": [
    "# Lf_file='L_t20_a500_c30_B1011f.npz'\n",
    "# temp=np.load(Lf_file)\n",
    "# idsLf=temp['a']\n",
    "# L1011fs=temp['b']"
   ]
  },
  {
   "cell_type": "code",
   "execution_count": 100,
   "metadata": {},
   "outputs": [],
   "source": [
    "# idsLfDF=pd.DataFrame(np.concatenate((np.expand_dims(idsLf,-1), L1011fs),-1),columns=['uid', 'LB10mean','LB10Cmean','LB11mean','LB11Cmean'])\n",
    "# idsLfDF[['LB10mean','LB10Cmean','LB11mean','LB11Cmean']]=idsLfDF[['LB10mean','LB10Cmean','LB11mean','LB11Cmean']].astype(float)\n",
    "# idsLfDF.head()\n"
   ]
  },
  {
   "cell_type": "code",
   "execution_count": null,
   "metadata": {},
   "outputs": [],
   "source": []
  }
 ],
 "metadata": {
  "colab": {
   "authorship_tag": "ABX9TyOSc2OvTGXSi0VpLOwRmlqC",
   "provenance": [
    {
     "file_id": "1g4Zk_MZ921O9jUl_p7vXYQlJ8K0Dca1A",
     "timestamp": 1671436706092
    },
    {
     "file_id": "1td1A96pr-GFAohrlPKNamiMoFIHDYT1B",
     "timestamp": 1671186589886
    }
   ]
  },
  "kernelspec": {
   "display_name": "Python 3 (ipykernel)",
   "language": "python",
   "name": "python3"
  },
  "language_info": {
   "codemirror_mode": {
    "name": "ipython",
    "version": 3
   },
   "file_extension": ".py",
   "mimetype": "text/x-python",
   "name": "python",
   "nbconvert_exporter": "python",
   "pygments_lexer": "ipython3",
   "version": "3.7.15"
  }
 },
 "nbformat": 4,
 "nbformat_minor": 1
}
