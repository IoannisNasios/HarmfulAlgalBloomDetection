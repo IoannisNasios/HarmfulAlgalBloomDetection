{
 "cells": [
  {
   "cell_type": "code",
   "execution_count": 79,
   "metadata": {
    "executionInfo": {
     "elapsed": 19,
     "status": "ok",
     "timestamp": 1671436772711,
     "user": {
      "displayName": "Ioannis Nasios",
      "userId": "11761353373054103725"
     },
     "user_tz": -120
    },
    "id": "zDQWwmRjDwt-",
    "scrolled": true
   },
   "outputs": [],
   "source": [
    "#authenticator must be valid, check earth engine documentation\n",
    "import ee\n",
    "ee.Authenticate()\n",
    "ee.Initialize()\n",
    "print(ee.Image(\"NASA/NASADEM_HGT/001\").get(\"title\").getInfo())"
   ]
  },
  {
   "cell_type": "code",
   "execution_count": 2,
   "metadata": {
    "colab": {
     "base_uri": "https://localhost:8080/"
    },
    "executionInfo": {
     "elapsed": 356,
     "status": "ok",
     "timestamp": 1671436795770,
     "user": {
      "displayName": "Ioannis Nasios",
      "userId": "11761353373054103725"
     },
     "user_tz": -120
    },
    "id": "AmcJTBKIQoIl",
    "outputId": "1ff1522b-4685-4f57-a899-6e26a4bd0a9e"
   },
   "outputs": [
    {
     "name": "stdout",
     "output_type": "stream",
     "text": [
      "Python 3.9.16\r\n"
     ]
    }
   ],
   "source": [
    "!python3 --version"
   ]
  },
  {
   "cell_type": "code",
   "execution_count": 3,
   "metadata": {
    "colab": {
     "base_uri": "https://localhost:8080/"
    },
    "executionInfo": {
     "elapsed": 30211,
     "status": "ok",
     "timestamp": 1671436825974,
     "user": {
      "displayName": "Ioannis Nasios",
      "userId": "11761353373054103725"
     },
     "user_tz": -120
    },
    "id": "t2DG5arCQqUF",
    "outputId": "23d905dc-105c-45e7-b1ab-4e2c8c93427c"
   },
   "outputs": [],
   "source": [
    "# !pip3 install -q odc.stac\n",
    "# !pip3 install -q geopandas\n",
    "# !pip3 install -q planetary_computer\n",
    "# !pip3 install -q rioxarray\n",
    "# !pip3 install -q loguru"
   ]
  },
  {
   "cell_type": "code",
   "execution_count": null,
   "metadata": {
    "executionInfo": {
     "elapsed": 10,
     "status": "ok",
     "timestamp": 1671436825975,
     "user": {
      "displayName": "Ioannis Nasios",
      "userId": "11761353373054103725"
     },
     "user_tz": -120
    },
    "id": "4mwTdiJ-YGsG"
   },
   "outputs": [],
   "source": []
  },
  {
   "cell_type": "code",
   "execution_count": 4,
   "metadata": {
    "executionInfo": {
     "elapsed": 5982,
     "status": "ok",
     "timestamp": 1671448127185,
     "user": {
      "displayName": "Ioannis Nasios",
      "userId": "11761353373054103725"
     },
     "user_tz": -120
    },
    "id": "OPOF_CovQLHF"
   },
   "outputs": [],
   "source": [
    "# %load_ext lab_black\n",
    "%load_ext autoreload\n",
    "%autoreload 2"
   ]
  },
  {
   "cell_type": "code",
   "execution_count": 5,
   "metadata": {
    "executionInfo": {
     "elapsed": 8,
     "status": "ok",
     "timestamp": 1671448127721,
     "user": {
      "displayName": "Ioannis Nasios",
      "userId": "11761353373054103725"
     },
     "user_tz": -120
    },
    "id": "sC7xm9abQLJE"
   },
   "outputs": [],
   "source": [
    "import cv2\n",
    "from datetime import timedelta\n",
    "import matplotlib.pyplot as plt\n",
    "import numpy as np\n",
    "import odc.stac\n",
    "import pandas as pd\n",
    "from pathlib import Path\n",
    "from sklearn.metrics import mean_squared_error\n",
    "from sklearn.preprocessing import StandardScaler\n",
    "from tqdm import tqdm\n",
    "import gc\n",
    "\n",
    "import multiprocessing\n",
    "from multiprocessing import Pool\n",
    "\n",
    "%matplotlib inline"
   ]
  },
  {
   "cell_type": "code",
   "execution_count": 6,
   "metadata": {},
   "outputs": [],
   "source": [
    "import geopy.distance as distance\n",
    "\n",
    "# get our bounding box to search latitude and longitude coordinates\n",
    "def get_bounding_box(latitude, longitude, meter_buffer=50000):\n",
    "    \"\"\"\n",
    "    Given a latitude, longitude, and buffer in meters, returns a bounding\n",
    "    box around the point with the buffer on the left, right, top, and bottom.\n",
    "\n",
    "    Returns a list of [minx, miny, maxx, maxy]\n",
    "    \"\"\"\n",
    "    distance_search = distance.distance(meters=meter_buffer)\n",
    "\n",
    "    # calculate the lat/long bounds based on ground distance\n",
    "    # bearings are cardinal directions to move (south, west, north, and east)\n",
    "    min_lat = distance_search.destination((latitude, longitude), bearing=180)[0]\n",
    "    min_long = distance_search.destination((latitude, longitude), bearing=270)[1]\n",
    "    max_lat = distance_search.destination((latitude, longitude), bearing=0)[0]\n",
    "    max_long = distance_search.destination((latitude, longitude), bearing=90)[1]\n",
    "\n",
    "    return [min_long, min_lat, max_long, max_lat]\n",
    "\n"
   ]
  },
  {
   "cell_type": "code",
   "execution_count": 7,
   "metadata": {
    "executionInfo": {
     "elapsed": 9,
     "status": "ok",
     "timestamp": 1671448127724,
     "user": {
      "displayName": "Ioannis Nasios",
      "userId": "11761353373054103725"
     },
     "user_tz": -120
    },
    "id": "_bCrWJ5xQmKS"
   },
   "outputs": [],
   "source": [
    "DATA_DIR = ''"
   ]
  },
  {
   "cell_type": "code",
   "execution_count": 8,
   "metadata": {
    "colab": {
     "base_uri": "https://localhost:8080/",
     "height": 206
    },
    "executionInfo": {
     "elapsed": 77,
     "status": "ok",
     "timestamp": 1671448128303,
     "user": {
      "displayName": "Ioannis Nasios",
      "userId": "11761353373054103725"
     },
     "user_tz": -120
    },
    "id": "8uHtQC0_Q3zM",
    "outputId": "8e081799-4518-46d6-9093-68266fd60820"
   },
   "outputs": [
    {
     "data": {
      "text/html": [
       "<div>\n",
       "<style scoped>\n",
       "    .dataframe tbody tr th:only-of-type {\n",
       "        vertical-align: middle;\n",
       "    }\n",
       "\n",
       "    .dataframe tbody tr th {\n",
       "        vertical-align: top;\n",
       "    }\n",
       "\n",
       "    .dataframe thead th {\n",
       "        text-align: right;\n",
       "    }\n",
       "</style>\n",
       "<table border=\"1\" class=\"dataframe\">\n",
       "  <thead>\n",
       "    <tr style=\"text-align: right;\">\n",
       "      <th></th>\n",
       "      <th>uid</th>\n",
       "      <th>latitude</th>\n",
       "      <th>longitude</th>\n",
       "      <th>date</th>\n",
       "      <th>split</th>\n",
       "    </tr>\n",
       "  </thead>\n",
       "  <tbody>\n",
       "    <tr>\n",
       "      <th>0</th>\n",
       "      <td>aabm</td>\n",
       "      <td>39.080319</td>\n",
       "      <td>-86.430867</td>\n",
       "      <td>2018-05-14</td>\n",
       "      <td>train</td>\n",
       "    </tr>\n",
       "    <tr>\n",
       "      <th>1</th>\n",
       "      <td>aabn</td>\n",
       "      <td>36.559700</td>\n",
       "      <td>-121.510000</td>\n",
       "      <td>2016-08-31</td>\n",
       "      <td>test</td>\n",
       "    </tr>\n",
       "    <tr>\n",
       "      <th>2</th>\n",
       "      <td>aacd</td>\n",
       "      <td>35.875083</td>\n",
       "      <td>-78.878434</td>\n",
       "      <td>2020-11-19</td>\n",
       "      <td>train</td>\n",
       "    </tr>\n",
       "    <tr>\n",
       "      <th>3</th>\n",
       "      <td>aaee</td>\n",
       "      <td>35.487000</td>\n",
       "      <td>-79.062133</td>\n",
       "      <td>2016-08-24</td>\n",
       "      <td>train</td>\n",
       "    </tr>\n",
       "    <tr>\n",
       "      <th>4</th>\n",
       "      <td>aaff</td>\n",
       "      <td>38.049471</td>\n",
       "      <td>-99.827001</td>\n",
       "      <td>2019-07-23</td>\n",
       "      <td>train</td>\n",
       "    </tr>\n",
       "  </tbody>\n",
       "</table>\n",
       "</div>"
      ],
      "text/plain": [
       "    uid   latitude   longitude        date  split\n",
       "0  aabm  39.080319  -86.430867  2018-05-14  train\n",
       "1  aabn  36.559700 -121.510000  2016-08-31   test\n",
       "2  aacd  35.875083  -78.878434  2020-11-19  train\n",
       "3  aaee  35.487000  -79.062133  2016-08-24  train\n",
       "4  aaff  38.049471  -99.827001  2019-07-23  train"
      ]
     },
     "execution_count": 8,
     "metadata": {},
     "output_type": "execute_result"
    }
   ],
   "source": [
    "metadata = pd.read_csv(DATA_DIR + \"metadata.csv\")\n",
    "metadata.head()"
   ]
  },
  {
   "cell_type": "code",
   "execution_count": 9,
   "metadata": {
    "colab": {
     "base_uri": "https://localhost:8080/"
    },
    "executionInfo": {
     "elapsed": 73,
     "status": "ok",
     "timestamp": 1671448128305,
     "user": {
      "displayName": "Ioannis Nasios",
      "userId": "11761353373054103725"
     },
     "user_tz": -120
    },
    "id": "V4XhdDcX1mDK",
    "outputId": "e5cf9bec-34d5-4470-b3c8-e961c7305ae9"
   },
   "outputs": [
    {
     "data": {
      "text/plain": [
       "23570"
      ]
     },
     "execution_count": 9,
     "metadata": {},
     "output_type": "execute_result"
    }
   ],
   "source": [
    "len(metadata.uid.unique())"
   ]
  },
  {
   "cell_type": "code",
   "execution_count": 10,
   "metadata": {
    "colab": {
     "base_uri": "https://localhost:8080/"
    },
    "executionInfo": {
     "elapsed": 63,
     "status": "ok",
     "timestamp": 1671448128306,
     "user": {
      "displayName": "Ioannis Nasios",
      "userId": "11761353373054103725"
     },
     "user_tz": -120
    },
    "id": "mD__UUQh1x2m",
    "outputId": "0ed231fd-023e-4545-c904-39bf22f2c00d"
   },
   "outputs": [
    {
     "data": {
      "text/plain": [
       "12681"
      ]
     },
     "execution_count": 10,
     "metadata": {},
     "output_type": "execute_result"
    }
   ],
   "source": [
    "len(metadata.loc[:,['latitude','longitude' \t]].drop_duplicates())"
   ]
  },
  {
   "cell_type": "code",
   "execution_count": 11,
   "metadata": {
    "colab": {
     "base_uri": "https://localhost:8080/"
    },
    "executionInfo": {
     "elapsed": 53,
     "status": "ok",
     "timestamp": 1671448128307,
     "user": {
      "displayName": "Ioannis Nasios",
      "userId": "11761353373054103725"
     },
     "user_tz": -120
    },
    "id": "dwl0GLm02djH",
    "outputId": "3212a638-1e0b-4689-82f8-5eabe3a1c7e6"
   },
   "outputs": [
    {
     "data": {
      "text/plain": [
       "array([   79,   106,   107, ..., 23565, 23566, 23569])"
      ]
     },
     "execution_count": 11,
     "metadata": {},
     "output_type": "execute_result"
    }
   ],
   "source": [
    "duplicated_rows=np.where(metadata.loc[:,['latitude','longitude' \t]].duplicated()==True)[0]\n",
    "duplicated_rows"
   ]
  },
  {
   "cell_type": "code",
   "execution_count": 12,
   "metadata": {
    "colab": {
     "base_uri": "https://localhost:8080/"
    },
    "executionInfo": {
     "elapsed": 45,
     "status": "ok",
     "timestamp": 1671448128308,
     "user": {
      "displayName": "Ioannis Nasios",
      "userId": "11761353373054103725"
     },
     "user_tz": -120
    },
    "id": "Mm-ufEvC2mi_",
    "outputId": "fc5c2a2d-ca3c-4b7e-d0fa-986fda8f3d22"
   },
   "outputs": [
    {
     "data": {
      "text/plain": [
       "uid                acdj\n",
       "latitude        37.3906\n",
       "longitude      -120.958\n",
       "date         2015-04-14\n",
       "split             train\n",
       "Name: 79, dtype: object"
      ]
     },
     "execution_count": 12,
     "metadata": {},
     "output_type": "execute_result"
    }
   ],
   "source": [
    "metadata.iloc[duplicated_rows[0],:]"
   ]
  },
  {
   "cell_type": "code",
   "execution_count": null,
   "metadata": {
    "executionInfo": {
     "elapsed": 35,
     "status": "ok",
     "timestamp": 1671448128308,
     "user": {
      "displayName": "Ioannis Nasios",
      "userId": "11761353373054103725"
     },
     "user_tz": -120
    },
    "id": "yEl6IpDf28jr"
   },
   "outputs": [],
   "source": []
  },
  {
   "cell_type": "code",
   "execution_count": 13,
   "metadata": {
    "colab": {
     "base_uri": "https://localhost:8080/",
     "height": 206
    },
    "executionInfo": {
     "elapsed": 35,
     "status": "ok",
     "timestamp": 1671448128309,
     "user": {
      "displayName": "Ioannis Nasios",
      "userId": "11761353373054103725"
     },
     "user_tz": -120
    },
    "id": "RH95IbIn2vtT",
    "outputId": "c76d671b-f663-488a-8436-9b3d304ed018"
   },
   "outputs": [
    {
     "data": {
      "text/html": [
       "<div>\n",
       "<style scoped>\n",
       "    .dataframe tbody tr th:only-of-type {\n",
       "        vertical-align: middle;\n",
       "    }\n",
       "\n",
       "    .dataframe tbody tr th {\n",
       "        vertical-align: top;\n",
       "    }\n",
       "\n",
       "    .dataframe thead th {\n",
       "        text-align: right;\n",
       "    }\n",
       "</style>\n",
       "<table border=\"1\" class=\"dataframe\">\n",
       "  <thead>\n",
       "    <tr style=\"text-align: right;\">\n",
       "      <th></th>\n",
       "      <th>uid</th>\n",
       "      <th>latitude</th>\n",
       "      <th>longitude</th>\n",
       "      <th>date</th>\n",
       "      <th>split</th>\n",
       "    </tr>\n",
       "  </thead>\n",
       "  <tbody>\n",
       "    <tr>\n",
       "      <th>22</th>\n",
       "      <td>aaqc</td>\n",
       "      <td>37.3906</td>\n",
       "      <td>-120.958</td>\n",
       "      <td>2013-07-09</td>\n",
       "      <td>train</td>\n",
       "    </tr>\n",
       "    <tr>\n",
       "      <th>79</th>\n",
       "      <td>acdj</td>\n",
       "      <td>37.3906</td>\n",
       "      <td>-120.958</td>\n",
       "      <td>2015-04-14</td>\n",
       "      <td>train</td>\n",
       "    </tr>\n",
       "    <tr>\n",
       "      <th>1701</th>\n",
       "      <td>bxeq</td>\n",
       "      <td>37.3906</td>\n",
       "      <td>-120.958</td>\n",
       "      <td>2019-09-10</td>\n",
       "      <td>train</td>\n",
       "    </tr>\n",
       "    <tr>\n",
       "      <th>2302</th>\n",
       "      <td>conk</td>\n",
       "      <td>37.3906</td>\n",
       "      <td>-120.958</td>\n",
       "      <td>2019-12-04</td>\n",
       "      <td>train</td>\n",
       "    </tr>\n",
       "    <tr>\n",
       "      <th>2409</th>\n",
       "      <td>crja</td>\n",
       "      <td>37.3906</td>\n",
       "      <td>-120.958</td>\n",
       "      <td>2021-07-13</td>\n",
       "      <td>train</td>\n",
       "    </tr>\n",
       "  </tbody>\n",
       "</table>\n",
       "</div>"
      ],
      "text/plain": [
       "       uid  latitude  longitude        date  split\n",
       "22    aaqc   37.3906   -120.958  2013-07-09  train\n",
       "79    acdj   37.3906   -120.958  2015-04-14  train\n",
       "1701  bxeq   37.3906   -120.958  2019-09-10  train\n",
       "2302  conk   37.3906   -120.958  2019-12-04  train\n",
       "2409  crja   37.3906   -120.958  2021-07-13  train"
      ]
     },
     "execution_count": 13,
     "metadata": {},
     "output_type": "execute_result"
    }
   ],
   "source": [
    "metadata.loc[metadata['latitude']==metadata.latitude.iloc[duplicated_rows[0]],:].head()"
   ]
  },
  {
   "cell_type": "code",
   "execution_count": 14,
   "metadata": {
    "colab": {
     "base_uri": "https://localhost:8080/"
    },
    "executionInfo": {
     "elapsed": 469,
     "status": "ok",
     "timestamp": 1671448128746,
     "user": {
      "displayName": "Ioannis Nasios",
      "userId": "11761353373054103725"
     },
     "user_tz": -120
    },
    "id": "-z622nn3RLdV",
    "outputId": "24112676-8eb2-459f-e895-0cb98a892ed0"
   },
   "outputs": [
    {
     "data": {
      "text/plain": [
       "train    17060\n",
       "test      6510\n",
       "Name: split, dtype: int64"
      ]
     },
     "execution_count": 14,
     "metadata": {},
     "output_type": "execute_result"
    }
   ],
   "source": [
    "metadata.split.value_counts(dropna=False)"
   ]
  },
  {
   "cell_type": "code",
   "execution_count": 15,
   "metadata": {
    "executionInfo": {
     "elapsed": 4,
     "status": "ok",
     "timestamp": 1671448128746,
     "user": {
      "displayName": "Ioannis Nasios",
      "userId": "11761353373054103725"
     },
     "user_tz": -120
    },
    "id": "RwLxUTlwROR2"
   },
   "outputs": [],
   "source": [
    "import geopandas as gpd\n",
    "from shapely.geometry import Point\n",
    "\n",
    "# load the default geopandas base map file to plot points on\n",
    "world = gpd.read_file(gpd.datasets.get_path(\"naturalearth_lowres\"))"
   ]
  },
  {
   "cell_type": "code",
   "execution_count": 16,
   "metadata": {
    "colab": {
     "base_uri": "https://localhost:8080/",
     "height": 275
    },
    "executionInfo": {
     "elapsed": 1643,
     "status": "ok",
     "timestamp": 1671448130386,
     "user": {
      "displayName": "Ioannis Nasios",
      "userId": "11761353373054103725"
     },
     "user_tz": -120
    },
    "id": "TcaZkm_qRQeG",
    "outputId": "9986cfaa-022f-4881-c02d-bcd4adc19ec5"
   },
   "outputs": [
    {
     "data": {
      "image/png": "[encoded data removed]",
      "text/plain": [
       "<Figure size 900x400 with 1 Axes>"
      ]
     },
     "metadata": {},
     "output_type": "display_data"
    }
   ],
   "source": [
    "fig, ax = plt.subplots(figsize=(9, 4))\n",
    "\n",
    "# map the training data\n",
    "base = world[world.name == \"United States of America\"].plot(\n",
    "    edgecolor=\"gray\", color=\"ghostwhite\", figsize=(9, 4), alpha=0.3, ax=ax\n",
    ")\n",
    "train_meta = metadata[metadata[\"split\"] == \"train\"]\n",
    "geometry = [Point(xy) for xy in zip(train_meta[\"longitude\"], train_meta[\"latitude\"])]\n",
    "gdf = gpd.GeoDataFrame(train_meta, geometry=geometry)\n",
    "gdf.plot(ax=base, marker=\".\", markersize=3, color=\"blue\", label=\"Train\", alpha=0.6)\n",
    "\n",
    "# map the test data\n",
    "test_meta = metadata[metadata[\"split\"] == \"test\"]\n",
    "geometry = [Point(xy) for xy in zip(test_meta[\"longitude\"], test_meta[\"latitude\"])]\n",
    "gdf = gpd.GeoDataFrame(test_meta, geometry=geometry)\n",
    "gdf.plot(ax=base, marker=\".\", markersize=3, color=\"orange\", label=\"Test\", alpha=0.6)\n",
    "\n",
    "plt.xlabel(\"Longitude\")\n",
    "plt.ylabel(\"Latitude\")\n",
    "plt.xlim([-125, -65])\n",
    "plt.ylim([25, 50])\n",
    "plt.legend(loc=4, markerscale=3)\n",
    "plt.show()"
   ]
  },
  {
   "cell_type": "code",
   "execution_count": 17,
   "metadata": {
    "colab": {
     "base_uri": "https://localhost:8080/",
     "height": 143
    },
    "executionInfo": {
     "elapsed": 41,
     "status": "ok",
     "timestamp": 1671448130388,
     "user": {
      "displayName": "Ioannis Nasios",
      "userId": "11761353373054103725"
     },
     "user_tz": -120
    },
    "id": "BjhVjWbkRa5N",
    "outputId": "f7d8bf97-9524-441d-e9e8-5a8f88c34c41"
   },
   "outputs": [
    {
     "data": {
      "text/html": [
       "<div>\n",
       "<style scoped>\n",
       "    .dataframe tbody tr th:only-of-type {\n",
       "        vertical-align: middle;\n",
       "    }\n",
       "\n",
       "    .dataframe tbody tr th {\n",
       "        vertical-align: top;\n",
       "    }\n",
       "\n",
       "    .dataframe thead th {\n",
       "        text-align: right;\n",
       "    }\n",
       "</style>\n",
       "<table border=\"1\" class=\"dataframe\">\n",
       "  <thead>\n",
       "    <tr style=\"text-align: right;\">\n",
       "      <th></th>\n",
       "      <th>min_date</th>\n",
       "      <th>max_date</th>\n",
       "    </tr>\n",
       "    <tr>\n",
       "      <th>split</th>\n",
       "      <th></th>\n",
       "      <th></th>\n",
       "    </tr>\n",
       "  </thead>\n",
       "  <tbody>\n",
       "    <tr>\n",
       "      <th>test</th>\n",
       "      <td>2013-01-08</td>\n",
       "      <td>2021-12-29</td>\n",
       "    </tr>\n",
       "    <tr>\n",
       "      <th>train</th>\n",
       "      <td>2013-01-04</td>\n",
       "      <td>2021-12-14</td>\n",
       "    </tr>\n",
       "  </tbody>\n",
       "</table>\n",
       "</div>"
      ],
      "text/plain": [
       "        min_date   max_date\n",
       "split                      \n",
       "test  2013-01-08 2021-12-29\n",
       "train 2013-01-04 2021-12-14"
      ]
     },
     "execution_count": 17,
     "metadata": {},
     "output_type": "execute_result"
    }
   ],
   "source": [
    "# convert date to pd.datetime\n",
    "metadata.date = pd.to_datetime(metadata.date)\n",
    "\n",
    "# what is the date range?\n",
    "metadata.groupby(\"split\").agg(min_date=(\"date\", min), max_date=(\"date\", max))"
   ]
  },
  {
   "cell_type": "code",
   "execution_count": 19,
   "metadata": {
    "colab": {
     "base_uri": "https://localhost:8080/",
     "height": 311
    },
    "executionInfo": {
     "elapsed": 39,
     "status": "ok",
     "timestamp": 1671448130390,
     "user": {
      "displayName": "Ioannis Nasios",
      "userId": "11761353373054103725"
     },
     "user_tz": -120
    },
    "id": "IdKW5sW5Rgmn",
    "outputId": "d86e26de-ed95-46bb-d72a-04cb4190c3fd"
   },
   "outputs": [],
   "source": [
    "# # what years are in the data?\n",
    "# pd.crosstab(metadata.date.dt.year, metadata.split).plot(kind=\"bar\")\n",
    "# plt.ylabel(\"Number of samples\")\n",
    "# plt.xlabel(\"Year\")\n",
    "# plt.title(\"Distribution of years in the data\")\n",
    "# plt.show()"
   ]
  },
  {
   "cell_type": "code",
   "execution_count": 20,
   "metadata": {
    "colab": {
     "base_uri": "https://localhost:8080/"
    },
    "executionInfo": {
     "elapsed": 35,
     "status": "ok",
     "timestamp": 1671448130390,
     "user": {
      "displayName": "Ioannis Nasios",
      "userId": "11761353373054103725"
     },
     "user_tz": -120
    },
    "id": "hi93IqmGRoMH",
    "outputId": "f1756d72-a185-4b23-d123-4ebfa92ac1dc"
   },
   "outputs": [
    {
     "data": {
      "text/plain": [
       "summer    10813\n",
       "spring     5045\n",
       "fall       4758\n",
       "winter     2954\n",
       "Name: season, dtype: int64"
      ]
     },
     "execution_count": 20,
     "metadata": {},
     "output_type": "execute_result"
    }
   ],
   "source": [
    "# what seasons are the data points from?\n",
    "metadata[\"season\"] = (\n",
    "    metadata.date.dt.month.replace([12, 1, 2], \"winter\")\n",
    "    .replace([3, 4, 5], \"spring\")\n",
    "    .replace([6, 7, 8], \"summer\")\n",
    "    .replace([9, 10, 11], \"fall\")\n",
    ")\n",
    "metadata.season.value_counts()"
   ]
  },
  {
   "cell_type": "code",
   "execution_count": 21,
   "metadata": {
    "colab": {
     "base_uri": "https://localhost:8080/",
     "height": 303
    },
    "executionInfo": {
     "elapsed": 3763,
     "status": "ok",
     "timestamp": 1671448134131,
     "user": {
      "displayName": "Ioannis Nasios",
      "userId": "11761353373054103725"
     },
     "user_tz": -120
    },
    "id": "5ja9wpbJRsXf",
    "outputId": "60d3bdc3-8aaf-4ff7-a004-8e44671313f9"
   },
   "outputs": [
    {
     "data": {
      "image/png": "[encoded data removed]",
      "text/plain": [
       "<Figure size 1000x500 with 4 Axes>"
      ]
     },
     "metadata": {},
     "output_type": "display_data"
    }
   ],
   "source": [
    "# where is data from for each season?\n",
    "fig, axes = plt.subplots(2, 2, figsize=(10, 5))\n",
    "\n",
    "for season, ax in zip(metadata.season.unique(), axes.flatten()):\n",
    "    base = world[world.name == \"United States of America\"].plot(\n",
    "        edgecolor=\"gray\", color=\"ghostwhite\", alpha=0.3, ax=ax\n",
    "    )\n",
    "\n",
    "    sub = metadata[metadata.season == season]\n",
    "    geometry = [Point(xy) for xy in zip(sub[\"longitude\"], sub[\"latitude\"])]\n",
    "    gdf = gpd.GeoDataFrame(sub, geometry=geometry)\n",
    "    gdf.plot(ax=base, marker=\".\", markersize=2.5)\n",
    "    ax.set_xlim([-125, -66])\n",
    "    ax.set_ylim([25, 50])\n",
    "    ax.set_title(f\"{season.capitalize()} data points\")\n",
    "    ax.axis(\"off\")"
   ]
  },
  {
   "cell_type": "code",
   "execution_count": 22,
   "metadata": {
    "colab": {
     "base_uri": "https://localhost:8080/",
     "height": 206
    },
    "executionInfo": {
     "elapsed": 94,
     "status": "ok",
     "timestamp": 1671448134135,
     "user": {
      "displayName": "Ioannis Nasios",
      "userId": "11761353373054103725"
     },
     "user_tz": -120
    },
    "id": "d3LNKOfBRuoA",
    "outputId": "59875884-1447-46ea-b1b3-df8e74d997b3"
   },
   "outputs": [
    {
     "data": {
      "text/html": [
       "<div>\n",
       "<style scoped>\n",
       "    .dataframe tbody tr th:only-of-type {\n",
       "        vertical-align: middle;\n",
       "    }\n",
       "\n",
       "    .dataframe tbody tr th {\n",
       "        vertical-align: top;\n",
       "    }\n",
       "\n",
       "    .dataframe thead th {\n",
       "        text-align: right;\n",
       "    }\n",
       "</style>\n",
       "<table border=\"1\" class=\"dataframe\">\n",
       "  <thead>\n",
       "    <tr style=\"text-align: right;\">\n",
       "      <th></th>\n",
       "      <th>uid</th>\n",
       "      <th>region</th>\n",
       "      <th>severity</th>\n",
       "      <th>density</th>\n",
       "    </tr>\n",
       "  </thead>\n",
       "  <tbody>\n",
       "    <tr>\n",
       "      <th>0</th>\n",
       "      <td>aabm</td>\n",
       "      <td>midwest</td>\n",
       "      <td>1</td>\n",
       "      <td>585.0</td>\n",
       "    </tr>\n",
       "    <tr>\n",
       "      <th>1</th>\n",
       "      <td>aacd</td>\n",
       "      <td>south</td>\n",
       "      <td>1</td>\n",
       "      <td>290.0</td>\n",
       "    </tr>\n",
       "    <tr>\n",
       "      <th>2</th>\n",
       "      <td>aaee</td>\n",
       "      <td>south</td>\n",
       "      <td>1</td>\n",
       "      <td>1614.0</td>\n",
       "    </tr>\n",
       "    <tr>\n",
       "      <th>3</th>\n",
       "      <td>aaff</td>\n",
       "      <td>midwest</td>\n",
       "      <td>3</td>\n",
       "      <td>111825.0</td>\n",
       "    </tr>\n",
       "    <tr>\n",
       "      <th>4</th>\n",
       "      <td>aafl</td>\n",
       "      <td>midwest</td>\n",
       "      <td>4</td>\n",
       "      <td>2017313.0</td>\n",
       "    </tr>\n",
       "  </tbody>\n",
       "</table>\n",
       "</div>"
      ],
      "text/plain": [
       "    uid   region  severity    density\n",
       "0  aabm  midwest         1      585.0\n",
       "1  aacd    south         1      290.0\n",
       "2  aaee    south         1     1614.0\n",
       "3  aaff  midwest         3   111825.0\n",
       "4  aafl  midwest         4  2017313.0"
      ]
     },
     "execution_count": 22,
     "metadata": {},
     "output_type": "execute_result"
    }
   ],
   "source": [
    "train_labels = pd.read_csv(DATA_DIR + \"train_labels.csv\")\n",
    "train_labels.head()"
   ]
  },
  {
   "cell_type": "code",
   "execution_count": 23,
   "metadata": {
    "executionInfo": {
     "elapsed": 88,
     "status": "ok",
     "timestamp": 1671448134137,
     "user": {
      "displayName": "Ioannis Nasios",
      "userId": "11761353373054103725"
     },
     "user_tz": -120
    },
    "id": "t3RXLgLeR5H3"
   },
   "outputs": [],
   "source": [
    "train_labels_and_metadata = train_labels.merge(\n",
    "    metadata, how=\"left\", left_on=\"uid\", right_on=\"uid\", validate=\"1:1\"\n",
    ")"
   ]
  },
  {
   "cell_type": "code",
   "execution_count": 24,
   "metadata": {
    "colab": {
     "base_uri": "https://localhost:8080/",
     "height": 312
    },
    "executionInfo": {
     "elapsed": 86,
     "status": "ok",
     "timestamp": 1671448134139,
     "user": {
      "displayName": "Ioannis Nasios",
      "userId": "11761353373054103725"
     },
     "user_tz": -120
    },
    "id": "7h_9Ei0sR-W5",
    "outputId": "e745f945-3cd7-4921-87ac-23b5588f11bf"
   },
   "outputs": [
    {
     "data": {
      "text/plain": [
       "Text(0.5, 1.0, 'Train labels severity level counts')"
      ]
     },
     "execution_count": 24,
     "metadata": {},
     "output_type": "execute_result"
    },
    {
     "data": {
      "image/png": "[encoded data removed]",
      "text/plain": [
       "<Figure size 640x480 with 1 Axes>"
      ]
     },
     "metadata": {},
     "output_type": "display_data"
    }
   ],
   "source": [
    "severity_counts = (\n",
    "    train_labels.replace(\n",
    "        {\n",
    "            \"severity\": {\n",
    "                1: \"1 (<20,000)\",\n",
    "                2: \"2 (20,000-100,000)\",\n",
    "                3: \"3 (100,000 - 1,000,000)\",\n",
    "                4: \"4 (1,00,000 - 10,000,000)\",\n",
    "                5: \"5 (>10,000,00)\",\n",
    "            }\n",
    "        }\n",
    "    )\n",
    "    .severity.value_counts()\n",
    "    .sort_index(ascending=False)\n",
    ")\n",
    "plt.barh(severity_counts.index, severity_counts.values)\n",
    "plt.xlabel(\"Number of samples\")\n",
    "plt.ylabel(\"Severity (range in cells/mL)\")\n",
    "plt.title(\"Train labels severity level counts\")"
   ]
  },
  {
   "cell_type": "code",
   "execution_count": 25,
   "metadata": {
    "colab": {
     "base_uri": "https://localhost:8080/"
    },
    "executionInfo": {
     "elapsed": 74,
     "status": "ok",
     "timestamp": 1671448134141,
     "user": {
      "displayName": "Ioannis Nasios",
      "userId": "11761353373054103725"
     },
     "user_tz": -120
    },
    "id": "h_-HXWylSAmg",
    "outputId": "6d3d5f91-72c0-4072-9084-1dab6b94cbd6"
   },
   "outputs": [
    {
     "data": {
      "text/plain": [
       "count    1.706000e+04\n",
       "mean     1.074537e+06\n",
       "std      6.836693e+06\n",
       "min      0.000000e+00\n",
       "25%      4.066000e+03\n",
       "50%      3.270975e+04\n",
       "75%      4.849192e+05\n",
       "max      8.046675e+08\n",
       "Name: density, dtype: float64"
      ]
     },
     "execution_count": 25,
     "metadata": {},
     "output_type": "execute_result"
    }
   ],
   "source": [
    "train_labels.density.describe()"
   ]
  },
  {
   "cell_type": "code",
   "execution_count": 26,
   "metadata": {
    "colab": {
     "base_uri": "https://localhost:8080/"
    },
    "executionInfo": {
     "elapsed": 66,
     "status": "ok",
     "timestamp": 1671448134142,
     "user": {
      "displayName": "Ioannis Nasios",
      "userId": "11761353373054103725"
     },
     "user_tz": -120
    },
    "id": "LDSjxLrSSC6X",
    "outputId": "1196413b-71ea-4d9c-ac48-8bb1ffdb3d74"
   },
   "outputs": [
    {
     "data": {
      "text/plain": [
       "91"
      ]
     },
     "execution_count": 26,
     "metadata": {},
     "output_type": "execute_result"
    }
   ],
   "source": [
    "(train_labels.density == 0).sum()"
   ]
  },
  {
   "cell_type": "code",
   "execution_count": 27,
   "metadata": {
    "colab": {
     "base_uri": "https://localhost:8080/",
     "height": 238
    },
    "executionInfo": {
     "elapsed": 56,
     "status": "ok",
     "timestamp": 1671448134143,
     "user": {
      "displayName": "Ioannis Nasios",
      "userId": "11761353373054103725"
     },
     "user_tz": -120
    },
    "id": "dQEVMT1CSEno",
    "outputId": "5313ed0e-6c44-4107-d534-6bfd10273fa4"
   },
   "outputs": [
    {
     "data": {
      "text/html": [
       "<div>\n",
       "<style scoped>\n",
       "    .dataframe tbody tr th:only-of-type {\n",
       "        vertical-align: middle;\n",
       "    }\n",
       "\n",
       "    .dataframe tbody tr th {\n",
       "        vertical-align: top;\n",
       "    }\n",
       "\n",
       "    .dataframe thead th {\n",
       "        text-align: right;\n",
       "    }\n",
       "</style>\n",
       "<table border=\"1\" class=\"dataframe\">\n",
       "  <thead>\n",
       "    <tr style=\"text-align: right;\">\n",
       "      <th></th>\n",
       "      <th>region</th>\n",
       "      <th>severity</th>\n",
       "    </tr>\n",
       "    <tr>\n",
       "      <th>uid</th>\n",
       "      <th></th>\n",
       "      <th></th>\n",
       "    </tr>\n",
       "  </thead>\n",
       "  <tbody>\n",
       "    <tr>\n",
       "      <th>aabn</th>\n",
       "      <td>west</td>\n",
       "      <td>1</td>\n",
       "    </tr>\n",
       "    <tr>\n",
       "      <th>aair</th>\n",
       "      <td>west</td>\n",
       "      <td>1</td>\n",
       "    </tr>\n",
       "    <tr>\n",
       "      <th>aajw</th>\n",
       "      <td>northeast</td>\n",
       "      <td>1</td>\n",
       "    </tr>\n",
       "    <tr>\n",
       "      <th>aalr</th>\n",
       "      <td>midwest</td>\n",
       "      <td>1</td>\n",
       "    </tr>\n",
       "    <tr>\n",
       "      <th>aalw</th>\n",
       "      <td>west</td>\n",
       "      <td>1</td>\n",
       "    </tr>\n",
       "  </tbody>\n",
       "</table>\n",
       "</div>"
      ],
      "text/plain": [
       "         region  severity\n",
       "uid                      \n",
       "aabn       west         1\n",
       "aair       west         1\n",
       "aajw  northeast         1\n",
       "aalr    midwest         1\n",
       "aalw       west         1"
      ]
     },
     "execution_count": 27,
     "metadata": {},
     "output_type": "execute_result"
    }
   ],
   "source": [
    "submission_format = pd.read_csv(DATA_DIR + \"submission_format.csv\", index_col=0)\n",
    "submission_format.head()"
   ]
  },
  {
   "cell_type": "code",
   "execution_count": 28,
   "metadata": {
    "colab": {
     "base_uri": "https://localhost:8080/"
    },
    "executionInfo": {
     "elapsed": 54,
     "status": "ok",
     "timestamp": 1671448134145,
     "user": {
      "displayName": "Ioannis Nasios",
      "userId": "11761353373054103725"
     },
     "user_tz": -120
    },
    "id": "BbzZohUOSGf3",
    "outputId": "ff1a2174-b0e3-4f82-8340-5d923af9489a"
   },
   "outputs": [
    {
     "data": {
      "text/plain": [
       "(6510, 2)"
      ]
     },
     "execution_count": 28,
     "metadata": {},
     "output_type": "execute_result"
    }
   ],
   "source": [
    "submission_format.shape"
   ]
  },
  {
   "cell_type": "code",
   "execution_count": 29,
   "metadata": {},
   "outputs": [],
   "source": [
    "# # Fetch a Landsat image.\n",
    "# img = ee.Image('LANDSAT/LT05/C01/T1_SR/LT05_034033_20000913')\n",
    "\n",
    "# # Select Red and NIR bands, scale them, and sample 500 points.\n",
    "# samp_fc = img.select(['B3','B4']).divide(10000).sample(scale=30, numPixels=500)\n",
    "\n",
    "# # Arrange the sample as a list of lists.\n",
    "# samp_dict = samp_fc.reduceColumns(ee.Reducer.toList().repeat(2), ['B3', 'B4'])\n",
    "# samp_list = ee.List(samp_dict.get('list'))\n",
    "\n",
    "# # Save server-side ee.List as a client-side Python list.\n",
    "# samp_data = samp_list.getInfo()\n",
    "\n",
    "# # Display a scatter plot of Red-NIR sample pairs using matplotlib.\n",
    "# plt.scatter(samp_data[0], samp_data[1], alpha=0.2)\n",
    "# plt.xlabel('Red', fontsize=12)\n",
    "# plt.ylabel('NIR', fontsize=12)\n",
    "# plt.show()"
   ]
  },
  {
   "cell_type": "code",
   "execution_count": 30,
   "metadata": {},
   "outputs": [],
   "source": [
    "# Import the MODIS land cover collection.\n",
    "S2 = ee.ImageCollection('COPERNICUS/S2_SR_HARMONIZED')"
   ]
  },
  {
   "cell_type": "code",
   "execution_count": 31,
   "metadata": {},
   "outputs": [],
   "source": [
    "#  Initial date of interest (inclusive).\n",
    "i_date = '2017-01-01'\n",
    "\n",
    "# Final date of interest (exclusive).\n",
    "f_date = '2020-01-01'\n",
    "\n",
    "# Selection of appropriate bands and dates for LST.\n",
    "lst = S2.select('B2').filterDate(i_date, f_date)"
   ]
  },
  {
   "cell_type": "code",
   "execution_count": 32,
   "metadata": {},
   "outputs": [],
   "source": [
    "# Define the urban location of interest as a point near Lyon, France.\n",
    "u_lon = 4.8148\n",
    "u_lat = 45.7758\n",
    "u_poi = ee.Geometry.Point(u_lon, u_lat)\n",
    "\n",
    "# Define the rural location of interest as a point away from the city.\n",
    "r_lon = 5.175964\n",
    "r_lat = 45.574064\n",
    "r_poi = ee.Geometry.Point(r_lon, r_lat)"
   ]
  },
  {
   "cell_type": "code",
   "execution_count": 33,
   "metadata": {
    "scrolled": true
   },
   "outputs": [],
   "source": [
    "scale = 1000  # scale in meters\n",
    "\n",
    "lst_urban_point = lst.mean().sample(u_poi, scale).first().get('B2').getInfo()\n"
   ]
  },
  {
   "cell_type": "code",
   "execution_count": 34,
   "metadata": {},
   "outputs": [
    {
     "data": {
      "text/plain": [
       "4138.523529411765"
      ]
     },
     "execution_count": 34,
     "metadata": {},
     "output_type": "execute_result"
    }
   ],
   "source": [
    "lst_urban_point"
   ]
  },
  {
   "cell_type": "code",
   "execution_count": 35,
   "metadata": {},
   "outputs": [],
   "source": [
    "lst.toArray().sample(u_poi, scale).first().get('B2').getInfo()"
   ]
  },
  {
   "cell_type": "code",
   "execution_count": 36,
   "metadata": {},
   "outputs": [],
   "source": [
    "# ee.Geometry.Polygon()"
   ]
  },
  {
   "cell_type": "code",
   "execution_count": 37,
   "metadata": {},
   "outputs": [],
   "source": [
    "AOI = ee.Geometry.Point(-122.269, 45.701)\n",
    "START_DATE = '2020-06-01'\n",
    "END_DATE = '2020-06-02'\n",
    "CLOUD_FILTER = 60\n",
    "CLD_PRB_THRESH = 50\n",
    "NIR_DRK_THRESH = 0.15\n",
    "CLD_PRJ_DIST = 1\n",
    "BUFFER = 50\n"
   ]
  },
  {
   "cell_type": "code",
   "execution_count": 38,
   "metadata": {},
   "outputs": [
    {
     "data": {
      "text/plain": [
       "('https://earthengine.googleapis.com/v1alpha/projects/earthengine-legacy/thumbnails/5f1f8e9140fdd0b304d96f8ac58a3bab-d23035c4547cc2bef72d8d4340556155:getPixels',\n",
       " 'https://earthengine.googleapis.com/v1alpha/projects/earthengine-legacy/thumbnails/15582543792ba587a1a9b11bcc2d0a06-3dcf99888817bdaa09f5bf9146c72738:getPixels',\n",
       " 'https://earthengine.googleapis.com/v1alpha/projects/earthengine-legacy/thumbnails/972fcf30df8774a3f4d0ec71dc10237b-5d20c4874f6b4792ace707a1735319ec:getPixels')"
      ]
     },
     "execution_count": 38,
     "metadata": {},
     "output_type": "execute_result"
    }
   ],
   "source": [
    "ffa_db = ee.Image(ee.ImageCollection('COPERNICUS/S2_HARMONIZED') \n",
    "                       .filterBounds(AOI) \n",
    "                       .filterDate(ee.Date('2020-08-01'), ee.Date('2020-08-31')) \n",
    "                       .first() \n",
    "                       .clip(AOI))\n",
    "ffa_db.getDownloadURL(),ffa_db.select(['B4','B3','B2']).getThumbURL(),ffa_db.select('B4').getThumbURL({'min': -20, 'max': 0})"
   ]
  },
  {
   "cell_type": "code",
   "execution_count": null,
   "metadata": {},
   "outputs": [],
   "source": []
  },
  {
   "cell_type": "code",
   "execution_count": 39,
   "metadata": {},
   "outputs": [
    {
     "data": {
      "text/html": [
       "<div>\n",
       "<style scoped>\n",
       "    .dataframe tbody tr th:only-of-type {\n",
       "        vertical-align: middle;\n",
       "    }\n",
       "\n",
       "    .dataframe tbody tr th {\n",
       "        vertical-align: top;\n",
       "    }\n",
       "\n",
       "    .dataframe thead th {\n",
       "        text-align: right;\n",
       "    }\n",
       "</style>\n",
       "<table border=\"1\" class=\"dataframe\">\n",
       "  <thead>\n",
       "    <tr style=\"text-align: right;\">\n",
       "      <th></th>\n",
       "      <th>uid</th>\n",
       "      <th>latitude</th>\n",
       "      <th>longitude</th>\n",
       "      <th>date</th>\n",
       "      <th>split</th>\n",
       "      <th>season</th>\n",
       "    </tr>\n",
       "  </thead>\n",
       "  <tbody>\n",
       "    <tr>\n",
       "      <th>6540</th>\n",
       "      <td>hfvr</td>\n",
       "      <td>36.7962</td>\n",
       "      <td>-121.782</td>\n",
       "      <td>2021-12-29</td>\n",
       "      <td>test</td>\n",
       "      <td>winter</td>\n",
       "    </tr>\n",
       "    <tr>\n",
       "      <th>6864</th>\n",
       "      <td>howu</td>\n",
       "      <td>36.7085</td>\n",
       "      <td>-121.749</td>\n",
       "      <td>2021-12-29</td>\n",
       "      <td>test</td>\n",
       "      <td>winter</td>\n",
       "    </tr>\n",
       "    <tr>\n",
       "      <th>12443</th>\n",
       "      <td>nsoi</td>\n",
       "      <td>36.7368</td>\n",
       "      <td>-121.734</td>\n",
       "      <td>2021-12-29</td>\n",
       "      <td>test</td>\n",
       "      <td>winter</td>\n",
       "    </tr>\n",
       "    <tr>\n",
       "      <th>14254</th>\n",
       "      <td>prfi</td>\n",
       "      <td>36.7518</td>\n",
       "      <td>-121.742</td>\n",
       "      <td>2021-12-29</td>\n",
       "      <td>test</td>\n",
       "      <td>winter</td>\n",
       "    </tr>\n",
       "    <tr>\n",
       "      <th>17452</th>\n",
       "      <td>teuu</td>\n",
       "      <td>36.7723</td>\n",
       "      <td>-121.788</td>\n",
       "      <td>2021-12-29</td>\n",
       "      <td>test</td>\n",
       "      <td>winter</td>\n",
       "    </tr>\n",
       "    <tr>\n",
       "      <th>17559</th>\n",
       "      <td>thki</td>\n",
       "      <td>36.7254</td>\n",
       "      <td>-121.730</td>\n",
       "      <td>2021-12-29</td>\n",
       "      <td>test</td>\n",
       "      <td>winter</td>\n",
       "    </tr>\n",
       "  </tbody>\n",
       "</table>\n",
       "</div>"
      ],
      "text/plain": [
       "        uid  latitude  longitude       date split  season\n",
       "6540   hfvr   36.7962   -121.782 2021-12-29  test  winter\n",
       "6864   howu   36.7085   -121.749 2021-12-29  test  winter\n",
       "12443  nsoi   36.7368   -121.734 2021-12-29  test  winter\n",
       "14254  prfi   36.7518   -121.742 2021-12-29  test  winter\n",
       "17452  teuu   36.7723   -121.788 2021-12-29  test  winter\n",
       "17559  thki   36.7254   -121.730 2021-12-29  test  winter"
      ]
     },
     "execution_count": 39,
     "metadata": {},
     "output_type": "execute_result"
    }
   ],
   "source": [
    "metadata.loc[metadata.date==metadata.date.max(),:]\n"
   ]
  },
  {
   "cell_type": "code",
   "execution_count": 57,
   "metadata": {},
   "outputs": [],
   "source": [
    "num=654\n",
    "lat=metadata.latitude.iloc[num]\n",
    "long=metadata.longitude.iloc[num]"
   ]
  },
  {
   "cell_type": "code",
   "execution_count": 58,
   "metadata": {},
   "outputs": [
    {
     "data": {
      "text/plain": [
       "([-79.02243206648306,\n",
       "  35.789493674487986,\n",
       "  -79.01136982515753,\n",
       "  35.79850632212748],\n",
       " [[-79.02243206648306, 35.789493674487986],\n",
       "  [-79.02243206648306, 35.79850632212748],\n",
       "  [-79.01136982515753, 35.79850632212748],\n",
       "  [-79.01136982515753, 35.789493674487986],\n",
       "  [-79.02243206648306, 35.789493674487986]])"
      ]
     },
     "execution_count": 58,
     "metadata": {},
     "output_type": "execute_result"
    }
   ],
   "source": [
    "bbox = get_bounding_box(lat, long, meter_buffer=500)\n",
    "polygon=[\n",
    "    [bbox[0],bbox[1]],\n",
    "    [bbox[0],bbox[3]],\n",
    "    [bbox[2],bbox[3]],\n",
    "    [bbox[2],bbox[1]],\n",
    "    [bbox[0],bbox[1]],\n",
    "]\n",
    "bbox,polygon"
   ]
  },
  {
   "cell_type": "code",
   "execution_count": 59,
   "metadata": {
    "scrolled": true
   },
   "outputs": [
    {
     "name": "stdout",
     "output_type": "stream",
     "text": [
      "https://earthengine.googleapis.com/v1alpha/projects/earthengine-legacy/thumbnails/2cbec7b77e4f22b05ff0469820c1e6f5-6961bc56b74e76afaf0d0ed8a1512f5b:getPixels\n"
     ]
    }
   ],
   "source": [
    "# polygon = [[[-120.192, 37.494],\n",
    "#       [-122.086, 37.418],\n",
    "#       [-122.079, 37.425],\n",
    "#       [-122.185, 37.493]]]\n",
    "AOI=ee.Geometry.Polygon(polygon)\n",
    "# ffa_db = ee.Image(ee.ImageCollection('LANDSAT/LC09/C02/T2') \n",
    "# ffa_db = ee.Image(ee.ImageCollection('LANDSAT/LC08/C01/T1_SR') \n",
    "ffa_db = ee.Image(ee.ImageCollection('LANDSAT/LC08/C01/T1') \n",
    "                       .filterBounds(AOI) \n",
    "                       .filterDate(ee.Date('2019-08-01'), ee.Date('2020-10-31'))\n",
    "                       .filter('CLOUD_COVER < 30')\n",
    "#                        .select('B2', 'B3', 'B4', 'B8')\n",
    "                       .sort('system:time_start', False)\n",
    "                       .first() \n",
    "                       .clip(AOI)\n",
    "                 )\n",
    "# ffa_db.select(['B4','B3','B2']).getThumbURL({'min': -20, 'max': 0})\n",
    "print(ffa_db.select(['B2','B3','B4']).getThumbURL({'min': 0, 'max': 1000}))\n",
    "# ffa_db.select(['B4','B3','B2']).getVideoThumbURL()\n",
    "# ffa_db.getDownloadURL()\n",
    "url=ffa_db.getDownloadURL()"
   ]
  },
  {
   "cell_type": "code",
   "execution_count": 60,
   "metadata": {},
   "outputs": [],
   "source": [
    "# ffa_db.se"
   ]
  },
  {
   "cell_type": "code",
   "execution_count": 61,
   "metadata": {},
   "outputs": [
    {
     "data": {
      "text/plain": [
       "'https://earthengine.googleapis.com/v1alpha/projects/earthengine-legacy/thumbnails/1b501dbd188ea2402cb810de5287dcc0-e2a968a84f42a926409416c28c9af4be:getPixels'"
      ]
     },
     "execution_count": 61,
     "metadata": {},
     "output_type": "execute_result"
    }
   ],
   "source": [
    "url"
   ]
  },
  {
   "cell_type": "code",
   "execution_count": 62,
   "metadata": {},
   "outputs": [
    {
     "data": {
      "text/plain": [
       "'https://earthengine.googleapis.com/v1alpha/projects/earthengine-legacy/thumbnails/32708e01d0a93e5be6b98ca02bd08ec2-011dc0b0c52dd525b9bfecdf1d083eed:getPixels'"
      ]
     },
     "execution_count": 62,
     "metadata": {},
     "output_type": "execute_result"
    }
   ],
   "source": [
    "# polygon = [[[-120.192, 37.494],\n",
    "#       [-122.086, 37.418],\n",
    "#       [-122.079, 37.425],\n",
    "#       [-122.185, 37.493]]]\n",
    "AOI=ee.Geometry.Polygon(polygon)\n",
    "ffa_db = ee.Image(ee.ImageCollection('COPERNICUS/S2_SR_HARMONIZED') \n",
    "                       .filterBounds(AOI) \n",
    "                       .filterDate(ee.Date('2019-08-01'), ee.Date('2020-08-31'))\n",
    "                       .filterMetadata('CLOUDY_PIXEL_PERCENTAGE', 'less_than', 30)\n",
    "#                        .select('B2', 'B3', 'B4', 'B8')\n",
    "                       .sort('system:time_start', False)\n",
    "                       .first() \n",
    "                       .clip(AOI))\n",
    "# ffa_db.select(['B4','B3','B2']).getThumbURL({'min': -20, 'max': 0})\n",
    "ffa_db.select(['B2','B3','B4']).getThumbURL({'min': 0, 'max': 1000})\n",
    "# ffa_db.select(['B4','B3','B2']).getVideoThumbURL()\n",
    "# ffa_db.getDownloadURL()"
   ]
  },
  {
   "cell_type": "code",
   "execution_count": null,
   "metadata": {},
   "outputs": [],
   "source": []
  },
  {
   "cell_type": "code",
   "execution_count": 63,
   "metadata": {
    "scrolled": true
   },
   "outputs": [
    {
     "data": {
      "text/plain": [
       "'https://earthengine.googleapis.com/v1alpha/projects/earthengine-legacy/thumbnails/9b2d1c88c58d8fb154298ee9722135aa-163cadc549a4ec9008b1e12facd60bce:getPixels'"
      ]
     },
     "execution_count": 63,
     "metadata": {},
     "output_type": "execute_result"
    }
   ],
   "source": [
    "url=ffa_db.getDownloadURL()\n",
    "url"
   ]
  },
  {
   "cell_type": "code",
   "execution_count": 64,
   "metadata": {
    "scrolled": true
   },
   "outputs": [],
   "source": [
    "import requests, tempfile, zipfile, os\n",
    "from io import StringIO, BytesIO\n",
    "r = requests.get(f\"{url}\")\n",
    "resp = requests.get(url, stream=True)\n",
    "\n",
    "# file = tempfile.NamedTemporaryFile(prefix=\"tmp_\", delete=False)\n",
    "# with file as f:\n",
    "#     f.write(resp.content)\n",
    "\n",
    "file='EEtemp/f13/'    \n",
    "z = zipfile.ZipFile(BytesIO(r.content))\n",
    "z.extractall(file)    "
   ]
  },
  {
   "cell_type": "code",
   "execution_count": null,
   "metadata": {},
   "outputs": [],
   "source": []
  },
  {
   "cell_type": "code",
   "execution_count": 65,
   "metadata": {},
   "outputs": [
    {
     "data": {
      "text/plain": [
       "['20200826T155829_20200826T160543_T17SPV.B11.tif',\n",
       " '20200827T184919_20200827T185937_T10SFF.QA20.tif',\n",
       " '20200826T155829_20200826T160543_T17SPV.MSK_CLDPRB.tif',\n",
       " '20200827T184919_20200827T185937_T10SFF.TCI_G.tif',\n",
       " '20200826T155829_20200826T160543_T17SPV.B12.tif',\n",
       " '20200827T184919_20200827T185937_T10SFF.SCL.tif',\n",
       " '20200827T184919_20200827T185937_T10SFF.MSK_CLDPRB.tif',\n",
       " '20200827T184919_20200827T185937_T10SFF.B6.tif',\n",
       " '20200826T155829_20200826T160543_T17SPV.B8A.tif',\n",
       " '20200827T184919_20200827T185937_T10SFF.B2.tif',\n",
       " '20200826T155829_20200826T160543_T17SPV.QA10.tif',\n",
       " '20200827T184919_20200827T185937_T10SFF.TCI_R.tif',\n",
       " '20200826T155829_20200826T160543_T17SPV.B8.tif',\n",
       " '20200827T184919_20200827T185937_T10SFF.B4.tif',\n",
       " '20200827T184919_20200827T185937_T10SFF.B9.tif',\n",
       " '20200826T155829_20200826T160543_T17SPV.B9.tif',\n",
       " '20200826T155829_20200826T160543_T17SPV.MSK_SNWPRB.tif',\n",
       " '20200827T184919_20200827T185937_T10SFF.WVP.tif',\n",
       " '20200827T184919_20200827T185937_T10SFF.TCI_B.tif',\n",
       " '20200826T155829_20200826T160543_T17SPV.WVP.tif',\n",
       " '20200827T184919_20200827T185937_T10SFF.B11.tif',\n",
       " '20200826T155829_20200826T160543_T17SPV.B2.tif',\n",
       " '20200826T155829_20200826T160543_T17SPV.B6.tif',\n",
       " '20200826T155829_20200826T160543_T17SPV.B1.tif',\n",
       " '20200827T184919_20200827T185937_T10SFF.QA10.tif',\n",
       " '20200827T184919_20200827T185937_T10SFF.QA60.tif',\n",
       " '20200827T184919_20200827T185937_T10SFF.B12.tif',\n",
       " '20200826T155829_20200826T160543_T17SPV.QA20.tif',\n",
       " '20200827T184919_20200827T185937_T10SFF.B8A.tif',\n",
       " '20200827T184919_20200827T185937_T10SFF.B1.tif',\n",
       " '20200826T155829_20200826T160543_T17SPV.TCI_B.tif',\n",
       " '20200826T155829_20200826T160543_T17SPV.TCI_G.tif',\n",
       " '20200827T184919_20200827T185937_T10SFF.B7.tif',\n",
       " '20200826T155829_20200826T160543_T17SPV.B3.tif',\n",
       " '20200827T184919_20200827T185937_T10SFF.MSK_SNWPRB.tif',\n",
       " '20200827T184919_20200827T185937_T10SFF.B8.tif',\n",
       " '20200826T155829_20200826T160543_T17SPV.SCL.tif',\n",
       " '20200827T184919_20200827T185937_T10SFF.B5.tif',\n",
       " '20200826T155829_20200826T160543_T17SPV.B4.tif',\n",
       " '20200827T184919_20200827T185937_T10SFF.AOT.tif',\n",
       " '20200826T155829_20200826T160543_T17SPV.QA60.tif',\n",
       " '20200827T184919_20200827T185937_T10SFF.B3.tif',\n",
       " '20200826T155829_20200826T160543_T17SPV.B7.tif',\n",
       " '20200826T155829_20200826T160543_T17SPV.B5.tif',\n",
       " '20200826T155829_20200826T160543_T17SPV.TCI_R.tif',\n",
       " '20200826T155829_20200826T160543_T17SPV.AOT.tif']"
      ]
     },
     "execution_count": 65,
     "metadata": {},
     "output_type": "execute_result"
    }
   ],
   "source": [
    "os.listdir(file)"
   ]
  },
  {
   "cell_type": "code",
   "execution_count": 66,
   "metadata": {},
   "outputs": [
    {
     "data": {
      "text/plain": [
       "(['20200827T184919_20200827T185937_T10SFF.B2.tif',\n",
       "  '20200827T184919_20200827T185937_T10SFF.B4.tif',\n",
       "  '20200826T155829_20200826T160543_T17SPV.B2.tif',\n",
       "  '20200826T155829_20200826T160543_T17SPV.B3.tif',\n",
       "  '20200826T155829_20200826T160543_T17SPV.B4.tif',\n",
       "  '20200827T184919_20200827T185937_T10SFF.B3.tif'],\n",
       " '20200826T155829_20200826T160543_T17SPV')"
      ]
     },
     "execution_count": 66,
     "metadata": {},
     "output_type": "execute_result"
    }
   ],
   "source": [
    "# [x for x in os.listdir(file) if x[-6:-4] in ['B4','B3', 'B2']]\n",
    "im=[x for x in os.listdir(file) if x.split('.')[1] in ['B4','B3', 'B2']]\n",
    "im0=os.listdir(file)[0].split('.')[0]\n",
    "im,im0"
   ]
  },
  {
   "cell_type": "code",
   "execution_count": 67,
   "metadata": {},
   "outputs": [],
   "source": [
    "# B4=cv2.imread(file+im0+'.B6'+'.tif', cv2.IMREAD_GRAYSCALE)\n",
    "# B4.shape,B4.min(),B4.max()"
   ]
  },
  {
   "cell_type": "code",
   "execution_count": 68,
   "metadata": {},
   "outputs": [],
   "source": [
    "# plt.imshow(B4)\n",
    "# plt.show()"
   ]
  },
  {
   "cell_type": "code",
   "execution_count": 69,
   "metadata": {},
   "outputs": [],
   "source": [
    "import rasterio\n",
    "def read_band(path,band='B4'):\n",
    "    im0=os.listdir(path)[0].split('.')[0]\n",
    "    b=rasterio.open(path+im0+'.'+band+'.tif' ).read()[0,...]\n",
    "#     percB = np.percentile(b,[0.1,99.99])\n",
    "#     b = np.clip(b, percB[0], percB[1])\n",
    "    B=(((b-b.min())/(b.max()-b.min()))*255).astype('uint8')\n",
    "    return(B)\n",
    "    \n",
    "\n",
    "b4=rasterio.open(file+im0+'.B4'+'.tif' ).read()[0,...]\n",
    "b4.min(),b4.max()\n",
    "B4=(((b4-b4.min())/(b4.max()-b4.min()))*255).astype('uint8')"
   ]
  },
  {
   "cell_type": "code",
   "execution_count": 70,
   "metadata": {},
   "outputs": [
    {
     "data": {
      "text/plain": [
       "(103, 103, 3)"
      ]
     },
     "execution_count": 70,
     "metadata": {},
     "output_type": "execute_result"
    }
   ],
   "source": [
    "B4=read_band(file,band='B4')\n",
    "B3=read_band(file,band='B3')\n",
    "B2=read_band(file,band='B2')\n",
    "RGB=np.stack((B2,B3,B4),-1)\n",
    "RGB.shape"
   ]
  },
  {
   "cell_type": "code",
   "execution_count": 71,
   "metadata": {
    "scrolled": true
   },
   "outputs": [
    {
     "data": {
      "text/plain": [
       "array([ 0.  , 98.92])"
      ]
     },
     "execution_count": 71,
     "metadata": {},
     "output_type": "execute_result"
    }
   ],
   "source": [
    "# b4#.shape\n",
    "np.percentile(B4,[1,99])\n",
    "# B4"
   ]
  },
  {
   "cell_type": "code",
   "execution_count": 72,
   "metadata": {},
   "outputs": [
    {
     "data": {
      "image/png": "[encoded data removed]",
      "text/plain": [
       "<Figure size 640x480 with 1 Axes>"
      ]
     },
     "metadata": {},
     "output_type": "display_data"
    },
    {
     "data": {
      "image/png": "[encoded data removed]",
      "text/plain": [
       "<Figure size 640x480 with 1 Axes>"
      ]
     },
     "metadata": {},
     "output_type": "display_data"
    }
   ],
   "source": [
    "# plt.imshow((RGB.astype(float)**1.05).astype('uint8'))\n",
    "# plt.show()\n",
    "plt.imshow(B4)\n",
    "plt.show()\n",
    "plt.imshow(RGB)\n",
    "plt.show()"
   ]
  },
  {
   "cell_type": "code",
   "execution_count": 73,
   "metadata": {},
   "outputs": [
    {
     "data": {
      "image/png": "[encoded data removed]",
      "text/plain": [
       "<Figure size 640x480 with 1 Axes>"
      ]
     },
     "metadata": {},
     "output_type": "display_data"
    },
    {
     "data": {
      "image/png": "[encoded data removed]",
      "text/plain": [
       "<Figure size 640x480 with 1 Axes>"
      ]
     },
     "metadata": {},
     "output_type": "display_data"
    }
   ],
   "source": [
    "plt.imshow(B4)\n",
    "plt.show()\n",
    "plt.imshow(RGB)\n",
    "plt.show()"
   ]
  },
  {
   "cell_type": "code",
   "execution_count": 74,
   "metadata": {},
   "outputs": [
    {
     "data": {
      "text/html": [
       "<div>\n",
       "<style scoped>\n",
       "    .dataframe tbody tr th:only-of-type {\n",
       "        vertical-align: middle;\n",
       "    }\n",
       "\n",
       "    .dataframe tbody tr th {\n",
       "        vertical-align: top;\n",
       "    }\n",
       "\n",
       "    .dataframe thead th {\n",
       "        text-align: right;\n",
       "    }\n",
       "</style>\n",
       "<table border=\"1\" class=\"dataframe\">\n",
       "  <thead>\n",
       "    <tr style=\"text-align: right;\">\n",
       "      <th></th>\n",
       "      <th>uid</th>\n",
       "      <th>latitude</th>\n",
       "      <th>longitude</th>\n",
       "      <th>date</th>\n",
       "      <th>split</th>\n",
       "      <th>season</th>\n",
       "    </tr>\n",
       "  </thead>\n",
       "  <tbody>\n",
       "    <tr>\n",
       "      <th>0</th>\n",
       "      <td>aabm</td>\n",
       "      <td>39.080319</td>\n",
       "      <td>-86.430867</td>\n",
       "      <td>2018-05-14</td>\n",
       "      <td>train</td>\n",
       "      <td>spring</td>\n",
       "    </tr>\n",
       "    <tr>\n",
       "      <th>1</th>\n",
       "      <td>aabn</td>\n",
       "      <td>36.559700</td>\n",
       "      <td>-121.510000</td>\n",
       "      <td>2016-08-31</td>\n",
       "      <td>test</td>\n",
       "      <td>summer</td>\n",
       "    </tr>\n",
       "    <tr>\n",
       "      <th>2</th>\n",
       "      <td>aacd</td>\n",
       "      <td>35.875083</td>\n",
       "      <td>-78.878434</td>\n",
       "      <td>2020-11-19</td>\n",
       "      <td>train</td>\n",
       "      <td>fall</td>\n",
       "    </tr>\n",
       "    <tr>\n",
       "      <th>3</th>\n",
       "      <td>aaee</td>\n",
       "      <td>35.487000</td>\n",
       "      <td>-79.062133</td>\n",
       "      <td>2016-08-24</td>\n",
       "      <td>train</td>\n",
       "      <td>summer</td>\n",
       "    </tr>\n",
       "    <tr>\n",
       "      <th>4</th>\n",
       "      <td>aaff</td>\n",
       "      <td>38.049471</td>\n",
       "      <td>-99.827001</td>\n",
       "      <td>2019-07-23</td>\n",
       "      <td>train</td>\n",
       "      <td>summer</td>\n",
       "    </tr>\n",
       "    <tr>\n",
       "      <th>...</th>\n",
       "      <td>...</td>\n",
       "      <td>...</td>\n",
       "      <td>...</td>\n",
       "      <td>...</td>\n",
       "      <td>...</td>\n",
       "      <td>...</td>\n",
       "    </tr>\n",
       "    <tr>\n",
       "      <th>23565</th>\n",
       "      <td>zzvv</td>\n",
       "      <td>36.708500</td>\n",
       "      <td>-121.749000</td>\n",
       "      <td>2014-12-02</td>\n",
       "      <td>test</td>\n",
       "      <td>winter</td>\n",
       "    </tr>\n",
       "    <tr>\n",
       "      <th>23566</th>\n",
       "      <td>zzwo</td>\n",
       "      <td>39.792190</td>\n",
       "      <td>-99.971050</td>\n",
       "      <td>2017-06-19</td>\n",
       "      <td>train</td>\n",
       "      <td>summer</td>\n",
       "    </tr>\n",
       "    <tr>\n",
       "      <th>23567</th>\n",
       "      <td>zzwq</td>\n",
       "      <td>35.794000</td>\n",
       "      <td>-79.012551</td>\n",
       "      <td>2015-03-24</td>\n",
       "      <td>train</td>\n",
       "      <td>spring</td>\n",
       "    </tr>\n",
       "    <tr>\n",
       "      <th>23568</th>\n",
       "      <td>zzyb</td>\n",
       "      <td>35.742000</td>\n",
       "      <td>-79.238600</td>\n",
       "      <td>2016-11-21</td>\n",
       "      <td>train</td>\n",
       "      <td>fall</td>\n",
       "    </tr>\n",
       "    <tr>\n",
       "      <th>23569</th>\n",
       "      <td>zzzi</td>\n",
       "      <td>39.767323</td>\n",
       "      <td>-96.028617</td>\n",
       "      <td>2015-08-31</td>\n",
       "      <td>test</td>\n",
       "      <td>summer</td>\n",
       "    </tr>\n",
       "  </tbody>\n",
       "</table>\n",
       "<p>23570 rows × 6 columns</p>\n",
       "</div>"
      ],
      "text/plain": [
       "        uid   latitude   longitude       date  split  season\n",
       "0      aabm  39.080319  -86.430867 2018-05-14  train  spring\n",
       "1      aabn  36.559700 -121.510000 2016-08-31   test  summer\n",
       "2      aacd  35.875083  -78.878434 2020-11-19  train    fall\n",
       "3      aaee  35.487000  -79.062133 2016-08-24  train  summer\n",
       "4      aaff  38.049471  -99.827001 2019-07-23  train  summer\n",
       "...     ...        ...         ...        ...    ...     ...\n",
       "23565  zzvv  36.708500 -121.749000 2014-12-02   test  winter\n",
       "23566  zzwo  39.792190  -99.971050 2017-06-19  train  summer\n",
       "23567  zzwq  35.794000  -79.012551 2015-03-24  train  spring\n",
       "23568  zzyb  35.742000  -79.238600 2016-11-21  train    fall\n",
       "23569  zzzi  39.767323  -96.028617 2015-08-31   test  summer\n",
       "\n",
       "[23570 rows x 6 columns]"
      ]
     },
     "execution_count": 74,
     "metadata": {},
     "output_type": "execute_result"
    }
   ],
   "source": [
    "metadata"
   ]
  },
  {
   "cell_type": "code",
   "execution_count": 75,
   "metadata": {},
   "outputs": [],
   "source": [
    "# # metadata.dtypes\n",
    "# undate = metadata.date[0].date()\n",
    "# # for undate in undates:\n",
    "# def single_date(undate):\n",
    "#     try:\n",
    "#         DB=[]\n",
    "#         for days_before in range(NUM_DAYS_BEFORE):\n",
    "#             date = undate -timedelta(days_before)\n"
   ]
  },
  {
   "cell_type": "code",
   "execution_count": 76,
   "metadata": {},
   "outputs": [
    {
     "data": {
      "text/plain": [
       "('2018-04-24', '2018-05-14')"
      ]
     },
     "execution_count": 76,
     "metadata": {},
     "output_type": "execute_result"
    }
   ],
   "source": [
    "str(metadata.loc[metadata.uid=='aabm','date'].iloc[0].date())\n",
    "# ee.Date(str(metadata.loc[metadata.uid=='aabm','date'].iloc[0].date()))\n",
    "END_DATE=metadata.loc[metadata.uid=='aabm','date'].iloc[0].date()\n",
    "time_buffer_days=20\n",
    "START_DATE=END_DATE-timedelta(days=time_buffer_days)\n",
    "str(START_DATE), str(END_DATE)"
   ]
  },
  {
   "cell_type": "code",
   "execution_count": 77,
   "metadata": {},
   "outputs": [
    {
     "data": {
      "text/plain": [
       "<ee.ee_date.Date at 0x7f3c07782340>"
      ]
     },
     "execution_count": 77,
     "metadata": {},
     "output_type": "execute_result"
    }
   ],
   "source": [
    "# plt.imshow(B4)\n",
    "# plt.show()\n",
    "# plt.imshow(RGB)\n",
    "# plt.show()\n",
    "import datetime\n",
    "# str(datetime.date(metadata.loc[metadata.uid=='aabm',['date']].date))\n",
    "ee.Date('2019-08-01')"
   ]
  },
  {
   "cell_type": "code",
   "execution_count": 65,
   "metadata": {},
   "outputs": [
    {
     "data": {
      "text/plain": [
       "(datetime.date(2018, 4, 24), datetime.date(2018, 5, 14))"
      ]
     },
     "execution_count": 65,
     "metadata": {},
     "output_type": "execute_result"
    }
   ],
   "source": [
    "START_DATE, END_DATE"
   ]
  },
  {
   "cell_type": "code",
   "execution_count": 66,
   "metadata": {
    "scrolled": true
   },
   "outputs": [],
   "source": [
    "#get the most recent image inbetween dates\n",
    "TIME_BUFFER_DAYS=20\n",
    "AREA_BUFFER = 500\n",
    "CLOUDS_LESS_THAN=30\n",
    "\n",
    "BASE_DIRs = 'EEtemp/S_t'+str(TIME_BUFFER_DAYS)+'_a'+str(AREA_BUFFER)+'_c'+str(CLOUDS_LESS_THAN)+'/'\n",
    "BASE_DIRl = 'EEtemp/L_t'+str(TIME_BUFFER_DAYS)+'_a'+str(AREA_BUFFER)+'_c'+str(CLOUDS_LESS_THAN)+'/'\n",
    "isExist = os.path.exists(BASE_DIRs)\n",
    "if not isExist:\n",
    "    os.makedirs(BASE_DIRs)\n",
    "isExist = os.path.exists(BASE_DIRl)\n",
    "if not isExist:\n",
    "    os.makedirs(BASE_DIRl)\n",
    "    \n",
    "# for uid in metadata.uid:\n",
    "def get_sentinel(START_DATE, END_DATE, AOI):\n",
    "\n",
    "    # ffa_db = ee.Image(ee.ImageCollection('COPERNICUS/S2_SR_HARMONIZED') \n",
    "    ffa_db = ee.Image(ee.ImageCollection('COPERNICUS/S2_HARMONIZED') \n",
    "                           .filterBounds(AOI) \n",
    "                           .filterDate(ee.Date(START_DATE), ee.Date(END_DATE))\n",
    "                           .filterMetadata('CLOUDY_PIXEL_PERCENTAGE', 'less_than', CLOUDS_LESS_THAN)\n",
    "    #                        .select('B2', 'B3', 'B4', 'B8')\n",
    "                           .sort('system:time_start', False)\n",
    "                           .first() \n",
    "                           .clip(AOI))\n",
    "    url=ffa_db.getDownloadURL()\n",
    "    return url\n",
    "def get_landsat(START_DATE, END_DATE, AOI):\n",
    "\n",
    "    # ffa_db = ee.Image(ee.ImageCollection('COPERNICUS/S2_SR_HARMONIZED') \n",
    "    ffa_db = ee.Image(ee.ImageCollection('LANDSAT/LC08/C01/T1_SR') \n",
    "                           .filterBounds(AOI) \n",
    "                           .filterDate(ee.Date(START_DATE), ee.Date(END_DATE))\n",
    "                           .filter('CLOUD_COVER < '+str(CLOUDS_LESS_THAN))\n",
    "    #                        .select('B2', 'B3', 'B4', 'B8')\n",
    "                           .sort('system:time_start', False)\n",
    "                           .first() \n",
    "                           .clip(AOI))\n",
    "    url=ffa_db.getDownloadURL()\n",
    "    return url\n",
    "\n",
    "def get_satellites(uid):\n",
    "    # uid=metadata.uid.iloc[1]\n",
    "    lat=metadata.latitude.loc[metadata.uid==uid].values[0]\n",
    "    long=metadata.longitude.loc[metadata.uid==uid].values[0]\n",
    "\n",
    "    END_DATE=metadata.loc[metadata.uid=='aabm','date'].iloc[0].date()\n",
    "    START_DATE=END_DATE-timedelta(days=TIME_BUFFER_DAYS)\n",
    "    START_DATE, END_DATE = str(START_DATE), str(END_DATE)\n",
    "\n",
    "    bbox = get_bounding_box(lat, long, meter_buffer=AREA_BUFFER)\n",
    "    polygon=[       [bbox[0],bbox[1]],\n",
    "                    [bbox[0],bbox[3]],\n",
    "                    [bbox[2],bbox[3]],\n",
    "                    [bbox[2],bbox[1]],\n",
    "                    [bbox[0],bbox[1]]  ]\n",
    "    AOI=ee.Geometry.Polygon(polygon)\n",
    "\n",
    "    try:\n",
    "        url=get_sentinel(START_DATE, END_DATE, AOI)\n",
    "        r = requests.get(f\"{url}\")\n",
    "\n",
    "        file=BASE_DIRs+uid+'/'    \n",
    "        z = zipfile.ZipFile(BytesIO(r.content))\n",
    "        z.extractall(file)    \n",
    "    except:\n",
    "        pass\n",
    "    \n",
    "    try:    \n",
    "        url=get_landsat(START_DATE, END_DATE, AOI)\n",
    "        r = requests.get(f\"{url}\")\n",
    "\n",
    "        file=BASE_DIRl+uid+'/'    \n",
    "        z = zipfile.ZipFile(BytesIO(r.content))\n",
    "        z.extractall(file)    \n",
    "    except:\n",
    "        pass\n",
    "    \n",
    "    \n",
    "# get_satellites(metadata.uid.iloc[1])    "
   ]
  },
  {
   "cell_type": "code",
   "execution_count": 72,
   "metadata": {},
   "outputs": [],
   "source": [
    "#get the oldest image inbetween dates\n",
    "# TIME_BUFFER_DAYS=20\n",
    "# AREA_BUFFER = 500\n",
    "# CLOUDS_LESS_THAN=30\n",
    "\n",
    "# BASE_DIRs = 'EEtemp/S_t'+str(TIME_BUFFER_DAYS)+'_a'+str(AREA_BUFFER)+'_c'+str(CLOUDS_LESS_THAN)+'first/'\n",
    "# BASE_DIRl = 'EEtemp/L_t'+str(TIME_BUFFER_DAYS)+'_a'+str(AREA_BUFFER)+'_c'+str(CLOUDS_LESS_THAN)+'first/'\n",
    "# isExist = os.path.exists(BASE_DIRs)\n",
    "# if not isExist:\n",
    "#     os.makedirs(BASE_DIRs)\n",
    "# isExist = os.path.exists(BASE_DIRl)\n",
    "# if not isExist:\n",
    "#     os.makedirs(BASE_DIRl)\n",
    "    \n",
    "# # for uid in metadata.uid:\n",
    "# def get_sentinel(START_DATE, END_DATE, AOI):\n",
    "\n",
    "#     ffa_db = ee.Image(ee.ImageCollection('COPERNICUS/S2_SR_HARMONIZED') \n",
    "# #     ffa_db = ee.Image(ee.ImageCollection('COPERNICUS/S2_HARMONIZED') \n",
    "#                            .filterBounds(AOI) \n",
    "#                            .filterDate(ee.Date(START_DATE), ee.Date(END_DATE))\n",
    "#                            .filterMetadata('CLOUDY_PIXEL_PERCENTAGE', 'less_than', CLOUDS_LESS_THAN)\n",
    "#     #                        .select('B2', 'B3', 'B4', 'B8')\n",
    "# #                            .sort('system:time_start', False)\n",
    "#                            .first() \n",
    "#                            .clip(AOI))\n",
    "#     url=ffa_db.getDownloadURL()\n",
    "#     return url\n",
    "# def get_landsat(START_DATE, END_DATE, AOI):\n",
    "\n",
    "#     # ffa_db = ee.Image(ee.ImageCollection('COPERNICUS/S2_SR_HARMONIZED') \n",
    "#     ffa_db = ee.Image(ee.ImageCollection('LANDSAT/LC08/C01/T1_SR') \n",
    "#                            .filterBounds(AOI) \n",
    "#                            .filterDate(ee.Date(START_DATE), ee.Date(END_DATE))\n",
    "#                            .filter('CLOUD_COVER < '+str(CLOUDS_LESS_THAN))\n",
    "#     #                        .select('B2', 'B3', 'B4', 'B8')\n",
    "# #                            .sort('system:time_start', False)\n",
    "#                            .first() \n",
    "#                            .clip(AOI))\n",
    "#     url=ffa_db.getDownloadURL()\n",
    "#     return url\n",
    "\n",
    "# def get_satellites(uid):\n",
    "#     # uid=metadata.uid.iloc[1]\n",
    "#     lat=metadata.latitude.loc[metadata.uid==uid].values[0]\n",
    "#     long=metadata.longitude.loc[metadata.uid==uid].values[0]\n",
    "\n",
    "#     END_DATE=metadata.loc[metadata.uid=='aabm','date'].iloc[0].date()\n",
    "#     START_DATE=END_DATE-timedelta(days=TIME_BUFFER_DAYS)\n",
    "#     START_DATE, END_DATE = str(START_DATE), str(END_DATE)\n",
    "\n",
    "#     bbox = get_bounding_box(lat, long, meter_buffer=AREA_BUFFER)\n",
    "#     polygon=[       [bbox[0],bbox[1]],\n",
    "#                     [bbox[0],bbox[3]],\n",
    "#                     [bbox[2],bbox[3]],\n",
    "#                     [bbox[2],bbox[1]],\n",
    "#                     [bbox[0],bbox[1]]  ]\n",
    "#     AOI=ee.Geometry.Polygon(polygon)\n",
    "\n",
    "#     try:\n",
    "#         url=get_sentinel(START_DATE, END_DATE, AOI)\n",
    "#         r = requests.get(f\"{url}\")\n",
    "\n",
    "#         file=BASE_DIRs+uid+'/'    \n",
    "#         z = zipfile.ZipFile(BytesIO(r.content))\n",
    "#         z.extractall(file)    \n",
    "#     except:\n",
    "#         pass\n",
    "    \n",
    "#     try:    \n",
    "#         url=get_landsat(START_DATE, END_DATE, AOI)\n",
    "#         r = requests.get(f\"{url}\")\n",
    "\n",
    "#         file=BASE_DIRl+uid+'/'    \n",
    "#         z = zipfile.ZipFile(BytesIO(r.content))\n",
    "#         z.extractall(file)    \n",
    "#     except:\n",
    "#         pass\n",
    "    \n",
    "    \n",
    "# # get_satellites(metadata.uid.iloc[1])    "
   ]
  },
  {
   "cell_type": "code",
   "execution_count": 68,
   "metadata": {},
   "outputs": [],
   "source": [
    "#get the Level1 image inbetween dates\n",
    "# TIME_BUFFER_DAYS=20\n",
    "# AREA_BUFFER = 500\n",
    "# # AREA_BUFFER = 100\n",
    "# CLOUDS_LESS_THAN=30\n",
    "\n",
    "# BASE_DIRs = 'EEtemp/S_t'+str(TIME_BUFFER_DAYS)+'_a'+str(AREA_BUFFER)+'_c'+str(CLOUDS_LESS_THAN)+'Level1/'\n",
    "# BASE_DIRl = 'EEtemp/L_t'+str(TIME_BUFFER_DAYS)+'_a'+str(AREA_BUFFER)+'_c'+str(CLOUDS_LESS_THAN)+'Tier1/'\n",
    "# isExist = os.path.exists(BASE_DIRs)\n",
    "# if not isExist:\n",
    "#     os.makedirs(BASE_DIRs)\n",
    "# isExist = os.path.exists(BASE_DIRl)\n",
    "# if not isExist:\n",
    "#     os.makedirs(BASE_DIRl)\n",
    "    \n",
    "# # for uid in metadata.uid:\n",
    "# def get_sentinel(START_DATE, END_DATE, AOI):\n",
    "\n",
    "#     # ffa_db = ee.Image(ee.ImageCollection('COPERNICUS/S2_SR_HARMONIZED') \n",
    "#     ffa_db = ee.Image(ee.ImageCollection('COPERNICUS/S2_HARMONIZED') \n",
    "#                            .filterBounds(AOI) \n",
    "#                            .filterDate(ee.Date(START_DATE), ee.Date(END_DATE))\n",
    "#                            .filterMetadata('CLOUDY_PIXEL_PERCENTAGE', 'less_than', CLOUDS_LESS_THAN)\n",
    "#     #                        .select('B2', 'B3', 'B4', 'B8')\n",
    "#                            .sort('system:time_start', False)\n",
    "#                            .first() \n",
    "#                            .clip(AOI))\n",
    "#     url=ffa_db.getDownloadURL()\n",
    "#     return url\n",
    "# def get_landsat(START_DATE, END_DATE, AOI):\n",
    "\n",
    "#     # ffa_db = ee.Image(ee.ImageCollection('COPERNICUS/S2_SR_HARMONIZED') \n",
    "#     ffa_db = ee.Image(ee.ImageCollection('LANDSAT/LC08/C01/T1') \n",
    "#                            .filterBounds(AOI) \n",
    "#                            .filterDate(ee.Date(START_DATE), ee.Date(END_DATE))\n",
    "#                            .filter('CLOUD_COVER < '+str(CLOUDS_LESS_THAN))\n",
    "#     #                        .select('B2', 'B3', 'B4', 'B8')\n",
    "#                            .sort('system:time_start', False)\n",
    "#                            .first() \n",
    "#                            .clip(AOI))\n",
    "#     url=ffa_db.getDownloadURL()\n",
    "#     return url\n",
    "\n",
    "# def get_satellites(uid):\n",
    "#     # uid=metadata.uid.iloc[1]\n",
    "#     lat=metadata.latitude.loc[metadata.uid==uid].values[0]\n",
    "#     long=metadata.longitude.loc[metadata.uid==uid].values[0]\n",
    "\n",
    "#     END_DATE=metadata.loc[metadata.uid=='aabm','date'].iloc[0].date()\n",
    "#     START_DATE=END_DATE-timedelta(days=TIME_BUFFER_DAYS)\n",
    "#     START_DATE, END_DATE = str(START_DATE), str(END_DATE)\n",
    "\n",
    "#     bbox = get_bounding_box(lat, long, meter_buffer=AREA_BUFFER)\n",
    "#     polygon=[       [bbox[0],bbox[1]],\n",
    "#                     [bbox[0],bbox[3]],\n",
    "#                     [bbox[2],bbox[3]],\n",
    "#                     [bbox[2],bbox[1]],\n",
    "#                     [bbox[0],bbox[1]]  ]\n",
    "#     AOI=ee.Geometry.Polygon(polygon)\n",
    "\n",
    "#     try:\n",
    "#         url=get_sentinel(START_DATE, END_DATE, AOI)\n",
    "#         r = requests.get(f\"{url}\")\n",
    "\n",
    "#         file=BASE_DIRs+uid+'/'    \n",
    "#         z = zipfile.ZipFile(BytesIO(r.content))\n",
    "#         z.extractall(file)    \n",
    "#     except:\n",
    "#         pass\n",
    "    \n",
    "#     try:    \n",
    "#         url=get_landsat(START_DATE, END_DATE, AOI)\n",
    "#         r = requests.get(f\"{url}\")\n",
    "\n",
    "#         file=BASE_DIRl+uid+'/'    \n",
    "#         z = zipfile.ZipFile(BytesIO(r.content))\n",
    "#         z.extractall(file)    \n",
    "#     except:\n",
    "#         pass\n",
    "    \n",
    "    \n",
    "# # get_satellites(metadata.uid.iloc[1])    "
   ]
  },
  {
   "cell_type": "code",
   "execution_count": 78,
   "metadata": {},
   "outputs": [
    {
     "data": {
      "text/plain": [
       "array(['aabm', 'aabn', 'aacd', ..., 'zzwq', 'zzyb', 'zzzi'], dtype=object)"
      ]
     },
     "execution_count": 78,
     "metadata": {},
     "output_type": "execute_result"
    }
   ],
   "source": [
    "metadata.uid.values"
   ]
  },
  {
   "cell_type": "code",
   "execution_count": null,
   "metadata": {},
   "outputs": [
    {
     "name": "stderr",
     "output_type": "stream",
     "text": [
      " 17%|█▋        | 4049/23570 [33:36<1:47:17,  3.03it/s] "
     ]
    }
   ],
   "source": [
    "import multiprocessing\n",
    "from multiprocessing import Pool\n",
    "\n",
    "pool = Pool(processes=8)\n",
    "# for _ in tqdm(pool.imap_unordered(get_satellites, metadata.uid.values)):\n",
    "for _ in tqdm(pool.imap_unordered(get_satellites, metadata.uid.values), total=len(metadata)):\n",
    "    \n",
    "    pass"
   ]
  },
  {
   "cell_type": "code",
   "execution_count": 586,
   "metadata": {},
   "outputs": [
    {
     "data": {
      "text/plain": [
       "49242"
      ]
     },
     "execution_count": 586,
     "metadata": {},
     "output_type": "execute_result"
    }
   ],
   "source": [
    "gc.collect()"
   ]
  },
  {
   "cell_type": "code",
   "execution_count": 71,
   "metadata": {},
   "outputs": [],
   "source": [
    "# s2_sr_col = (ee.ImageCollection('COPERNICUS/S2_SR_HARMONIZED')\n",
    "#         .filterBounds(AOI)\n",
    "#         .filterDate(START_DATE, END_DATE)\n",
    "#         .filter(ee.Filter.lte('CLOUDY_PIXEL_PERCENTAGE', CLOUD_FILTER)))\n"
   ]
  },
  {
   "cell_type": "code",
   "execution_count": 81,
   "metadata": {},
   "outputs": [],
   "source": [
    "# def add_cloud_bands(img):\n",
    "#     # Get s2cloudless image, subset the probability band.\n",
    "#     cld_prb = ee.Image(img.get('s2cloudless')).select('probability')\n",
    "\n",
    "#     # Condition s2cloudless by the probability threshold value.\n",
    "#     is_cloud = cld_prb.gt(CLD_PRB_THRESH).rename('clouds')\n",
    "\n",
    "#     # Add the cloud probability layer and cloud mask as image bands.\n",
    "#     return img.addBands(ee.Image([cld_prb, is_cloud]))\n",
    "# def add_shadow_bands(img):\n",
    "#     # Identify water pixels from the SCL band.\n",
    "#     not_water = img.select('SCL').neq(6)\n",
    "\n",
    "#     # Identify dark NIR pixels that are not water (potential cloud shadow pixels).\n",
    "#     SR_BAND_SCALE = 1e4\n",
    "#     dark_pixels = img.select('B8').lt(NIR_DRK_THRESH*SR_BAND_SCALE).multiply(not_water).rename('dark_pixels')\n",
    "\n",
    "#     # Determine the direction to project cloud shadow from clouds (assumes UTM projection).\n",
    "#     shadow_azimuth = ee.Number(90).subtract(ee.Number(img.get('MEAN_SOLAR_AZIMUTH_ANGLE')));\n",
    "\n",
    "#     # Project shadows from clouds for the distance specified by the CLD_PRJ_DIST input.\n",
    "#     cld_proj = (img.select('clouds').directionalDistanceTransform(shadow_azimuth, CLD_PRJ_DIST*10)\n",
    "#         .reproject(**{'crs': img.select(0).projection(), 'scale': 100})\n",
    "#         .select('distance')\n",
    "#         .mask()\n",
    "#         .rename('cloud_transform'))\n",
    "\n",
    "#     # Identify the intersection of dark pixels with cloud shadow projection.\n",
    "#     shadows = cld_proj.multiply(dark_pixels).rename('shadows')\n",
    "\n",
    "#     # Add dark pixels, cloud projection, and identified shadows as image bands.\n",
    "#     return img.addBands(ee.Image([dark_pixels, cld_proj, shadows]))\n",
    "# def add_cld_shdw_mask(img):\n",
    "#     # Add cloud component bands.\n",
    "#     img_cloud = add_cloud_bands(img)\n",
    "\n",
    "#     # Add cloud shadow component bands.\n",
    "#     img_cloud_shadow = add_shadow_bands(img_cloud)\n",
    "\n",
    "#     # Combine cloud and shadow mask, set cloud and shadow as value 1, else 0.\n",
    "#     is_cld_shdw = img_cloud_shadow.select('clouds').add(img_cloud_shadow.select('shadows')).gt(0)\n",
    "\n",
    "#     # Remove small cloud-shadow patches and dilate remaining pixels by BUFFER input.\n",
    "#     # 20 m scale is for speed, and assumes clouds don't require 10 m precision.\n",
    "#     is_cld_shdw = (is_cld_shdw.focalMin(2).focalMax(BUFFER*2/20)\n",
    "#         .reproject(**{'crs': img.select([0]).projection(), 'scale': 20})\n",
    "#         .rename('cloudmask'))\n",
    "\n",
    "#     # Add the final cloud-shadow mask to the image.\n",
    "#     return img_cloud_shadow.addBands(is_cld_shdw)\n"
   ]
  },
  {
   "cell_type": "code",
   "execution_count": null,
   "metadata": {},
   "outputs": [],
   "source": []
  },
  {
   "cell_type": "code",
   "execution_count": null,
   "metadata": {},
   "outputs": [],
   "source": []
  },
  {
   "cell_type": "code",
   "execution_count": null,
   "metadata": {},
   "outputs": [],
   "source": []
  }
 ],
 "metadata": {
  "colab": {
   "authorship_tag": "ABX9TyOSc2OvTGXSi0VpLOwRmlqC",
   "provenance": [
    {
     "file_id": "1g4Zk_MZ921O9jUl_p7vXYQlJ8K0Dca1A",
     "timestamp": 1671436706092
    },
    {
     "file_id": "1td1A96pr-GFAohrlPKNamiMoFIHDYT1B",
     "timestamp": 1671186589886
    }
   ]
  },
  "kernelspec": {
   "display_name": "Python 3 (ipykernel)",
   "language": "python",
   "name": "python3"
  },
  "language_info": {
   "codemirror_mode": {
    "name": "ipython",
    "version": 3
   },
   "file_extension": ".py",
   "mimetype": "text/x-python",
   "name": "python",
   "nbconvert_exporter": "python",
   "pygments_lexer": "ipython3",
   "version": "3.9.16"
  }
 },
 "nbformat": 4,
 "nbformat_minor": 1
}
